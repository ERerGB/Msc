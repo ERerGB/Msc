{
  "nbformat": 4,
  "nbformat_minor": 0,
  "metadata": {
    "colab": {
      "provenance": [],
      "authorship_tag": "ABX9TyMSWmDYI5GoLr74g0swJwle",
      "include_colab_link": true
    },
    "kernelspec": {
      "name": "python3",
      "display_name": "Python 3"
    },
    "language_info": {
      "name": "python"
    },
    "widgets": {
      "application/vnd.jupyter.widget-state+json": {
        "7596c3db88574ed4a8d7c492520cf932": {
          "model_module": "@jupyter-widgets/controls",
          "model_name": "HBoxModel",
          "model_module_version": "1.5.0",
          "state": {
            "_dom_classes": [],
            "_model_module": "@jupyter-widgets/controls",
            "_model_module_version": "1.5.0",
            "_model_name": "HBoxModel",
            "_view_count": null,
            "_view_module": "@jupyter-widgets/controls",
            "_view_module_version": "1.5.0",
            "_view_name": "HBoxView",
            "box_style": "",
            "children": [
              "IPY_MODEL_e20a52f14fac41848bba9f5071e0b2e8",
              "IPY_MODEL_a73bbcd3c7004d7e933c941a6cb43c1c",
              "IPY_MODEL_29e5f1d195b443909d37dd811ecbaeba"
            ],
            "layout": "IPY_MODEL_09bb6d286a4142608f5a59764ef9d825"
          }
        },
        "e20a52f14fac41848bba9f5071e0b2e8": {
          "model_module": "@jupyter-widgets/controls",
          "model_name": "HTMLModel",
          "model_module_version": "1.5.0",
          "state": {
            "_dom_classes": [],
            "_model_module": "@jupyter-widgets/controls",
            "_model_module_version": "1.5.0",
            "_model_name": "HTMLModel",
            "_view_count": null,
            "_view_module": "@jupyter-widgets/controls",
            "_view_module_version": "1.5.0",
            "_view_name": "HTMLView",
            "description": "",
            "description_tooltip": null,
            "layout": "IPY_MODEL_e3811f6d2fea44e18478115d4137200a",
            "placeholder": "​",
            "style": "IPY_MODEL_58994b69253b4985a6d8d8927c80ac48",
            "value": ""
          }
        },
        "a73bbcd3c7004d7e933c941a6cb43c1c": {
          "model_module": "@jupyter-widgets/controls",
          "model_name": "FloatProgressModel",
          "model_module_version": "1.5.0",
          "state": {
            "_dom_classes": [],
            "_model_module": "@jupyter-widgets/controls",
            "_model_module_version": "1.5.0",
            "_model_name": "FloatProgressModel",
            "_view_count": null,
            "_view_module": "@jupyter-widgets/controls",
            "_view_module_version": "1.5.0",
            "_view_name": "ProgressView",
            "bar_style": "success",
            "description": "",
            "description_tooltip": null,
            "layout": "IPY_MODEL_3101828955524066a578062f8720c269",
            "max": 26421880,
            "min": 0,
            "orientation": "horizontal",
            "style": "IPY_MODEL_a50da3395e6e4b28b6ff2ccdd3d6758a",
            "value": 26421880
          }
        },
        "29e5f1d195b443909d37dd811ecbaeba": {
          "model_module": "@jupyter-widgets/controls",
          "model_name": "HTMLModel",
          "model_module_version": "1.5.0",
          "state": {
            "_dom_classes": [],
            "_model_module": "@jupyter-widgets/controls",
            "_model_module_version": "1.5.0",
            "_model_name": "HTMLModel",
            "_view_count": null,
            "_view_module": "@jupyter-widgets/controls",
            "_view_module_version": "1.5.0",
            "_view_name": "HTMLView",
            "description": "",
            "description_tooltip": null,
            "layout": "IPY_MODEL_4b797c723a1446dbbe8d25b763716509",
            "placeholder": "​",
            "style": "IPY_MODEL_8a7fa3989bc642c484dd75f30b2de835",
            "value": " 26422272/? [00:00&lt;00:00, 84410011.17it/s]"
          }
        },
        "09bb6d286a4142608f5a59764ef9d825": {
          "model_module": "@jupyter-widgets/base",
          "model_name": "LayoutModel",
          "model_module_version": "1.2.0",
          "state": {
            "_model_module": "@jupyter-widgets/base",
            "_model_module_version": "1.2.0",
            "_model_name": "LayoutModel",
            "_view_count": null,
            "_view_module": "@jupyter-widgets/base",
            "_view_module_version": "1.2.0",
            "_view_name": "LayoutView",
            "align_content": null,
            "align_items": null,
            "align_self": null,
            "border": null,
            "bottom": null,
            "display": null,
            "flex": null,
            "flex_flow": null,
            "grid_area": null,
            "grid_auto_columns": null,
            "grid_auto_flow": null,
            "grid_auto_rows": null,
            "grid_column": null,
            "grid_gap": null,
            "grid_row": null,
            "grid_template_areas": null,
            "grid_template_columns": null,
            "grid_template_rows": null,
            "height": null,
            "justify_content": null,
            "justify_items": null,
            "left": null,
            "margin": null,
            "max_height": null,
            "max_width": null,
            "min_height": null,
            "min_width": null,
            "object_fit": null,
            "object_position": null,
            "order": null,
            "overflow": null,
            "overflow_x": null,
            "overflow_y": null,
            "padding": null,
            "right": null,
            "top": null,
            "visibility": null,
            "width": null
          }
        },
        "e3811f6d2fea44e18478115d4137200a": {
          "model_module": "@jupyter-widgets/base",
          "model_name": "LayoutModel",
          "model_module_version": "1.2.0",
          "state": {
            "_model_module": "@jupyter-widgets/base",
            "_model_module_version": "1.2.0",
            "_model_name": "LayoutModel",
            "_view_count": null,
            "_view_module": "@jupyter-widgets/base",
            "_view_module_version": "1.2.0",
            "_view_name": "LayoutView",
            "align_content": null,
            "align_items": null,
            "align_self": null,
            "border": null,
            "bottom": null,
            "display": null,
            "flex": null,
            "flex_flow": null,
            "grid_area": null,
            "grid_auto_columns": null,
            "grid_auto_flow": null,
            "grid_auto_rows": null,
            "grid_column": null,
            "grid_gap": null,
            "grid_row": null,
            "grid_template_areas": null,
            "grid_template_columns": null,
            "grid_template_rows": null,
            "height": null,
            "justify_content": null,
            "justify_items": null,
            "left": null,
            "margin": null,
            "max_height": null,
            "max_width": null,
            "min_height": null,
            "min_width": null,
            "object_fit": null,
            "object_position": null,
            "order": null,
            "overflow": null,
            "overflow_x": null,
            "overflow_y": null,
            "padding": null,
            "right": null,
            "top": null,
            "visibility": null,
            "width": null
          }
        },
        "58994b69253b4985a6d8d8927c80ac48": {
          "model_module": "@jupyter-widgets/controls",
          "model_name": "DescriptionStyleModel",
          "model_module_version": "1.5.0",
          "state": {
            "_model_module": "@jupyter-widgets/controls",
            "_model_module_version": "1.5.0",
            "_model_name": "DescriptionStyleModel",
            "_view_count": null,
            "_view_module": "@jupyter-widgets/base",
            "_view_module_version": "1.2.0",
            "_view_name": "StyleView",
            "description_width": ""
          }
        },
        "3101828955524066a578062f8720c269": {
          "model_module": "@jupyter-widgets/base",
          "model_name": "LayoutModel",
          "model_module_version": "1.2.0",
          "state": {
            "_model_module": "@jupyter-widgets/base",
            "_model_module_version": "1.2.0",
            "_model_name": "LayoutModel",
            "_view_count": null,
            "_view_module": "@jupyter-widgets/base",
            "_view_module_version": "1.2.0",
            "_view_name": "LayoutView",
            "align_content": null,
            "align_items": null,
            "align_self": null,
            "border": null,
            "bottom": null,
            "display": null,
            "flex": null,
            "flex_flow": null,
            "grid_area": null,
            "grid_auto_columns": null,
            "grid_auto_flow": null,
            "grid_auto_rows": null,
            "grid_column": null,
            "grid_gap": null,
            "grid_row": null,
            "grid_template_areas": null,
            "grid_template_columns": null,
            "grid_template_rows": null,
            "height": null,
            "justify_content": null,
            "justify_items": null,
            "left": null,
            "margin": null,
            "max_height": null,
            "max_width": null,
            "min_height": null,
            "min_width": null,
            "object_fit": null,
            "object_position": null,
            "order": null,
            "overflow": null,
            "overflow_x": null,
            "overflow_y": null,
            "padding": null,
            "right": null,
            "top": null,
            "visibility": null,
            "width": null
          }
        },
        "a50da3395e6e4b28b6ff2ccdd3d6758a": {
          "model_module": "@jupyter-widgets/controls",
          "model_name": "ProgressStyleModel",
          "model_module_version": "1.5.0",
          "state": {
            "_model_module": "@jupyter-widgets/controls",
            "_model_module_version": "1.5.0",
            "_model_name": "ProgressStyleModel",
            "_view_count": null,
            "_view_module": "@jupyter-widgets/base",
            "_view_module_version": "1.2.0",
            "_view_name": "StyleView",
            "bar_color": null,
            "description_width": ""
          }
        },
        "4b797c723a1446dbbe8d25b763716509": {
          "model_module": "@jupyter-widgets/base",
          "model_name": "LayoutModel",
          "model_module_version": "1.2.0",
          "state": {
            "_model_module": "@jupyter-widgets/base",
            "_model_module_version": "1.2.0",
            "_model_name": "LayoutModel",
            "_view_count": null,
            "_view_module": "@jupyter-widgets/base",
            "_view_module_version": "1.2.0",
            "_view_name": "LayoutView",
            "align_content": null,
            "align_items": null,
            "align_self": null,
            "border": null,
            "bottom": null,
            "display": null,
            "flex": null,
            "flex_flow": null,
            "grid_area": null,
            "grid_auto_columns": null,
            "grid_auto_flow": null,
            "grid_auto_rows": null,
            "grid_column": null,
            "grid_gap": null,
            "grid_row": null,
            "grid_template_areas": null,
            "grid_template_columns": null,
            "grid_template_rows": null,
            "height": null,
            "justify_content": null,
            "justify_items": null,
            "left": null,
            "margin": null,
            "max_height": null,
            "max_width": null,
            "min_height": null,
            "min_width": null,
            "object_fit": null,
            "object_position": null,
            "order": null,
            "overflow": null,
            "overflow_x": null,
            "overflow_y": null,
            "padding": null,
            "right": null,
            "top": null,
            "visibility": null,
            "width": null
          }
        },
        "8a7fa3989bc642c484dd75f30b2de835": {
          "model_module": "@jupyter-widgets/controls",
          "model_name": "DescriptionStyleModel",
          "model_module_version": "1.5.0",
          "state": {
            "_model_module": "@jupyter-widgets/controls",
            "_model_module_version": "1.5.0",
            "_model_name": "DescriptionStyleModel",
            "_view_count": null,
            "_view_module": "@jupyter-widgets/base",
            "_view_module_version": "1.2.0",
            "_view_name": "StyleView",
            "description_width": ""
          }
        },
        "60de2dc8015b4d4b842d062da78df22d": {
          "model_module": "@jupyter-widgets/controls",
          "model_name": "HBoxModel",
          "model_module_version": "1.5.0",
          "state": {
            "_dom_classes": [],
            "_model_module": "@jupyter-widgets/controls",
            "_model_module_version": "1.5.0",
            "_model_name": "HBoxModel",
            "_view_count": null,
            "_view_module": "@jupyter-widgets/controls",
            "_view_module_version": "1.5.0",
            "_view_name": "HBoxView",
            "box_style": "",
            "children": [
              "IPY_MODEL_9c736e0e06be417b9df6e2d0fe17448c",
              "IPY_MODEL_7ad723ebd5244571bdd81edabeaffc7d",
              "IPY_MODEL_e86a2b3b02cd4dc9b0253b14a07553cf"
            ],
            "layout": "IPY_MODEL_eece9a8397e64c9daf743362411e4ceb"
          }
        },
        "9c736e0e06be417b9df6e2d0fe17448c": {
          "model_module": "@jupyter-widgets/controls",
          "model_name": "HTMLModel",
          "model_module_version": "1.5.0",
          "state": {
            "_dom_classes": [],
            "_model_module": "@jupyter-widgets/controls",
            "_model_module_version": "1.5.0",
            "_model_name": "HTMLModel",
            "_view_count": null,
            "_view_module": "@jupyter-widgets/controls",
            "_view_module_version": "1.5.0",
            "_view_name": "HTMLView",
            "description": "",
            "description_tooltip": null,
            "layout": "IPY_MODEL_fe924ab01de54c6b9aec5d4b04435f5f",
            "placeholder": "​",
            "style": "IPY_MODEL_305efe9adc874c3282b32359cda98645",
            "value": ""
          }
        },
        "7ad723ebd5244571bdd81edabeaffc7d": {
          "model_module": "@jupyter-widgets/controls",
          "model_name": "FloatProgressModel",
          "model_module_version": "1.5.0",
          "state": {
            "_dom_classes": [],
            "_model_module": "@jupyter-widgets/controls",
            "_model_module_version": "1.5.0",
            "_model_name": "FloatProgressModel",
            "_view_count": null,
            "_view_module": "@jupyter-widgets/controls",
            "_view_module_version": "1.5.0",
            "_view_name": "ProgressView",
            "bar_style": "success",
            "description": "",
            "description_tooltip": null,
            "layout": "IPY_MODEL_4deee4c73521485995d44c6f76a54a73",
            "max": 29515,
            "min": 0,
            "orientation": "horizontal",
            "style": "IPY_MODEL_4203c1f90e6a403b964b0da4f8a959f7",
            "value": 29515
          }
        },
        "e86a2b3b02cd4dc9b0253b14a07553cf": {
          "model_module": "@jupyter-widgets/controls",
          "model_name": "HTMLModel",
          "model_module_version": "1.5.0",
          "state": {
            "_dom_classes": [],
            "_model_module": "@jupyter-widgets/controls",
            "_model_module_version": "1.5.0",
            "_model_name": "HTMLModel",
            "_view_count": null,
            "_view_module": "@jupyter-widgets/controls",
            "_view_module_version": "1.5.0",
            "_view_name": "HTMLView",
            "description": "",
            "description_tooltip": null,
            "layout": "IPY_MODEL_aaf094b0b0d34af59fa939162feecfd0",
            "placeholder": "​",
            "style": "IPY_MODEL_53eefdd50a1f4d9fb12c0d9fb3e74751",
            "value": " 29696/? [00:00&lt;00:00, 523068.22it/s]"
          }
        },
        "eece9a8397e64c9daf743362411e4ceb": {
          "model_module": "@jupyter-widgets/base",
          "model_name": "LayoutModel",
          "model_module_version": "1.2.0",
          "state": {
            "_model_module": "@jupyter-widgets/base",
            "_model_module_version": "1.2.0",
            "_model_name": "LayoutModel",
            "_view_count": null,
            "_view_module": "@jupyter-widgets/base",
            "_view_module_version": "1.2.0",
            "_view_name": "LayoutView",
            "align_content": null,
            "align_items": null,
            "align_self": null,
            "border": null,
            "bottom": null,
            "display": null,
            "flex": null,
            "flex_flow": null,
            "grid_area": null,
            "grid_auto_columns": null,
            "grid_auto_flow": null,
            "grid_auto_rows": null,
            "grid_column": null,
            "grid_gap": null,
            "grid_row": null,
            "grid_template_areas": null,
            "grid_template_columns": null,
            "grid_template_rows": null,
            "height": null,
            "justify_content": null,
            "justify_items": null,
            "left": null,
            "margin": null,
            "max_height": null,
            "max_width": null,
            "min_height": null,
            "min_width": null,
            "object_fit": null,
            "object_position": null,
            "order": null,
            "overflow": null,
            "overflow_x": null,
            "overflow_y": null,
            "padding": null,
            "right": null,
            "top": null,
            "visibility": null,
            "width": null
          }
        },
        "fe924ab01de54c6b9aec5d4b04435f5f": {
          "model_module": "@jupyter-widgets/base",
          "model_name": "LayoutModel",
          "model_module_version": "1.2.0",
          "state": {
            "_model_module": "@jupyter-widgets/base",
            "_model_module_version": "1.2.0",
            "_model_name": "LayoutModel",
            "_view_count": null,
            "_view_module": "@jupyter-widgets/base",
            "_view_module_version": "1.2.0",
            "_view_name": "LayoutView",
            "align_content": null,
            "align_items": null,
            "align_self": null,
            "border": null,
            "bottom": null,
            "display": null,
            "flex": null,
            "flex_flow": null,
            "grid_area": null,
            "grid_auto_columns": null,
            "grid_auto_flow": null,
            "grid_auto_rows": null,
            "grid_column": null,
            "grid_gap": null,
            "grid_row": null,
            "grid_template_areas": null,
            "grid_template_columns": null,
            "grid_template_rows": null,
            "height": null,
            "justify_content": null,
            "justify_items": null,
            "left": null,
            "margin": null,
            "max_height": null,
            "max_width": null,
            "min_height": null,
            "min_width": null,
            "object_fit": null,
            "object_position": null,
            "order": null,
            "overflow": null,
            "overflow_x": null,
            "overflow_y": null,
            "padding": null,
            "right": null,
            "top": null,
            "visibility": null,
            "width": null
          }
        },
        "305efe9adc874c3282b32359cda98645": {
          "model_module": "@jupyter-widgets/controls",
          "model_name": "DescriptionStyleModel",
          "model_module_version": "1.5.0",
          "state": {
            "_model_module": "@jupyter-widgets/controls",
            "_model_module_version": "1.5.0",
            "_model_name": "DescriptionStyleModel",
            "_view_count": null,
            "_view_module": "@jupyter-widgets/base",
            "_view_module_version": "1.2.0",
            "_view_name": "StyleView",
            "description_width": ""
          }
        },
        "4deee4c73521485995d44c6f76a54a73": {
          "model_module": "@jupyter-widgets/base",
          "model_name": "LayoutModel",
          "model_module_version": "1.2.0",
          "state": {
            "_model_module": "@jupyter-widgets/base",
            "_model_module_version": "1.2.0",
            "_model_name": "LayoutModel",
            "_view_count": null,
            "_view_module": "@jupyter-widgets/base",
            "_view_module_version": "1.2.0",
            "_view_name": "LayoutView",
            "align_content": null,
            "align_items": null,
            "align_self": null,
            "border": null,
            "bottom": null,
            "display": null,
            "flex": null,
            "flex_flow": null,
            "grid_area": null,
            "grid_auto_columns": null,
            "grid_auto_flow": null,
            "grid_auto_rows": null,
            "grid_column": null,
            "grid_gap": null,
            "grid_row": null,
            "grid_template_areas": null,
            "grid_template_columns": null,
            "grid_template_rows": null,
            "height": null,
            "justify_content": null,
            "justify_items": null,
            "left": null,
            "margin": null,
            "max_height": null,
            "max_width": null,
            "min_height": null,
            "min_width": null,
            "object_fit": null,
            "object_position": null,
            "order": null,
            "overflow": null,
            "overflow_x": null,
            "overflow_y": null,
            "padding": null,
            "right": null,
            "top": null,
            "visibility": null,
            "width": null
          }
        },
        "4203c1f90e6a403b964b0da4f8a959f7": {
          "model_module": "@jupyter-widgets/controls",
          "model_name": "ProgressStyleModel",
          "model_module_version": "1.5.0",
          "state": {
            "_model_module": "@jupyter-widgets/controls",
            "_model_module_version": "1.5.0",
            "_model_name": "ProgressStyleModel",
            "_view_count": null,
            "_view_module": "@jupyter-widgets/base",
            "_view_module_version": "1.2.0",
            "_view_name": "StyleView",
            "bar_color": null,
            "description_width": ""
          }
        },
        "aaf094b0b0d34af59fa939162feecfd0": {
          "model_module": "@jupyter-widgets/base",
          "model_name": "LayoutModel",
          "model_module_version": "1.2.0",
          "state": {
            "_model_module": "@jupyter-widgets/base",
            "_model_module_version": "1.2.0",
            "_model_name": "LayoutModel",
            "_view_count": null,
            "_view_module": "@jupyter-widgets/base",
            "_view_module_version": "1.2.0",
            "_view_name": "LayoutView",
            "align_content": null,
            "align_items": null,
            "align_self": null,
            "border": null,
            "bottom": null,
            "display": null,
            "flex": null,
            "flex_flow": null,
            "grid_area": null,
            "grid_auto_columns": null,
            "grid_auto_flow": null,
            "grid_auto_rows": null,
            "grid_column": null,
            "grid_gap": null,
            "grid_row": null,
            "grid_template_areas": null,
            "grid_template_columns": null,
            "grid_template_rows": null,
            "height": null,
            "justify_content": null,
            "justify_items": null,
            "left": null,
            "margin": null,
            "max_height": null,
            "max_width": null,
            "min_height": null,
            "min_width": null,
            "object_fit": null,
            "object_position": null,
            "order": null,
            "overflow": null,
            "overflow_x": null,
            "overflow_y": null,
            "padding": null,
            "right": null,
            "top": null,
            "visibility": null,
            "width": null
          }
        },
        "53eefdd50a1f4d9fb12c0d9fb3e74751": {
          "model_module": "@jupyter-widgets/controls",
          "model_name": "DescriptionStyleModel",
          "model_module_version": "1.5.0",
          "state": {
            "_model_module": "@jupyter-widgets/controls",
            "_model_module_version": "1.5.0",
            "_model_name": "DescriptionStyleModel",
            "_view_count": null,
            "_view_module": "@jupyter-widgets/base",
            "_view_module_version": "1.2.0",
            "_view_name": "StyleView",
            "description_width": ""
          }
        },
        "0434ab30881941c29fec7864873571fb": {
          "model_module": "@jupyter-widgets/controls",
          "model_name": "HBoxModel",
          "model_module_version": "1.5.0",
          "state": {
            "_dom_classes": [],
            "_model_module": "@jupyter-widgets/controls",
            "_model_module_version": "1.5.0",
            "_model_name": "HBoxModel",
            "_view_count": null,
            "_view_module": "@jupyter-widgets/controls",
            "_view_module_version": "1.5.0",
            "_view_name": "HBoxView",
            "box_style": "",
            "children": [
              "IPY_MODEL_3ede7696915748b48afcae8226d42786",
              "IPY_MODEL_440010078729482f83a8262db690be9b",
              "IPY_MODEL_c3ff83a6272d4904b9efe347ed9fb77b"
            ],
            "layout": "IPY_MODEL_f193d425f36d49fd99d9e2fd55439666"
          }
        },
        "3ede7696915748b48afcae8226d42786": {
          "model_module": "@jupyter-widgets/controls",
          "model_name": "HTMLModel",
          "model_module_version": "1.5.0",
          "state": {
            "_dom_classes": [],
            "_model_module": "@jupyter-widgets/controls",
            "_model_module_version": "1.5.0",
            "_model_name": "HTMLModel",
            "_view_count": null,
            "_view_module": "@jupyter-widgets/controls",
            "_view_module_version": "1.5.0",
            "_view_name": "HTMLView",
            "description": "",
            "description_tooltip": null,
            "layout": "IPY_MODEL_101d0f63f6ab4f7699eba593de36fa3e",
            "placeholder": "​",
            "style": "IPY_MODEL_e1f2b69cb79c4d4b90681adcc6a3550a",
            "value": ""
          }
        },
        "440010078729482f83a8262db690be9b": {
          "model_module": "@jupyter-widgets/controls",
          "model_name": "FloatProgressModel",
          "model_module_version": "1.5.0",
          "state": {
            "_dom_classes": [],
            "_model_module": "@jupyter-widgets/controls",
            "_model_module_version": "1.5.0",
            "_model_name": "FloatProgressModel",
            "_view_count": null,
            "_view_module": "@jupyter-widgets/controls",
            "_view_module_version": "1.5.0",
            "_view_name": "ProgressView",
            "bar_style": "success",
            "description": "",
            "description_tooltip": null,
            "layout": "IPY_MODEL_96bf0f52730d44a9881d04f85dcd65e4",
            "max": 4422102,
            "min": 0,
            "orientation": "horizontal",
            "style": "IPY_MODEL_88bda922f5564d6b915ba9eba93a1028",
            "value": 4422102
          }
        },
        "c3ff83a6272d4904b9efe347ed9fb77b": {
          "model_module": "@jupyter-widgets/controls",
          "model_name": "HTMLModel",
          "model_module_version": "1.5.0",
          "state": {
            "_dom_classes": [],
            "_model_module": "@jupyter-widgets/controls",
            "_model_module_version": "1.5.0",
            "_model_name": "HTMLModel",
            "_view_count": null,
            "_view_module": "@jupyter-widgets/controls",
            "_view_module_version": "1.5.0",
            "_view_name": "HTMLView",
            "description": "",
            "description_tooltip": null,
            "layout": "IPY_MODEL_c3c6c37727b247528947f5df788e8d07",
            "placeholder": "​",
            "style": "IPY_MODEL_033e798979d748aea58fde83bbce0dc8",
            "value": " 4422656/? [00:00&lt;00:00, 6922032.06it/s]"
          }
        },
        "f193d425f36d49fd99d9e2fd55439666": {
          "model_module": "@jupyter-widgets/base",
          "model_name": "LayoutModel",
          "model_module_version": "1.2.0",
          "state": {
            "_model_module": "@jupyter-widgets/base",
            "_model_module_version": "1.2.0",
            "_model_name": "LayoutModel",
            "_view_count": null,
            "_view_module": "@jupyter-widgets/base",
            "_view_module_version": "1.2.0",
            "_view_name": "LayoutView",
            "align_content": null,
            "align_items": null,
            "align_self": null,
            "border": null,
            "bottom": null,
            "display": null,
            "flex": null,
            "flex_flow": null,
            "grid_area": null,
            "grid_auto_columns": null,
            "grid_auto_flow": null,
            "grid_auto_rows": null,
            "grid_column": null,
            "grid_gap": null,
            "grid_row": null,
            "grid_template_areas": null,
            "grid_template_columns": null,
            "grid_template_rows": null,
            "height": null,
            "justify_content": null,
            "justify_items": null,
            "left": null,
            "margin": null,
            "max_height": null,
            "max_width": null,
            "min_height": null,
            "min_width": null,
            "object_fit": null,
            "object_position": null,
            "order": null,
            "overflow": null,
            "overflow_x": null,
            "overflow_y": null,
            "padding": null,
            "right": null,
            "top": null,
            "visibility": null,
            "width": null
          }
        },
        "101d0f63f6ab4f7699eba593de36fa3e": {
          "model_module": "@jupyter-widgets/base",
          "model_name": "LayoutModel",
          "model_module_version": "1.2.0",
          "state": {
            "_model_module": "@jupyter-widgets/base",
            "_model_module_version": "1.2.0",
            "_model_name": "LayoutModel",
            "_view_count": null,
            "_view_module": "@jupyter-widgets/base",
            "_view_module_version": "1.2.0",
            "_view_name": "LayoutView",
            "align_content": null,
            "align_items": null,
            "align_self": null,
            "border": null,
            "bottom": null,
            "display": null,
            "flex": null,
            "flex_flow": null,
            "grid_area": null,
            "grid_auto_columns": null,
            "grid_auto_flow": null,
            "grid_auto_rows": null,
            "grid_column": null,
            "grid_gap": null,
            "grid_row": null,
            "grid_template_areas": null,
            "grid_template_columns": null,
            "grid_template_rows": null,
            "height": null,
            "justify_content": null,
            "justify_items": null,
            "left": null,
            "margin": null,
            "max_height": null,
            "max_width": null,
            "min_height": null,
            "min_width": null,
            "object_fit": null,
            "object_position": null,
            "order": null,
            "overflow": null,
            "overflow_x": null,
            "overflow_y": null,
            "padding": null,
            "right": null,
            "top": null,
            "visibility": null,
            "width": null
          }
        },
        "e1f2b69cb79c4d4b90681adcc6a3550a": {
          "model_module": "@jupyter-widgets/controls",
          "model_name": "DescriptionStyleModel",
          "model_module_version": "1.5.0",
          "state": {
            "_model_module": "@jupyter-widgets/controls",
            "_model_module_version": "1.5.0",
            "_model_name": "DescriptionStyleModel",
            "_view_count": null,
            "_view_module": "@jupyter-widgets/base",
            "_view_module_version": "1.2.0",
            "_view_name": "StyleView",
            "description_width": ""
          }
        },
        "96bf0f52730d44a9881d04f85dcd65e4": {
          "model_module": "@jupyter-widgets/base",
          "model_name": "LayoutModel",
          "model_module_version": "1.2.0",
          "state": {
            "_model_module": "@jupyter-widgets/base",
            "_model_module_version": "1.2.0",
            "_model_name": "LayoutModel",
            "_view_count": null,
            "_view_module": "@jupyter-widgets/base",
            "_view_module_version": "1.2.0",
            "_view_name": "LayoutView",
            "align_content": null,
            "align_items": null,
            "align_self": null,
            "border": null,
            "bottom": null,
            "display": null,
            "flex": null,
            "flex_flow": null,
            "grid_area": null,
            "grid_auto_columns": null,
            "grid_auto_flow": null,
            "grid_auto_rows": null,
            "grid_column": null,
            "grid_gap": null,
            "grid_row": null,
            "grid_template_areas": null,
            "grid_template_columns": null,
            "grid_template_rows": null,
            "height": null,
            "justify_content": null,
            "justify_items": null,
            "left": null,
            "margin": null,
            "max_height": null,
            "max_width": null,
            "min_height": null,
            "min_width": null,
            "object_fit": null,
            "object_position": null,
            "order": null,
            "overflow": null,
            "overflow_x": null,
            "overflow_y": null,
            "padding": null,
            "right": null,
            "top": null,
            "visibility": null,
            "width": null
          }
        },
        "88bda922f5564d6b915ba9eba93a1028": {
          "model_module": "@jupyter-widgets/controls",
          "model_name": "ProgressStyleModel",
          "model_module_version": "1.5.0",
          "state": {
            "_model_module": "@jupyter-widgets/controls",
            "_model_module_version": "1.5.0",
            "_model_name": "ProgressStyleModel",
            "_view_count": null,
            "_view_module": "@jupyter-widgets/base",
            "_view_module_version": "1.2.0",
            "_view_name": "StyleView",
            "bar_color": null,
            "description_width": ""
          }
        },
        "c3c6c37727b247528947f5df788e8d07": {
          "model_module": "@jupyter-widgets/base",
          "model_name": "LayoutModel",
          "model_module_version": "1.2.0",
          "state": {
            "_model_module": "@jupyter-widgets/base",
            "_model_module_version": "1.2.0",
            "_model_name": "LayoutModel",
            "_view_count": null,
            "_view_module": "@jupyter-widgets/base",
            "_view_module_version": "1.2.0",
            "_view_name": "LayoutView",
            "align_content": null,
            "align_items": null,
            "align_self": null,
            "border": null,
            "bottom": null,
            "display": null,
            "flex": null,
            "flex_flow": null,
            "grid_area": null,
            "grid_auto_columns": null,
            "grid_auto_flow": null,
            "grid_auto_rows": null,
            "grid_column": null,
            "grid_gap": null,
            "grid_row": null,
            "grid_template_areas": null,
            "grid_template_columns": null,
            "grid_template_rows": null,
            "height": null,
            "justify_content": null,
            "justify_items": null,
            "left": null,
            "margin": null,
            "max_height": null,
            "max_width": null,
            "min_height": null,
            "min_width": null,
            "object_fit": null,
            "object_position": null,
            "order": null,
            "overflow": null,
            "overflow_x": null,
            "overflow_y": null,
            "padding": null,
            "right": null,
            "top": null,
            "visibility": null,
            "width": null
          }
        },
        "033e798979d748aea58fde83bbce0dc8": {
          "model_module": "@jupyter-widgets/controls",
          "model_name": "DescriptionStyleModel",
          "model_module_version": "1.5.0",
          "state": {
            "_model_module": "@jupyter-widgets/controls",
            "_model_module_version": "1.5.0",
            "_model_name": "DescriptionStyleModel",
            "_view_count": null,
            "_view_module": "@jupyter-widgets/base",
            "_view_module_version": "1.2.0",
            "_view_name": "StyleView",
            "description_width": ""
          }
        },
        "0ce98030e8144f429164b0ad735d5dd5": {
          "model_module": "@jupyter-widgets/controls",
          "model_name": "HBoxModel",
          "model_module_version": "1.5.0",
          "state": {
            "_dom_classes": [],
            "_model_module": "@jupyter-widgets/controls",
            "_model_module_version": "1.5.0",
            "_model_name": "HBoxModel",
            "_view_count": null,
            "_view_module": "@jupyter-widgets/controls",
            "_view_module_version": "1.5.0",
            "_view_name": "HBoxView",
            "box_style": "",
            "children": [
              "IPY_MODEL_22e147ae28764f19ae7e0547d5436921",
              "IPY_MODEL_3023884604e043728240a9c682d5ce02",
              "IPY_MODEL_01e742dd7beb477d991b313cea93d180"
            ],
            "layout": "IPY_MODEL_621e798b9d284a8db3012144a0f41652"
          }
        },
        "22e147ae28764f19ae7e0547d5436921": {
          "model_module": "@jupyter-widgets/controls",
          "model_name": "HTMLModel",
          "model_module_version": "1.5.0",
          "state": {
            "_dom_classes": [],
            "_model_module": "@jupyter-widgets/controls",
            "_model_module_version": "1.5.0",
            "_model_name": "HTMLModel",
            "_view_count": null,
            "_view_module": "@jupyter-widgets/controls",
            "_view_module_version": "1.5.0",
            "_view_name": "HTMLView",
            "description": "",
            "description_tooltip": null,
            "layout": "IPY_MODEL_72925afd7c1248e2bc6d6b86faf6e820",
            "placeholder": "​",
            "style": "IPY_MODEL_84f740f9a22a4981b59466688cc39d14",
            "value": ""
          }
        },
        "3023884604e043728240a9c682d5ce02": {
          "model_module": "@jupyter-widgets/controls",
          "model_name": "FloatProgressModel",
          "model_module_version": "1.5.0",
          "state": {
            "_dom_classes": [],
            "_model_module": "@jupyter-widgets/controls",
            "_model_module_version": "1.5.0",
            "_model_name": "FloatProgressModel",
            "_view_count": null,
            "_view_module": "@jupyter-widgets/controls",
            "_view_module_version": "1.5.0",
            "_view_name": "ProgressView",
            "bar_style": "success",
            "description": "",
            "description_tooltip": null,
            "layout": "IPY_MODEL_f2c1e51d0d68492e9e735a3b4f639100",
            "max": 5148,
            "min": 0,
            "orientation": "horizontal",
            "style": "IPY_MODEL_ce3240113f8e49428e25d8af33d6f1a1",
            "value": 5148
          }
        },
        "01e742dd7beb477d991b313cea93d180": {
          "model_module": "@jupyter-widgets/controls",
          "model_name": "HTMLModel",
          "model_module_version": "1.5.0",
          "state": {
            "_dom_classes": [],
            "_model_module": "@jupyter-widgets/controls",
            "_model_module_version": "1.5.0",
            "_model_name": "HTMLModel",
            "_view_count": null,
            "_view_module": "@jupyter-widgets/controls",
            "_view_module_version": "1.5.0",
            "_view_name": "HTMLView",
            "description": "",
            "description_tooltip": null,
            "layout": "IPY_MODEL_a684a61e6abe4ccfa42dda1ab4bd91cd",
            "placeholder": "​",
            "style": "IPY_MODEL_83ef0594119d492a8976509fd9df0d07",
            "value": " 6144/? [00:00&lt;00:00, 112423.40it/s]"
          }
        },
        "621e798b9d284a8db3012144a0f41652": {
          "model_module": "@jupyter-widgets/base",
          "model_name": "LayoutModel",
          "model_module_version": "1.2.0",
          "state": {
            "_model_module": "@jupyter-widgets/base",
            "_model_module_version": "1.2.0",
            "_model_name": "LayoutModel",
            "_view_count": null,
            "_view_module": "@jupyter-widgets/base",
            "_view_module_version": "1.2.0",
            "_view_name": "LayoutView",
            "align_content": null,
            "align_items": null,
            "align_self": null,
            "border": null,
            "bottom": null,
            "display": null,
            "flex": null,
            "flex_flow": null,
            "grid_area": null,
            "grid_auto_columns": null,
            "grid_auto_flow": null,
            "grid_auto_rows": null,
            "grid_column": null,
            "grid_gap": null,
            "grid_row": null,
            "grid_template_areas": null,
            "grid_template_columns": null,
            "grid_template_rows": null,
            "height": null,
            "justify_content": null,
            "justify_items": null,
            "left": null,
            "margin": null,
            "max_height": null,
            "max_width": null,
            "min_height": null,
            "min_width": null,
            "object_fit": null,
            "object_position": null,
            "order": null,
            "overflow": null,
            "overflow_x": null,
            "overflow_y": null,
            "padding": null,
            "right": null,
            "top": null,
            "visibility": null,
            "width": null
          }
        },
        "72925afd7c1248e2bc6d6b86faf6e820": {
          "model_module": "@jupyter-widgets/base",
          "model_name": "LayoutModel",
          "model_module_version": "1.2.0",
          "state": {
            "_model_module": "@jupyter-widgets/base",
            "_model_module_version": "1.2.0",
            "_model_name": "LayoutModel",
            "_view_count": null,
            "_view_module": "@jupyter-widgets/base",
            "_view_module_version": "1.2.0",
            "_view_name": "LayoutView",
            "align_content": null,
            "align_items": null,
            "align_self": null,
            "border": null,
            "bottom": null,
            "display": null,
            "flex": null,
            "flex_flow": null,
            "grid_area": null,
            "grid_auto_columns": null,
            "grid_auto_flow": null,
            "grid_auto_rows": null,
            "grid_column": null,
            "grid_gap": null,
            "grid_row": null,
            "grid_template_areas": null,
            "grid_template_columns": null,
            "grid_template_rows": null,
            "height": null,
            "justify_content": null,
            "justify_items": null,
            "left": null,
            "margin": null,
            "max_height": null,
            "max_width": null,
            "min_height": null,
            "min_width": null,
            "object_fit": null,
            "object_position": null,
            "order": null,
            "overflow": null,
            "overflow_x": null,
            "overflow_y": null,
            "padding": null,
            "right": null,
            "top": null,
            "visibility": null,
            "width": null
          }
        },
        "84f740f9a22a4981b59466688cc39d14": {
          "model_module": "@jupyter-widgets/controls",
          "model_name": "DescriptionStyleModel",
          "model_module_version": "1.5.0",
          "state": {
            "_model_module": "@jupyter-widgets/controls",
            "_model_module_version": "1.5.0",
            "_model_name": "DescriptionStyleModel",
            "_view_count": null,
            "_view_module": "@jupyter-widgets/base",
            "_view_module_version": "1.2.0",
            "_view_name": "StyleView",
            "description_width": ""
          }
        },
        "f2c1e51d0d68492e9e735a3b4f639100": {
          "model_module": "@jupyter-widgets/base",
          "model_name": "LayoutModel",
          "model_module_version": "1.2.0",
          "state": {
            "_model_module": "@jupyter-widgets/base",
            "_model_module_version": "1.2.0",
            "_model_name": "LayoutModel",
            "_view_count": null,
            "_view_module": "@jupyter-widgets/base",
            "_view_module_version": "1.2.0",
            "_view_name": "LayoutView",
            "align_content": null,
            "align_items": null,
            "align_self": null,
            "border": null,
            "bottom": null,
            "display": null,
            "flex": null,
            "flex_flow": null,
            "grid_area": null,
            "grid_auto_columns": null,
            "grid_auto_flow": null,
            "grid_auto_rows": null,
            "grid_column": null,
            "grid_gap": null,
            "grid_row": null,
            "grid_template_areas": null,
            "grid_template_columns": null,
            "grid_template_rows": null,
            "height": null,
            "justify_content": null,
            "justify_items": null,
            "left": null,
            "margin": null,
            "max_height": null,
            "max_width": null,
            "min_height": null,
            "min_width": null,
            "object_fit": null,
            "object_position": null,
            "order": null,
            "overflow": null,
            "overflow_x": null,
            "overflow_y": null,
            "padding": null,
            "right": null,
            "top": null,
            "visibility": null,
            "width": null
          }
        },
        "ce3240113f8e49428e25d8af33d6f1a1": {
          "model_module": "@jupyter-widgets/controls",
          "model_name": "ProgressStyleModel",
          "model_module_version": "1.5.0",
          "state": {
            "_model_module": "@jupyter-widgets/controls",
            "_model_module_version": "1.5.0",
            "_model_name": "ProgressStyleModel",
            "_view_count": null,
            "_view_module": "@jupyter-widgets/base",
            "_view_module_version": "1.2.0",
            "_view_name": "StyleView",
            "bar_color": null,
            "description_width": ""
          }
        },
        "a684a61e6abe4ccfa42dda1ab4bd91cd": {
          "model_module": "@jupyter-widgets/base",
          "model_name": "LayoutModel",
          "model_module_version": "1.2.0",
          "state": {
            "_model_module": "@jupyter-widgets/base",
            "_model_module_version": "1.2.0",
            "_model_name": "LayoutModel",
            "_view_count": null,
            "_view_module": "@jupyter-widgets/base",
            "_view_module_version": "1.2.0",
            "_view_name": "LayoutView",
            "align_content": null,
            "align_items": null,
            "align_self": null,
            "border": null,
            "bottom": null,
            "display": null,
            "flex": null,
            "flex_flow": null,
            "grid_area": null,
            "grid_auto_columns": null,
            "grid_auto_flow": null,
            "grid_auto_rows": null,
            "grid_column": null,
            "grid_gap": null,
            "grid_row": null,
            "grid_template_areas": null,
            "grid_template_columns": null,
            "grid_template_rows": null,
            "height": null,
            "justify_content": null,
            "justify_items": null,
            "left": null,
            "margin": null,
            "max_height": null,
            "max_width": null,
            "min_height": null,
            "min_width": null,
            "object_fit": null,
            "object_position": null,
            "order": null,
            "overflow": null,
            "overflow_x": null,
            "overflow_y": null,
            "padding": null,
            "right": null,
            "top": null,
            "visibility": null,
            "width": null
          }
        },
        "83ef0594119d492a8976509fd9df0d07": {
          "model_module": "@jupyter-widgets/controls",
          "model_name": "DescriptionStyleModel",
          "model_module_version": "1.5.0",
          "state": {
            "_model_module": "@jupyter-widgets/controls",
            "_model_module_version": "1.5.0",
            "_model_name": "DescriptionStyleModel",
            "_view_count": null,
            "_view_module": "@jupyter-widgets/base",
            "_view_module_version": "1.2.0",
            "_view_name": "StyleView",
            "description_width": ""
          }
        }
      }
    }
  },
  "cells": [
    {
      "cell_type": "markdown",
      "metadata": {
        "id": "view-in-github",
        "colab_type": "text"
      },
      "source": [
        "<a href=\"https://colab.research.google.com/github/ERerGB/Msc/blob/main/NNDL_PCoursework.ipynb\" target=\"_parent\"><img src=\"https://colab.research.google.com/assets/colab-badge.svg\" alt=\"Open In Colab\"/></a>"
      ]
    },
    {
      "cell_type": "markdown",
      "source": [
        "![image.png](data:image/png;base64,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)"
      ],
      "metadata": {
        "id": "XfSDA5saLa_q"
      }
    },
    {
      "cell_type": "code",
      "metadata": {
        "id": "SYeUl0GqTiPg",
        "colab": {
          "base_uri": "https://localhost:8080/"
        },
        "outputId": "ff039539-9721-4579-8734-4e7a0f3d8d64"
      },
      "source": [
        "# Setting up google drive \n",
        "from google.colab import drive\n",
        "drive.mount('/content/gdrive', force_remount=True)\n",
        "import sys\n",
        "sys.path.append('/content/gdrive/MyDrive/Colab Notebooks')"
      ],
      "execution_count": null,
      "outputs": [
        {
          "output_type": "stream",
          "name": "stdout",
          "text": [
            "Mounted at /content/gdrive\n"
          ]
        }
      ]
    },
    {
      "cell_type": "code",
      "metadata": {
        "id": "gKJRukyjTeTR"
      },
      "source": [
        "import my_utils as mu\n",
        "import torch\n",
        "from torch import nn"
      ],
      "execution_count": null,
      "outputs": []
    },
    {
      "cell_type": "code",
      "execution_count": null,
      "metadata": {
        "id": "UmXWDfdpLUnp",
        "colab": {
          "base_uri": "https://localhost:8080/",
          "height": 489,
          "referenced_widgets": [
            "7596c3db88574ed4a8d7c492520cf932",
            "e20a52f14fac41848bba9f5071e0b2e8",
            "a73bbcd3c7004d7e933c941a6cb43c1c",
            "29e5f1d195b443909d37dd811ecbaeba",
            "09bb6d286a4142608f5a59764ef9d825",
            "e3811f6d2fea44e18478115d4137200a",
            "58994b69253b4985a6d8d8927c80ac48",
            "3101828955524066a578062f8720c269",
            "a50da3395e6e4b28b6ff2ccdd3d6758a",
            "4b797c723a1446dbbe8d25b763716509",
            "8a7fa3989bc642c484dd75f30b2de835",
            "60de2dc8015b4d4b842d062da78df22d",
            "9c736e0e06be417b9df6e2d0fe17448c",
            "7ad723ebd5244571bdd81edabeaffc7d",
            "e86a2b3b02cd4dc9b0253b14a07553cf",
            "eece9a8397e64c9daf743362411e4ceb",
            "fe924ab01de54c6b9aec5d4b04435f5f",
            "305efe9adc874c3282b32359cda98645",
            "4deee4c73521485995d44c6f76a54a73",
            "4203c1f90e6a403b964b0da4f8a959f7",
            "aaf094b0b0d34af59fa939162feecfd0",
            "53eefdd50a1f4d9fb12c0d9fb3e74751",
            "0434ab30881941c29fec7864873571fb",
            "3ede7696915748b48afcae8226d42786",
            "440010078729482f83a8262db690be9b",
            "c3ff83a6272d4904b9efe347ed9fb77b",
            "f193d425f36d49fd99d9e2fd55439666",
            "101d0f63f6ab4f7699eba593de36fa3e",
            "e1f2b69cb79c4d4b90681adcc6a3550a",
            "96bf0f52730d44a9881d04f85dcd65e4",
            "88bda922f5564d6b915ba9eba93a1028",
            "c3c6c37727b247528947f5df788e8d07",
            "033e798979d748aea58fde83bbce0dc8",
            "0ce98030e8144f429164b0ad735d5dd5",
            "22e147ae28764f19ae7e0547d5436921",
            "3023884604e043728240a9c682d5ce02",
            "01e742dd7beb477d991b313cea93d180",
            "621e798b9d284a8db3012144a0f41652",
            "72925afd7c1248e2bc6d6b86faf6e820",
            "84f740f9a22a4981b59466688cc39d14",
            "f2c1e51d0d68492e9e735a3b4f639100",
            "ce3240113f8e49428e25d8af33d6f1a1",
            "a684a61e6abe4ccfa42dda1ab4bd91cd",
            "83ef0594119d492a8976509fd9df0d07"
          ]
        },
        "outputId": "fca472fa-1ee3-47a9-b736-454ecaadf7a9"
      },
      "outputs": [
        {
          "output_type": "stream",
          "name": "stdout",
          "text": [
            "Downloading http://fashion-mnist.s3-website.eu-central-1.amazonaws.com/train-images-idx3-ubyte.gz\n",
            "Downloading http://fashion-mnist.s3-website.eu-central-1.amazonaws.com/train-images-idx3-ubyte.gz to ../data/FashionMNIST/raw/train-images-idx3-ubyte.gz\n"
          ]
        },
        {
          "output_type": "display_data",
          "data": {
            "text/plain": [
              "  0%|          | 0/26421880 [00:00<?, ?it/s]"
            ],
            "application/vnd.jupyter.widget-view+json": {
              "version_major": 2,
              "version_minor": 0,
              "model_id": "7596c3db88574ed4a8d7c492520cf932"
            }
          },
          "metadata": {}
        },
        {
          "output_type": "stream",
          "name": "stdout",
          "text": [
            "Extracting ../data/FashionMNIST/raw/train-images-idx3-ubyte.gz to ../data/FashionMNIST/raw\n",
            "\n",
            "Downloading http://fashion-mnist.s3-website.eu-central-1.amazonaws.com/train-labels-idx1-ubyte.gz\n",
            "Downloading http://fashion-mnist.s3-website.eu-central-1.amazonaws.com/train-labels-idx1-ubyte.gz to ../data/FashionMNIST/raw/train-labels-idx1-ubyte.gz\n"
          ]
        },
        {
          "output_type": "display_data",
          "data": {
            "text/plain": [
              "  0%|          | 0/29515 [00:00<?, ?it/s]"
            ],
            "application/vnd.jupyter.widget-view+json": {
              "version_major": 2,
              "version_minor": 0,
              "model_id": "60de2dc8015b4d4b842d062da78df22d"
            }
          },
          "metadata": {}
        },
        {
          "output_type": "stream",
          "name": "stdout",
          "text": [
            "Extracting ../data/FashionMNIST/raw/train-labels-idx1-ubyte.gz to ../data/FashionMNIST/raw\n",
            "\n",
            "Downloading http://fashion-mnist.s3-website.eu-central-1.amazonaws.com/t10k-images-idx3-ubyte.gz\n",
            "Downloading http://fashion-mnist.s3-website.eu-central-1.amazonaws.com/t10k-images-idx3-ubyte.gz to ../data/FashionMNIST/raw/t10k-images-idx3-ubyte.gz\n"
          ]
        },
        {
          "output_type": "display_data",
          "data": {
            "text/plain": [
              "  0%|          | 0/4422102 [00:00<?, ?it/s]"
            ],
            "application/vnd.jupyter.widget-view+json": {
              "version_major": 2,
              "version_minor": 0,
              "model_id": "0434ab30881941c29fec7864873571fb"
            }
          },
          "metadata": {}
        },
        {
          "output_type": "stream",
          "name": "stdout",
          "text": [
            "Extracting ../data/FashionMNIST/raw/t10k-images-idx3-ubyte.gz to ../data/FashionMNIST/raw\n",
            "\n",
            "Downloading http://fashion-mnist.s3-website.eu-central-1.amazonaws.com/t10k-labels-idx1-ubyte.gz\n",
            "Downloading http://fashion-mnist.s3-website.eu-central-1.amazonaws.com/t10k-labels-idx1-ubyte.gz to ../data/FashionMNIST/raw/t10k-labels-idx1-ubyte.gz\n"
          ]
        },
        {
          "output_type": "display_data",
          "data": {
            "text/plain": [
              "  0%|          | 0/5148 [00:00<?, ?it/s]"
            ],
            "application/vnd.jupyter.widget-view+json": {
              "version_major": 2,
              "version_minor": 0,
              "model_id": "0ce98030e8144f429164b0ad735d5dd5"
            }
          },
          "metadata": {}
        },
        {
          "output_type": "stream",
          "name": "stdout",
          "text": [
            "Extracting ../data/FashionMNIST/raw/t10k-labels-idx1-ubyte.gz to ../data/FashionMNIST/raw\n",
            "\n"
          ]
        },
        {
          "output_type": "stream",
          "name": "stderr",
          "text": [
            "/usr/local/lib/python3.7/dist-packages/torch/utils/data/dataloader.py:481: UserWarning: This DataLoader will create 4 worker processes in total. Our suggested max number of worker in current system is 2, which is smaller than what this DataLoader is going to create. Please be aware that excessive worker creation might get DataLoader running slow or even freeze, lower the worker number to avoid potential slowness/freeze if necessary.\n",
            "  cpuset_checked))\n"
          ]
        }
      ],
      "source": [
        "# Read dataset and create dataloaders\n",
        "batch_size = 256\n",
        "train_iter, test_iter = mu.load_data_fashion_mnist(batch_size)\n",
        "# type(train_iter)"
      ]
    },
    {
      "cell_type": "code",
      "source": [
        "# Creat the model"
      ],
      "metadata": {
        "id": "8kCt2Jeajhk0"
      },
      "execution_count": null,
      "outputs": []
    },
    {
      "cell_type": "code",
      "source": [
        "# Stem\n",
        "class Stem(nn.Module):\n",
        "    def __init__(self, kernal_size, hidden_channels, output_channels):\n",
        "      super(Stem, self).__init__()\n",
        "      self.kernal_size = kernal_size\n",
        "      self.hidden_channels = hidden_channels\n",
        "      self.output_channels = output_channels\n",
        "\n",
        "      #self.Maxpool = nn.MaxPool2d(kernal_size, kernal_size, 0)\n",
        "      self.unfold = nn.Unfold((kernal_size,kernal_size),stride = kernal_size)\n",
        "      #self.Fltn = nn.Flatten()\n",
        "      self.stem_Linear1 = nn.Linear(kernal_size**2,  hidden_channels)\n",
        "      self.stem_Linear2 = nn.Linear(hidden_channels, output_channels)\n",
        "\n",
        "    def forward(self, x):\n",
        "      #out = self.Maxpool(x)\n",
        "      #out = self.Fltn(out)\n",
        "      #print(x.size())\n",
        "      out = self.unfold(x).transpose(1,2)\n",
        "      #print(out.size())\n",
        "      #out = out.squeeze()\n",
        "      #out = torch.transpose(out, 1, 2)\n",
        "      #print(out.size())\n",
        "      out = self.stem_Linear1(out)\n",
        "      out = self.stem_Linear2(out)\n",
        "      return out\n",
        "\n"
      ],
      "metadata": {
        "id": "RuaOH6iRQIoz"
      },
      "execution_count": null,
      "outputs": []
    },
    {
      "cell_type": "code",
      "source": [
        "# Single Backbone\n",
        "class Backbone(nn.Module):\n",
        "    def __init__(self, input_channels, hidden_channels_1, output_channels_1, input_channels_2, hidden_channels_2, output_channels_2):\n",
        "      super(Backbone, self).__init__()\n",
        "      self.input_channels = input_channels\n",
        "      self.hidden_channels_1 = hidden_channels_1\n",
        "      self.output_channels_1 = output_channels_1\n",
        "      self.input_channels_2 = input_channels_2\n",
        "      self.hidden_channels_2 = hidden_channels_2\n",
        "      self.output_channels_2 = output_channels_2\n",
        "\n",
        "      self.backbone_Linear1 = nn.Linear(input_channels,hidden_channels_1)\n",
        "      self.relu_1 = nn.ReLU()\n",
        "      self.backbone_Linear2 = nn.Linear(hidden_channels_1,output_channels_1)\n",
        "      \n",
        "      self.backbone_Linear3 = nn.Linear(input_channels_2,hidden_channels_2)\n",
        "      self.relu_2 = nn.ReLU()\n",
        "      self.backbone_Linear4 = nn.Linear(hidden_channels_2,output_channels_2)\n",
        "      \n",
        "\n",
        "      \n",
        "    def forward(self,x):\n",
        "      out = x\n",
        "      #print(x.size())\n",
        "      #out = torch.transpose(out, 1, 2)\n",
        "      #print(out.size())\n",
        "      out = self.backbone_Linear1(out.transpose(1, 2))\n",
        "      #print(out.size())\n",
        "      out = self.relu_1(out)\n",
        "      #print(out.size())\n",
        "      out = self.backbone_Linear2(out)\n",
        "      #print(out.size())\n",
        "      #out = torch.transpose(out, 1, 2)\n",
        "      #print(out.size())\n",
        "      out = self.backbone_Linear3(out.transpose(1, 2))\n",
        "      #print(out.size())\n",
        "      out = self.relu_2(out)\n",
        "      #print(out.size())\n",
        "      out = self.backbone_Linear4(out)\n",
        "      #print(out.size())\n",
        "      #out = torch.mean(out, dim =1)\n",
        "      return out\n"
      ],
      "metadata": {
        "id": "nWKZY53sJgEq"
      },
      "execution_count": null,
      "outputs": []
    },
    {
      "cell_type": "code",
      "source": [
        "class CustomNet(nn.Module):\n",
        "    def __init__(self, kernal_size, hidden_channels, output_channels, bn_arch):\n",
        "        super(CustomNet, self).__init__()\n",
        "\n",
        "        input_channels = pow(int(28/kernal_size),2)\n",
        "        input_channels_2 = output_channels\n",
        "        self.bn_arch = bn_arch\n",
        "        \n",
        "        self.Stem = Stem(kernal_size, hidden_channels, output_channels)\n",
        "        for i, (hidden_channels_1, output_channels_1, hidden_channels_2, output_channels_2) in enumerate(bn_arch):\n",
        "            self.add_module('Backbone{0}'.format(i), Backbone(input_channels, hidden_channels_1, output_channels_1, input_channels_2, hidden_channels_2, output_channels_2))\n",
        "            input_channels = output_channels_1\n",
        "            input_channels_2 = output_channels_2\n",
        "        \n",
        "    def forward(self, x):\n",
        "        out = self.Stem(x)\n",
        "        for i in range(len(self.bn_arch)):\n",
        "            out = self._modules['Backbone{0}'.format(i)](out)\n",
        "        out = torch.mean(out, dim =1)\n",
        "        #print(out.size())\n",
        "        return out"
      ],
      "metadata": {
        "id": "JX4cIBTEsLU_"
      },
      "execution_count": null,
      "outputs": []
    },
    {
      "cell_type": "code",
      "source": [
        "bn_arch = ((20,30,70,50),(20,16,30,10))\n",
        "net = CustomNet(7,70,100,bn_arch)"
      ],
      "metadata": {
        "id": "wV2OhuYew9_n"
      },
      "execution_count": null,
      "outputs": []
    },
    {
      "cell_type": "code",
      "source": [
        "print(net)"
      ],
      "metadata": {
        "colab": {
          "base_uri": "https://localhost:8080/"
        },
        "id": "6PVmeDlRxy3Q",
        "outputId": "c4e36bd2-368d-4e27-f60b-d82ece96d266"
      },
      "execution_count": null,
      "outputs": [
        {
          "output_type": "stream",
          "name": "stdout",
          "text": [
            "CustomNet(\n",
            "  (Stem): Stem(\n",
            "    (unfold): Unfold(kernel_size=(7, 7), dilation=1, padding=0, stride=7)\n",
            "    (stem_Linear1): Linear(in_features=49, out_features=70, bias=True)\n",
            "    (stem_Linear2): Linear(in_features=70, out_features=100, bias=True)\n",
            "  )\n",
            "  (Backbone0): Backbone(\n",
            "    (backbone_Linear1): Linear(in_features=16, out_features=20, bias=True)\n",
            "    (relu_1): ReLU()\n",
            "    (backbone_Linear2): Linear(in_features=20, out_features=30, bias=True)\n",
            "    (backbone_Linear3): Linear(in_features=100, out_features=70, bias=True)\n",
            "    (relu_2): ReLU()\n",
            "    (backbone_Linear4): Linear(in_features=70, out_features=50, bias=True)\n",
            "  )\n",
            "  (Backbone1): Backbone(\n",
            "    (backbone_Linear1): Linear(in_features=30, out_features=20, bias=True)\n",
            "    (relu_1): ReLU()\n",
            "    (backbone_Linear2): Linear(in_features=20, out_features=16, bias=True)\n",
            "    (backbone_Linear3): Linear(in_features=50, out_features=30, bias=True)\n",
            "    (relu_2): ReLU()\n",
            "    (backbone_Linear4): Linear(in_features=30, out_features=10, bias=True)\n",
            "  )\n",
            ")\n"
          ]
        }
      ]
    },
    {
      "cell_type": "code",
      "source": [
        "loss = nn.CrossEntropyLoss()\n",
        "lr = 0.1\n",
        "optimizer = torch.optim.SGD(net.parameters(), lr=lr)"
      ],
      "metadata": {
        "id": "lqRqKRz02H92"
      },
      "execution_count": null,
      "outputs": []
    },
    {
      "cell_type": "code",
      "source": [
        "num_epochs = 20\n",
        "mu.train_ch3(net, train_iter, test_iter, loss, num_epochs, optimizer)"
      ],
      "metadata": {
        "colab": {
          "base_uri": "https://localhost:8080/",
          "height": 261
        },
        "id": "QrDbwcOv2MKj",
        "outputId": "f5313f24-ee7c-4667-e46f-4b5a662ff93f"
      },
      "execution_count": null,
      "outputs": [
        {
          "output_type": "display_data",
          "data": {
            "text/plain": [
              "<Figure size 252x180 with 1 Axes>"
            ],
            "image/svg+xml": "<?xml version=\"1.0\" encoding=\"utf-8\" standalone=\"no\"?>\n<!DOCTYPE svg PUBLIC \"-//W3C//DTD SVG 1.1//EN\"\n  \"http://www.w3.org/Graphics/SVG/1.1/DTD/svg11.dtd\">\n<!-- Created with matplotlib (https://matplotlib.org/) -->\n<svg height=\"180.65625pt\" version=\"1.1\" viewBox=\"0 0 238.965625 180.65625\" width=\"238.965625pt\" xmlns=\"http://www.w3.org/2000/svg\" xmlns:xlink=\"http://www.w3.org/1999/xlink\">\n <defs>\n  <style type=\"text/css\">\n*{stroke-linecap:butt;stroke-linejoin:round;}\n  </style>\n </defs>\n <g id=\"figure_1\">\n  <g id=\"patch_1\">\n   <path d=\"M 0 180.65625 \nL 238.965625 180.65625 \nL 238.965625 0 \nL 0 0 \nz\n\" style=\"fill:none;\"/>\n  </g>\n  <g id=\"axes_1\">\n   <g id=\"patch_2\">\n    <path d=\"M 30.103125 143.1 \nL 225.403125 143.1 \nL 225.403125 7.2 \nL 30.103125 7.2 \nz\n\" style=\"fill:#ffffff;\"/>\n   </g>\n   <g id=\"matplotlib.axis_1\">\n    <g id=\"xtick_1\">\n     <g id=\"line2d_1\">\n      <path clip-path=\"url(#p0b8e88e2fd)\" d=\"M 71.218914 143.1 \nL 71.218914 7.2 \n\" style=\"fill:none;stroke:#b0b0b0;stroke-linecap:square;stroke-width:0.8;\"/>\n     </g>\n     <g id=\"line2d_2\">\n      <defs>\n       <path d=\"M 0 0 \nL 0 3.5 \n\" id=\"m2cdc5b9da7\" style=\"stroke:#000000;stroke-width:0.8;\"/>\n      </defs>\n      <g>\n       <use style=\"stroke:#000000;stroke-width:0.8;\" x=\"71.218914\" xlink:href=\"#m2cdc5b9da7\" y=\"143.1\"/>\n      </g>\n     </g>\n     <g id=\"text_1\">\n      <!-- 5 -->\n      <defs>\n       <path d=\"M 10.796875 72.90625 \nL 49.515625 72.90625 \nL 49.515625 64.59375 \nL 19.828125 64.59375 \nL 19.828125 46.734375 \nQ 21.96875 47.46875 24.109375 47.828125 \nQ 26.265625 48.1875 28.421875 48.1875 \nQ 40.625 48.1875 47.75 41.5 \nQ 54.890625 34.8125 54.890625 23.390625 \nQ 54.890625 11.625 47.5625 5.09375 \nQ 40.234375 -1.421875 26.90625 -1.421875 \nQ 22.3125 -1.421875 17.546875 -0.640625 \nQ 12.796875 0.140625 7.71875 1.703125 \nL 7.71875 11.625 \nQ 12.109375 9.234375 16.796875 8.0625 \nQ 21.484375 6.890625 26.703125 6.890625 \nQ 35.15625 6.890625 40.078125 11.328125 \nQ 45.015625 15.765625 45.015625 23.390625 \nQ 45.015625 31 40.078125 35.4375 \nQ 35.15625 39.890625 26.703125 39.890625 \nQ 22.75 39.890625 18.8125 39.015625 \nQ 14.890625 38.140625 10.796875 36.28125 \nz\n\" id=\"DejaVuSans-53\"/>\n      </defs>\n      <g transform=\"translate(68.037664 157.698438)scale(0.1 -0.1)\">\n       <use xlink:href=\"#DejaVuSans-53\"/>\n      </g>\n     </g>\n    </g>\n    <g id=\"xtick_2\">\n     <g id=\"line2d_3\">\n      <path clip-path=\"url(#p0b8e88e2fd)\" d=\"M 122.613651 143.1 \nL 122.613651 7.2 \n\" style=\"fill:none;stroke:#b0b0b0;stroke-linecap:square;stroke-width:0.8;\"/>\n     </g>\n     <g id=\"line2d_4\">\n      <g>\n       <use style=\"stroke:#000000;stroke-width:0.8;\" x=\"122.613651\" xlink:href=\"#m2cdc5b9da7\" y=\"143.1\"/>\n      </g>\n     </g>\n     <g id=\"text_2\">\n      <!-- 10 -->\n      <defs>\n       <path d=\"M 12.40625 8.296875 \nL 28.515625 8.296875 \nL 28.515625 63.921875 \nL 10.984375 60.40625 \nL 10.984375 69.390625 \nL 28.421875 72.90625 \nL 38.28125 72.90625 \nL 38.28125 8.296875 \nL 54.390625 8.296875 \nL 54.390625 0 \nL 12.40625 0 \nz\n\" id=\"DejaVuSans-49\"/>\n       <path d=\"M 31.78125 66.40625 \nQ 24.171875 66.40625 20.328125 58.90625 \nQ 16.5 51.421875 16.5 36.375 \nQ 16.5 21.390625 20.328125 13.890625 \nQ 24.171875 6.390625 31.78125 6.390625 \nQ 39.453125 6.390625 43.28125 13.890625 \nQ 47.125 21.390625 47.125 36.375 \nQ 47.125 51.421875 43.28125 58.90625 \nQ 39.453125 66.40625 31.78125 66.40625 \nz\nM 31.78125 74.21875 \nQ 44.046875 74.21875 50.515625 64.515625 \nQ 56.984375 54.828125 56.984375 36.375 \nQ 56.984375 17.96875 50.515625 8.265625 \nQ 44.046875 -1.421875 31.78125 -1.421875 \nQ 19.53125 -1.421875 13.0625 8.265625 \nQ 6.59375 17.96875 6.59375 36.375 \nQ 6.59375 54.828125 13.0625 64.515625 \nQ 19.53125 74.21875 31.78125 74.21875 \nz\n\" id=\"DejaVuSans-48\"/>\n      </defs>\n      <g transform=\"translate(116.251151 157.698438)scale(0.1 -0.1)\">\n       <use xlink:href=\"#DejaVuSans-49\"/>\n       <use x=\"63.623047\" xlink:href=\"#DejaVuSans-48\"/>\n      </g>\n     </g>\n    </g>\n    <g id=\"xtick_3\">\n     <g id=\"line2d_5\">\n      <path clip-path=\"url(#p0b8e88e2fd)\" d=\"M 174.008388 143.1 \nL 174.008388 7.2 \n\" style=\"fill:none;stroke:#b0b0b0;stroke-linecap:square;stroke-width:0.8;\"/>\n     </g>\n     <g id=\"line2d_6\">\n      <g>\n       <use style=\"stroke:#000000;stroke-width:0.8;\" x=\"174.008388\" xlink:href=\"#m2cdc5b9da7\" y=\"143.1\"/>\n      </g>\n     </g>\n     <g id=\"text_3\">\n      <!-- 15 -->\n      <g transform=\"translate(167.645888 157.698438)scale(0.1 -0.1)\">\n       <use xlink:href=\"#DejaVuSans-49\"/>\n       <use x=\"63.623047\" xlink:href=\"#DejaVuSans-53\"/>\n      </g>\n     </g>\n    </g>\n    <g id=\"xtick_4\">\n     <g id=\"line2d_7\">\n      <path clip-path=\"url(#p0b8e88e2fd)\" d=\"M 225.403125 143.1 \nL 225.403125 7.2 \n\" style=\"fill:none;stroke:#b0b0b0;stroke-linecap:square;stroke-width:0.8;\"/>\n     </g>\n     <g id=\"line2d_8\">\n      <g>\n       <use style=\"stroke:#000000;stroke-width:0.8;\" x=\"225.403125\" xlink:href=\"#m2cdc5b9da7\" y=\"143.1\"/>\n      </g>\n     </g>\n     <g id=\"text_4\">\n      <!-- 20 -->\n      <defs>\n       <path d=\"M 19.1875 8.296875 \nL 53.609375 8.296875 \nL 53.609375 0 \nL 7.328125 0 \nL 7.328125 8.296875 \nQ 12.9375 14.109375 22.625 23.890625 \nQ 32.328125 33.6875 34.8125 36.53125 \nQ 39.546875 41.84375 41.421875 45.53125 \nQ 43.3125 49.21875 43.3125 52.78125 \nQ 43.3125 58.59375 39.234375 62.25 \nQ 35.15625 65.921875 28.609375 65.921875 \nQ 23.96875 65.921875 18.8125 64.3125 \nQ 13.671875 62.703125 7.8125 59.421875 \nL 7.8125 69.390625 \nQ 13.765625 71.78125 18.9375 73 \nQ 24.125 74.21875 28.421875 74.21875 \nQ 39.75 74.21875 46.484375 68.546875 \nQ 53.21875 62.890625 53.21875 53.421875 \nQ 53.21875 48.921875 51.53125 44.890625 \nQ 49.859375 40.875 45.40625 35.40625 \nQ 44.1875 33.984375 37.640625 27.21875 \nQ 31.109375 20.453125 19.1875 8.296875 \nz\n\" id=\"DejaVuSans-50\"/>\n      </defs>\n      <g transform=\"translate(219.040625 157.698438)scale(0.1 -0.1)\">\n       <use xlink:href=\"#DejaVuSans-50\"/>\n       <use x=\"63.623047\" xlink:href=\"#DejaVuSans-48\"/>\n      </g>\n     </g>\n    </g>\n    <g id=\"text_5\">\n     <!-- epoch -->\n     <defs>\n      <path d=\"M 56.203125 29.59375 \nL 56.203125 25.203125 \nL 14.890625 25.203125 \nQ 15.484375 15.921875 20.484375 11.0625 \nQ 25.484375 6.203125 34.421875 6.203125 \nQ 39.59375 6.203125 44.453125 7.46875 \nQ 49.3125 8.734375 54.109375 11.28125 \nL 54.109375 2.78125 \nQ 49.265625 0.734375 44.1875 -0.34375 \nQ 39.109375 -1.421875 33.890625 -1.421875 \nQ 20.796875 -1.421875 13.15625 6.1875 \nQ 5.515625 13.8125 5.515625 26.8125 \nQ 5.515625 40.234375 12.765625 48.109375 \nQ 20.015625 56 32.328125 56 \nQ 43.359375 56 49.78125 48.890625 \nQ 56.203125 41.796875 56.203125 29.59375 \nz\nM 47.21875 32.234375 \nQ 47.125 39.59375 43.09375 43.984375 \nQ 39.0625 48.390625 32.421875 48.390625 \nQ 24.90625 48.390625 20.390625 44.140625 \nQ 15.875 39.890625 15.1875 32.171875 \nz\n\" id=\"DejaVuSans-101\"/>\n      <path d=\"M 18.109375 8.203125 \nL 18.109375 -20.796875 \nL 9.078125 -20.796875 \nL 9.078125 54.6875 \nL 18.109375 54.6875 \nL 18.109375 46.390625 \nQ 20.953125 51.265625 25.265625 53.625 \nQ 29.59375 56 35.59375 56 \nQ 45.5625 56 51.78125 48.09375 \nQ 58.015625 40.1875 58.015625 27.296875 \nQ 58.015625 14.40625 51.78125 6.484375 \nQ 45.5625 -1.421875 35.59375 -1.421875 \nQ 29.59375 -1.421875 25.265625 0.953125 \nQ 20.953125 3.328125 18.109375 8.203125 \nz\nM 48.6875 27.296875 \nQ 48.6875 37.203125 44.609375 42.84375 \nQ 40.53125 48.484375 33.40625 48.484375 \nQ 26.265625 48.484375 22.1875 42.84375 \nQ 18.109375 37.203125 18.109375 27.296875 \nQ 18.109375 17.390625 22.1875 11.75 \nQ 26.265625 6.109375 33.40625 6.109375 \nQ 40.53125 6.109375 44.609375 11.75 \nQ 48.6875 17.390625 48.6875 27.296875 \nz\n\" id=\"DejaVuSans-112\"/>\n      <path d=\"M 30.609375 48.390625 \nQ 23.390625 48.390625 19.1875 42.75 \nQ 14.984375 37.109375 14.984375 27.296875 \nQ 14.984375 17.484375 19.15625 11.84375 \nQ 23.34375 6.203125 30.609375 6.203125 \nQ 37.796875 6.203125 41.984375 11.859375 \nQ 46.1875 17.53125 46.1875 27.296875 \nQ 46.1875 37.015625 41.984375 42.703125 \nQ 37.796875 48.390625 30.609375 48.390625 \nz\nM 30.609375 56 \nQ 42.328125 56 49.015625 48.375 \nQ 55.71875 40.765625 55.71875 27.296875 \nQ 55.71875 13.875 49.015625 6.21875 \nQ 42.328125 -1.421875 30.609375 -1.421875 \nQ 18.84375 -1.421875 12.171875 6.21875 \nQ 5.515625 13.875 5.515625 27.296875 \nQ 5.515625 40.765625 12.171875 48.375 \nQ 18.84375 56 30.609375 56 \nz\n\" id=\"DejaVuSans-111\"/>\n      <path d=\"M 48.78125 52.59375 \nL 48.78125 44.1875 \nQ 44.96875 46.296875 41.140625 47.34375 \nQ 37.3125 48.390625 33.40625 48.390625 \nQ 24.65625 48.390625 19.8125 42.84375 \nQ 14.984375 37.3125 14.984375 27.296875 \nQ 14.984375 17.28125 19.8125 11.734375 \nQ 24.65625 6.203125 33.40625 6.203125 \nQ 37.3125 6.203125 41.140625 7.25 \nQ 44.96875 8.296875 48.78125 10.40625 \nL 48.78125 2.09375 \nQ 45.015625 0.34375 40.984375 -0.53125 \nQ 36.96875 -1.421875 32.421875 -1.421875 \nQ 20.0625 -1.421875 12.78125 6.34375 \nQ 5.515625 14.109375 5.515625 27.296875 \nQ 5.515625 40.671875 12.859375 48.328125 \nQ 20.21875 56 33.015625 56 \nQ 37.15625 56 41.109375 55.140625 \nQ 45.0625 54.296875 48.78125 52.59375 \nz\n\" id=\"DejaVuSans-99\"/>\n      <path d=\"M 54.890625 33.015625 \nL 54.890625 0 \nL 45.90625 0 \nL 45.90625 32.71875 \nQ 45.90625 40.484375 42.875 44.328125 \nQ 39.84375 48.1875 33.796875 48.1875 \nQ 26.515625 48.1875 22.3125 43.546875 \nQ 18.109375 38.921875 18.109375 30.90625 \nL 18.109375 0 \nL 9.078125 0 \nL 9.078125 75.984375 \nL 18.109375 75.984375 \nL 18.109375 46.1875 \nQ 21.34375 51.125 25.703125 53.5625 \nQ 30.078125 56 35.796875 56 \nQ 45.21875 56 50.046875 50.171875 \nQ 54.890625 44.34375 54.890625 33.015625 \nz\n\" id=\"DejaVuSans-104\"/>\n     </defs>\n     <g transform=\"translate(112.525 171.376563)scale(0.1 -0.1)\">\n      <use xlink:href=\"#DejaVuSans-101\"/>\n      <use x=\"61.523438\" xlink:href=\"#DejaVuSans-112\"/>\n      <use x=\"125\" xlink:href=\"#DejaVuSans-111\"/>\n      <use x=\"186.181641\" xlink:href=\"#DejaVuSans-99\"/>\n      <use x=\"241.162109\" xlink:href=\"#DejaVuSans-104\"/>\n     </g>\n    </g>\n   </g>\n   <g id=\"matplotlib.axis_2\">\n    <g id=\"ytick_1\">\n     <g id=\"line2d_9\">\n      <path clip-path=\"url(#p0b8e88e2fd)\" d=\"M 30.103125 120.45 \nL 225.403125 120.45 \n\" style=\"fill:none;stroke:#b0b0b0;stroke-linecap:square;stroke-width:0.8;\"/>\n     </g>\n     <g id=\"line2d_10\">\n      <defs>\n       <path d=\"M 0 0 \nL -3.5 0 \n\" id=\"m1ecb53b395\" style=\"stroke:#000000;stroke-width:0.8;\"/>\n      </defs>\n      <g>\n       <use style=\"stroke:#000000;stroke-width:0.8;\" x=\"30.103125\" xlink:href=\"#m1ecb53b395\" y=\"120.45\"/>\n      </g>\n     </g>\n     <g id=\"text_6\">\n      <!-- 0.4 -->\n      <defs>\n       <path d=\"M 10.6875 12.40625 \nL 21 12.40625 \nL 21 0 \nL 10.6875 0 \nz\n\" id=\"DejaVuSans-46\"/>\n       <path d=\"M 37.796875 64.3125 \nL 12.890625 25.390625 \nL 37.796875 25.390625 \nz\nM 35.203125 72.90625 \nL 47.609375 72.90625 \nL 47.609375 25.390625 \nL 58.015625 25.390625 \nL 58.015625 17.1875 \nL 47.609375 17.1875 \nL 47.609375 0 \nL 37.796875 0 \nL 37.796875 17.1875 \nL 4.890625 17.1875 \nL 4.890625 26.703125 \nz\n\" id=\"DejaVuSans-52\"/>\n      </defs>\n      <g transform=\"translate(7.2 124.249219)scale(0.1 -0.1)\">\n       <use xlink:href=\"#DejaVuSans-48\"/>\n       <use x=\"63.623047\" xlink:href=\"#DejaVuSans-46\"/>\n       <use x=\"95.410156\" xlink:href=\"#DejaVuSans-52\"/>\n      </g>\n     </g>\n    </g>\n    <g id=\"ytick_2\">\n     <g id=\"line2d_11\">\n      <path clip-path=\"url(#p0b8e88e2fd)\" d=\"M 30.103125 75.15 \nL 225.403125 75.15 \n\" style=\"fill:none;stroke:#b0b0b0;stroke-linecap:square;stroke-width:0.8;\"/>\n     </g>\n     <g id=\"line2d_12\">\n      <g>\n       <use style=\"stroke:#000000;stroke-width:0.8;\" x=\"30.103125\" xlink:href=\"#m1ecb53b395\" y=\"75.15\"/>\n      </g>\n     </g>\n     <g id=\"text_7\">\n      <!-- 0.6 -->\n      <defs>\n       <path d=\"M 33.015625 40.375 \nQ 26.375 40.375 22.484375 35.828125 \nQ 18.609375 31.296875 18.609375 23.390625 \nQ 18.609375 15.53125 22.484375 10.953125 \nQ 26.375 6.390625 33.015625 6.390625 \nQ 39.65625 6.390625 43.53125 10.953125 \nQ 47.40625 15.53125 47.40625 23.390625 \nQ 47.40625 31.296875 43.53125 35.828125 \nQ 39.65625 40.375 33.015625 40.375 \nz\nM 52.59375 71.296875 \nL 52.59375 62.3125 \nQ 48.875 64.0625 45.09375 64.984375 \nQ 41.3125 65.921875 37.59375 65.921875 \nQ 27.828125 65.921875 22.671875 59.328125 \nQ 17.53125 52.734375 16.796875 39.40625 \nQ 19.671875 43.65625 24.015625 45.921875 \nQ 28.375 48.1875 33.59375 48.1875 \nQ 44.578125 48.1875 50.953125 41.515625 \nQ 57.328125 34.859375 57.328125 23.390625 \nQ 57.328125 12.15625 50.6875 5.359375 \nQ 44.046875 -1.421875 33.015625 -1.421875 \nQ 20.359375 -1.421875 13.671875 8.265625 \nQ 6.984375 17.96875 6.984375 36.375 \nQ 6.984375 53.65625 15.1875 63.9375 \nQ 23.390625 74.21875 37.203125 74.21875 \nQ 40.921875 74.21875 44.703125 73.484375 \nQ 48.484375 72.75 52.59375 71.296875 \nz\n\" id=\"DejaVuSans-54\"/>\n      </defs>\n      <g transform=\"translate(7.2 78.949219)scale(0.1 -0.1)\">\n       <use xlink:href=\"#DejaVuSans-48\"/>\n       <use x=\"63.623047\" xlink:href=\"#DejaVuSans-46\"/>\n       <use x=\"95.410156\" xlink:href=\"#DejaVuSans-54\"/>\n      </g>\n     </g>\n    </g>\n    <g id=\"ytick_3\">\n     <g id=\"line2d_13\">\n      <path clip-path=\"url(#p0b8e88e2fd)\" d=\"M 30.103125 29.85 \nL 225.403125 29.85 \n\" style=\"fill:none;stroke:#b0b0b0;stroke-linecap:square;stroke-width:0.8;\"/>\n     </g>\n     <g id=\"line2d_14\">\n      <g>\n       <use style=\"stroke:#000000;stroke-width:0.8;\" x=\"30.103125\" xlink:href=\"#m1ecb53b395\" y=\"29.85\"/>\n      </g>\n     </g>\n     <g id=\"text_8\">\n      <!-- 0.8 -->\n      <defs>\n       <path d=\"M 31.78125 34.625 \nQ 24.75 34.625 20.71875 30.859375 \nQ 16.703125 27.09375 16.703125 20.515625 \nQ 16.703125 13.921875 20.71875 10.15625 \nQ 24.75 6.390625 31.78125 6.390625 \nQ 38.8125 6.390625 42.859375 10.171875 \nQ 46.921875 13.96875 46.921875 20.515625 \nQ 46.921875 27.09375 42.890625 30.859375 \nQ 38.875 34.625 31.78125 34.625 \nz\nM 21.921875 38.8125 \nQ 15.578125 40.375 12.03125 44.71875 \nQ 8.5 49.078125 8.5 55.328125 \nQ 8.5 64.0625 14.71875 69.140625 \nQ 20.953125 74.21875 31.78125 74.21875 \nQ 42.671875 74.21875 48.875 69.140625 \nQ 55.078125 64.0625 55.078125 55.328125 \nQ 55.078125 49.078125 51.53125 44.71875 \nQ 48 40.375 41.703125 38.8125 \nQ 48.828125 37.15625 52.796875 32.3125 \nQ 56.78125 27.484375 56.78125 20.515625 \nQ 56.78125 9.90625 50.3125 4.234375 \nQ 43.84375 -1.421875 31.78125 -1.421875 \nQ 19.734375 -1.421875 13.25 4.234375 \nQ 6.78125 9.90625 6.78125 20.515625 \nQ 6.78125 27.484375 10.78125 32.3125 \nQ 14.796875 37.15625 21.921875 38.8125 \nz\nM 18.3125 54.390625 \nQ 18.3125 48.734375 21.84375 45.5625 \nQ 25.390625 42.390625 31.78125 42.390625 \nQ 38.140625 42.390625 41.71875 45.5625 \nQ 45.3125 48.734375 45.3125 54.390625 \nQ 45.3125 60.0625 41.71875 63.234375 \nQ 38.140625 66.40625 31.78125 66.40625 \nQ 25.390625 66.40625 21.84375 63.234375 \nQ 18.3125 60.0625 18.3125 54.390625 \nz\n\" id=\"DejaVuSans-56\"/>\n      </defs>\n      <g transform=\"translate(7.2 33.649219)scale(0.1 -0.1)\">\n       <use xlink:href=\"#DejaVuSans-48\"/>\n       <use x=\"63.623047\" xlink:href=\"#DejaVuSans-46\"/>\n       <use x=\"95.410156\" xlink:href=\"#DejaVuSans-56\"/>\n      </g>\n     </g>\n    </g>\n   </g>\n   <g id=\"line2d_15\">\n    <path clip-path=\"url(#p0b8e88e2fd)\" d=\"M 89.363516 -1 \nL 91.776809 16.431989 \nL 102.055757 45.527899 \nL 112.334704 64.737255 \nL 122.613651 76.839363 \nL 132.892599 86.23561 \nL 143.171546 93.213396 \nL 153.450493 98.947682 \nL 163.729441 104.022361 \nL 174.008388 107.332235 \nL 184.287336 109.892864 \nL 194.566283 113.372663 \nL 204.84523 115.30509 \nL 215.124178 118.31183 \nL 225.403125 119.935438 \n\" style=\"fill:none;stroke:#1f77b4;stroke-linecap:square;stroke-width:1.5;\"/>\n   </g>\n   <g id=\"line2d_16\">\n    <path clip-path=\"url(#p0b8e88e2fd)\" d=\"M 55.939106 181.65625 \nL 60.939967 179.351325 \nL 71.218914 162.58655 \nL 81.497862 96.3806 \nL 91.776809 59.880125 \nL 102.055757 47.7737 \nL 112.334704 39.291275 \nL 122.613651 34.62915 \nL 132.892599 31.03535 \nL 143.171546 28.253175 \nL 153.450493 25.68995 \nL 163.729441 23.81 \nL 174.008388 22.907775 \nL 184.287336 21.729975 \nL 194.566283 20.4276 \nL 204.84523 19.970825 \nL 215.124178 18.95535 \nL 225.403125 18.3438 \n\" style=\"fill:none;stroke:#bf00bf;stroke-dasharray:5.55,2.4;stroke-dashoffset:0;stroke-width:1.5;\"/>\n   </g>\n   <g id=\"line2d_17\">\n    <path clip-path=\"url(#p0b8e88e2fd)\" d=\"M 30.103125 169.12485 \nL 36.841227 181.65625 \nM 43.836955 181.65625 \nL 50.66102 168.6492 \nL 57.679826 181.65625 \nM 68.956864 181.65625 \nL 71.218914 179.95155 \nL 81.497862 80.133 \nL 91.776809 58.59285 \nL 102.055757 44.9349 \nL 112.334704 39.29505 \nL 122.613651 34.6971 \nL 132.892599 35.2407 \nL 143.171546 38.57025 \nL 153.450493 36.39585 \nL 163.729441 24.43665 \nL 174.008388 29.4876 \nL 184.287336 26.8602 \nL 194.566283 23.6892 \nL 204.84523 23.89305 \nL 215.124178 25.79565 \nL 225.403125 21.7413 \n\" style=\"fill:none;stroke:#008000;stroke-dasharray:9.6,2.4,1.5,2.4;stroke-dashoffset:0;stroke-width:1.5;\"/>\n   </g>\n   <g id=\"patch_3\">\n    <path d=\"M 30.103125 143.1 \nL 30.103125 7.2 \n\" style=\"fill:none;stroke:#000000;stroke-linecap:square;stroke-linejoin:miter;stroke-width:0.8;\"/>\n   </g>\n   <g id=\"patch_4\">\n    <path d=\"M 225.403125 143.1 \nL 225.403125 7.2 \n\" style=\"fill:none;stroke:#000000;stroke-linecap:square;stroke-linejoin:miter;stroke-width:0.8;\"/>\n   </g>\n   <g id=\"patch_5\">\n    <path d=\"M 30.103125 143.1 \nL 225.403125 143.1 \n\" style=\"fill:none;stroke:#000000;stroke-linecap:square;stroke-linejoin:miter;stroke-width:0.8;\"/>\n   </g>\n   <g id=\"patch_6\">\n    <path d=\"M 30.103125 7.2 \nL 225.403125 7.2 \n\" style=\"fill:none;stroke:#000000;stroke-linecap:square;stroke-linejoin:miter;stroke-width:0.8;\"/>\n   </g>\n   <g id=\"legend_1\">\n    <g id=\"patch_7\">\n     <path d=\"M 140.634375 98.667187 \nL 218.403125 98.667187 \nQ 220.403125 98.667187 220.403125 96.667187 \nL 220.403125 53.632812 \nQ 220.403125 51.632812 218.403125 51.632812 \nL 140.634375 51.632812 \nQ 138.634375 51.632812 138.634375 53.632812 \nL 138.634375 96.667187 \nQ 138.634375 98.667187 140.634375 98.667187 \nz\n\" style=\"fill:#ffffff;opacity:0.8;stroke:#cccccc;stroke-linejoin:miter;\"/>\n    </g>\n    <g id=\"line2d_18\">\n     <path d=\"M 142.634375 59.73125 \nL 162.634375 59.73125 \n\" style=\"fill:none;stroke:#1f77b4;stroke-linecap:square;stroke-width:1.5;\"/>\n    </g>\n    <g id=\"line2d_19\"/>\n    <g id=\"text_9\">\n     <!-- train loss -->\n     <defs>\n      <path d=\"M 18.3125 70.21875 \nL 18.3125 54.6875 \nL 36.8125 54.6875 \nL 36.8125 47.703125 \nL 18.3125 47.703125 \nL 18.3125 18.015625 \nQ 18.3125 11.328125 20.140625 9.421875 \nQ 21.96875 7.515625 27.59375 7.515625 \nL 36.8125 7.515625 \nL 36.8125 0 \nL 27.59375 0 \nQ 17.1875 0 13.234375 3.875 \nQ 9.28125 7.765625 9.28125 18.015625 \nL 9.28125 47.703125 \nL 2.6875 47.703125 \nL 2.6875 54.6875 \nL 9.28125 54.6875 \nL 9.28125 70.21875 \nz\n\" id=\"DejaVuSans-116\"/>\n      <path d=\"M 41.109375 46.296875 \nQ 39.59375 47.171875 37.8125 47.578125 \nQ 36.03125 48 33.890625 48 \nQ 26.265625 48 22.1875 43.046875 \nQ 18.109375 38.09375 18.109375 28.8125 \nL 18.109375 0 \nL 9.078125 0 \nL 9.078125 54.6875 \nL 18.109375 54.6875 \nL 18.109375 46.1875 \nQ 20.953125 51.171875 25.484375 53.578125 \nQ 30.03125 56 36.53125 56 \nQ 37.453125 56 38.578125 55.875 \nQ 39.703125 55.765625 41.0625 55.515625 \nz\n\" id=\"DejaVuSans-114\"/>\n      <path d=\"M 34.28125 27.484375 \nQ 23.390625 27.484375 19.1875 25 \nQ 14.984375 22.515625 14.984375 16.5 \nQ 14.984375 11.71875 18.140625 8.90625 \nQ 21.296875 6.109375 26.703125 6.109375 \nQ 34.1875 6.109375 38.703125 11.40625 \nQ 43.21875 16.703125 43.21875 25.484375 \nL 43.21875 27.484375 \nz\nM 52.203125 31.203125 \nL 52.203125 0 \nL 43.21875 0 \nL 43.21875 8.296875 \nQ 40.140625 3.328125 35.546875 0.953125 \nQ 30.953125 -1.421875 24.3125 -1.421875 \nQ 15.921875 -1.421875 10.953125 3.296875 \nQ 6 8.015625 6 15.921875 \nQ 6 25.140625 12.171875 29.828125 \nQ 18.359375 34.515625 30.609375 34.515625 \nL 43.21875 34.515625 \nL 43.21875 35.40625 \nQ 43.21875 41.609375 39.140625 45 \nQ 35.0625 48.390625 27.6875 48.390625 \nQ 23 48.390625 18.546875 47.265625 \nQ 14.109375 46.140625 10.015625 43.890625 \nL 10.015625 52.203125 \nQ 14.9375 54.109375 19.578125 55.046875 \nQ 24.21875 56 28.609375 56 \nQ 40.484375 56 46.34375 49.84375 \nQ 52.203125 43.703125 52.203125 31.203125 \nz\n\" id=\"DejaVuSans-97\"/>\n      <path d=\"M 9.421875 54.6875 \nL 18.40625 54.6875 \nL 18.40625 0 \nL 9.421875 0 \nz\nM 9.421875 75.984375 \nL 18.40625 75.984375 \nL 18.40625 64.59375 \nL 9.421875 64.59375 \nz\n\" id=\"DejaVuSans-105\"/>\n      <path d=\"M 54.890625 33.015625 \nL 54.890625 0 \nL 45.90625 0 \nL 45.90625 32.71875 \nQ 45.90625 40.484375 42.875 44.328125 \nQ 39.84375 48.1875 33.796875 48.1875 \nQ 26.515625 48.1875 22.3125 43.546875 \nQ 18.109375 38.921875 18.109375 30.90625 \nL 18.109375 0 \nL 9.078125 0 \nL 9.078125 54.6875 \nL 18.109375 54.6875 \nL 18.109375 46.1875 \nQ 21.34375 51.125 25.703125 53.5625 \nQ 30.078125 56 35.796875 56 \nQ 45.21875 56 50.046875 50.171875 \nQ 54.890625 44.34375 54.890625 33.015625 \nz\n\" id=\"DejaVuSans-110\"/>\n      <path id=\"DejaVuSans-32\"/>\n      <path d=\"M 9.421875 75.984375 \nL 18.40625 75.984375 \nL 18.40625 0 \nL 9.421875 0 \nz\n\" id=\"DejaVuSans-108\"/>\n      <path d=\"M 44.28125 53.078125 \nL 44.28125 44.578125 \nQ 40.484375 46.53125 36.375 47.5 \nQ 32.28125 48.484375 27.875 48.484375 \nQ 21.1875 48.484375 17.84375 46.4375 \nQ 14.5 44.390625 14.5 40.28125 \nQ 14.5 37.15625 16.890625 35.375 \nQ 19.28125 33.59375 26.515625 31.984375 \nL 29.59375 31.296875 \nQ 39.15625 29.25 43.1875 25.515625 \nQ 47.21875 21.78125 47.21875 15.09375 \nQ 47.21875 7.46875 41.1875 3.015625 \nQ 35.15625 -1.421875 24.609375 -1.421875 \nQ 20.21875 -1.421875 15.453125 -0.5625 \nQ 10.6875 0.296875 5.421875 2 \nL 5.421875 11.28125 \nQ 10.40625 8.6875 15.234375 7.390625 \nQ 20.0625 6.109375 24.8125 6.109375 \nQ 31.15625 6.109375 34.5625 8.28125 \nQ 37.984375 10.453125 37.984375 14.40625 \nQ 37.984375 18.0625 35.515625 20.015625 \nQ 33.0625 21.96875 24.703125 23.78125 \nL 21.578125 24.515625 \nQ 13.234375 26.265625 9.515625 29.90625 \nQ 5.8125 33.546875 5.8125 39.890625 \nQ 5.8125 47.609375 11.28125 51.796875 \nQ 16.75 56 26.8125 56 \nQ 31.78125 56 36.171875 55.265625 \nQ 40.578125 54.546875 44.28125 53.078125 \nz\n\" id=\"DejaVuSans-115\"/>\n     </defs>\n     <g transform=\"translate(170.634375 63.23125)scale(0.1 -0.1)\">\n      <use xlink:href=\"#DejaVuSans-116\"/>\n      <use x=\"39.208984\" xlink:href=\"#DejaVuSans-114\"/>\n      <use x=\"80.322266\" xlink:href=\"#DejaVuSans-97\"/>\n      <use x=\"141.601562\" xlink:href=\"#DejaVuSans-105\"/>\n      <use x=\"169.384766\" xlink:href=\"#DejaVuSans-110\"/>\n      <use x=\"232.763672\" xlink:href=\"#DejaVuSans-32\"/>\n      <use x=\"264.550781\" xlink:href=\"#DejaVuSans-108\"/>\n      <use x=\"292.333984\" xlink:href=\"#DejaVuSans-111\"/>\n      <use x=\"353.515625\" xlink:href=\"#DejaVuSans-115\"/>\n      <use x=\"405.615234\" xlink:href=\"#DejaVuSans-115\"/>\n     </g>\n    </g>\n    <g id=\"line2d_20\">\n     <path d=\"M 142.634375 74.409375 \nL 162.634375 74.409375 \n\" style=\"fill:none;stroke:#bf00bf;stroke-dasharray:5.55,2.4;stroke-dashoffset:0;stroke-width:1.5;\"/>\n    </g>\n    <g id=\"line2d_21\"/>\n    <g id=\"text_10\">\n     <!-- train acc -->\n     <g transform=\"translate(170.634375 77.909375)scale(0.1 -0.1)\">\n      <use xlink:href=\"#DejaVuSans-116\"/>\n      <use x=\"39.208984\" xlink:href=\"#DejaVuSans-114\"/>\n      <use x=\"80.322266\" xlink:href=\"#DejaVuSans-97\"/>\n      <use x=\"141.601562\" xlink:href=\"#DejaVuSans-105\"/>\n      <use x=\"169.384766\" xlink:href=\"#DejaVuSans-110\"/>\n      <use x=\"232.763672\" xlink:href=\"#DejaVuSans-32\"/>\n      <use x=\"264.550781\" xlink:href=\"#DejaVuSans-97\"/>\n      <use x=\"325.830078\" xlink:href=\"#DejaVuSans-99\"/>\n      <use x=\"380.810547\" xlink:href=\"#DejaVuSans-99\"/>\n     </g>\n    </g>\n    <g id=\"line2d_22\">\n     <path d=\"M 142.634375 89.0875 \nL 162.634375 89.0875 \n\" style=\"fill:none;stroke:#008000;stroke-dasharray:9.6,2.4,1.5,2.4;stroke-dashoffset:0;stroke-width:1.5;\"/>\n    </g>\n    <g id=\"line2d_23\"/>\n    <g id=\"text_11\">\n     <!-- test acc -->\n     <g transform=\"translate(170.634375 92.5875)scale(0.1 -0.1)\">\n      <use xlink:href=\"#DejaVuSans-116\"/>\n      <use x=\"39.208984\" xlink:href=\"#DejaVuSans-101\"/>\n      <use x=\"100.732422\" xlink:href=\"#DejaVuSans-115\"/>\n      <use x=\"152.832031\" xlink:href=\"#DejaVuSans-116\"/>\n      <use x=\"192.041016\" xlink:href=\"#DejaVuSans-32\"/>\n      <use x=\"223.828125\" xlink:href=\"#DejaVuSans-97\"/>\n      <use x=\"285.107422\" xlink:href=\"#DejaVuSans-99\"/>\n      <use x=\"340.087891\" xlink:href=\"#DejaVuSans-99\"/>\n     </g>\n    </g>\n   </g>\n  </g>\n </g>\n <defs>\n  <clipPath id=\"p0b8e88e2fd\">\n   <rect height=\"135.9\" width=\"195.3\" x=\"30.103125\" y=\"7.2\"/>\n  </clipPath>\n </defs>\n</svg>\n"
          },
          "metadata": {
            "needs_background": "light"
          }
        }
      ]
    },
    {
      "cell_type": "code",
      "source": [
        "num_epochs = 30\n",
        "mu.train_ch3(net, train_iter, test_iter, loss, num_epochs, optimizer)"
      ],
      "metadata": {
        "colab": {
          "base_uri": "https://localhost:8080/",
          "height": 261
        },
        "id": "56vaezM1n7dB",
        "outputId": "85128367-e80a-4057-945e-75a7bb89b267"
      },
      "execution_count": null,
      "outputs": [
        {
          "output_type": "display_data",
          "data": {
            "text/plain": [
              "<Figure size 252x180 with 1 Axes>"
            ],
            "image/svg+xml": "<?xml version=\"1.0\" encoding=\"utf-8\" standalone=\"no\"?>\n<!DOCTYPE svg PUBLIC \"-//W3C//DTD SVG 1.1//EN\"\n  \"http://www.w3.org/Graphics/SVG/1.1/DTD/svg11.dtd\">\n<!-- Created with matplotlib (https://matplotlib.org/) -->\n<svg height=\"180.65625pt\" version=\"1.1\" viewBox=\"0 0 238.965625 180.65625\" width=\"238.965625pt\" xmlns=\"http://www.w3.org/2000/svg\" xmlns:xlink=\"http://www.w3.org/1999/xlink\">\n <defs>\n  <style type=\"text/css\">\n*{stroke-linecap:butt;stroke-linejoin:round;}\n  </style>\n </defs>\n <g id=\"figure_1\">\n  <g id=\"patch_1\">\n   <path d=\"M 0 180.65625 \nL 238.965625 180.65625 \nL 238.965625 0 \nL 0 0 \nz\n\" style=\"fill:none;\"/>\n  </g>\n  <g id=\"axes_1\">\n   <g id=\"patch_2\">\n    <path d=\"M 30.103125 143.1 \nL 225.403125 143.1 \nL 225.403125 7.2 \nL 30.103125 7.2 \nz\n\" style=\"fill:#ffffff;\"/>\n   </g>\n   <g id=\"matplotlib.axis_1\">\n    <g id=\"xtick_1\">\n     <g id=\"line2d_1\">\n      <path clip-path=\"url(#p91d997689e)\" d=\"M 57.041056 143.1 \nL 57.041056 7.2 \n\" style=\"fill:none;stroke:#b0b0b0;stroke-linecap:square;stroke-width:0.8;\"/>\n     </g>\n     <g id=\"line2d_2\">\n      <defs>\n       <path d=\"M 0 0 \nL 0 3.5 \n\" id=\"m4ad9d84c9f\" style=\"stroke:#000000;stroke-width:0.8;\"/>\n      </defs>\n      <g>\n       <use style=\"stroke:#000000;stroke-width:0.8;\" x=\"57.041056\" xlink:href=\"#m4ad9d84c9f\" y=\"143.1\"/>\n      </g>\n     </g>\n     <g id=\"text_1\">\n      <!-- 5 -->\n      <defs>\n       <path d=\"M 10.796875 72.90625 \nL 49.515625 72.90625 \nL 49.515625 64.59375 \nL 19.828125 64.59375 \nL 19.828125 46.734375 \nQ 21.96875 47.46875 24.109375 47.828125 \nQ 26.265625 48.1875 28.421875 48.1875 \nQ 40.625 48.1875 47.75 41.5 \nQ 54.890625 34.8125 54.890625 23.390625 \nQ 54.890625 11.625 47.5625 5.09375 \nQ 40.234375 -1.421875 26.90625 -1.421875 \nQ 22.3125 -1.421875 17.546875 -0.640625 \nQ 12.796875 0.140625 7.71875 1.703125 \nL 7.71875 11.625 \nQ 12.109375 9.234375 16.796875 8.0625 \nQ 21.484375 6.890625 26.703125 6.890625 \nQ 35.15625 6.890625 40.078125 11.328125 \nQ 45.015625 15.765625 45.015625 23.390625 \nQ 45.015625 31 40.078125 35.4375 \nQ 35.15625 39.890625 26.703125 39.890625 \nQ 22.75 39.890625 18.8125 39.015625 \nQ 14.890625 38.140625 10.796875 36.28125 \nz\n\" id=\"DejaVuSans-53\"/>\n      </defs>\n      <g transform=\"translate(53.859806 157.698438)scale(0.1 -0.1)\">\n       <use xlink:href=\"#DejaVuSans-53\"/>\n      </g>\n     </g>\n    </g>\n    <g id=\"xtick_2\">\n     <g id=\"line2d_3\">\n      <path clip-path=\"url(#p91d997689e)\" d=\"M 90.71347 143.1 \nL 90.71347 7.2 \n\" style=\"fill:none;stroke:#b0b0b0;stroke-linecap:square;stroke-width:0.8;\"/>\n     </g>\n     <g id=\"line2d_4\">\n      <g>\n       <use style=\"stroke:#000000;stroke-width:0.8;\" x=\"90.71347\" xlink:href=\"#m4ad9d84c9f\" y=\"143.1\"/>\n      </g>\n     </g>\n     <g id=\"text_2\">\n      <!-- 10 -->\n      <defs>\n       <path d=\"M 12.40625 8.296875 \nL 28.515625 8.296875 \nL 28.515625 63.921875 \nL 10.984375 60.40625 \nL 10.984375 69.390625 \nL 28.421875 72.90625 \nL 38.28125 72.90625 \nL 38.28125 8.296875 \nL 54.390625 8.296875 \nL 54.390625 0 \nL 12.40625 0 \nz\n\" id=\"DejaVuSans-49\"/>\n       <path d=\"M 31.78125 66.40625 \nQ 24.171875 66.40625 20.328125 58.90625 \nQ 16.5 51.421875 16.5 36.375 \nQ 16.5 21.390625 20.328125 13.890625 \nQ 24.171875 6.390625 31.78125 6.390625 \nQ 39.453125 6.390625 43.28125 13.890625 \nQ 47.125 21.390625 47.125 36.375 \nQ 47.125 51.421875 43.28125 58.90625 \nQ 39.453125 66.40625 31.78125 66.40625 \nz\nM 31.78125 74.21875 \nQ 44.046875 74.21875 50.515625 64.515625 \nQ 56.984375 54.828125 56.984375 36.375 \nQ 56.984375 17.96875 50.515625 8.265625 \nQ 44.046875 -1.421875 31.78125 -1.421875 \nQ 19.53125 -1.421875 13.0625 8.265625 \nQ 6.59375 17.96875 6.59375 36.375 \nQ 6.59375 54.828125 13.0625 64.515625 \nQ 19.53125 74.21875 31.78125 74.21875 \nz\n\" id=\"DejaVuSans-48\"/>\n      </defs>\n      <g transform=\"translate(84.35097 157.698438)scale(0.1 -0.1)\">\n       <use xlink:href=\"#DejaVuSans-49\"/>\n       <use x=\"63.623047\" xlink:href=\"#DejaVuSans-48\"/>\n      </g>\n     </g>\n    </g>\n    <g id=\"xtick_3\">\n     <g id=\"line2d_5\">\n      <path clip-path=\"url(#p91d997689e)\" d=\"M 124.385884 143.1 \nL 124.385884 7.2 \n\" style=\"fill:none;stroke:#b0b0b0;stroke-linecap:square;stroke-width:0.8;\"/>\n     </g>\n     <g id=\"line2d_6\">\n      <g>\n       <use style=\"stroke:#000000;stroke-width:0.8;\" x=\"124.385884\" xlink:href=\"#m4ad9d84c9f\" y=\"143.1\"/>\n      </g>\n     </g>\n     <g id=\"text_3\">\n      <!-- 15 -->\n      <g transform=\"translate(118.023384 157.698438)scale(0.1 -0.1)\">\n       <use xlink:href=\"#DejaVuSans-49\"/>\n       <use x=\"63.623047\" xlink:href=\"#DejaVuSans-53\"/>\n      </g>\n     </g>\n    </g>\n    <g id=\"xtick_4\">\n     <g id=\"line2d_7\">\n      <path clip-path=\"url(#p91d997689e)\" d=\"M 158.058297 143.1 \nL 158.058297 7.2 \n\" style=\"fill:none;stroke:#b0b0b0;stroke-linecap:square;stroke-width:0.8;\"/>\n     </g>\n     <g id=\"line2d_8\">\n      <g>\n       <use style=\"stroke:#000000;stroke-width:0.8;\" x=\"158.058297\" xlink:href=\"#m4ad9d84c9f\" y=\"143.1\"/>\n      </g>\n     </g>\n     <g id=\"text_4\">\n      <!-- 20 -->\n      <defs>\n       <path d=\"M 19.1875 8.296875 \nL 53.609375 8.296875 \nL 53.609375 0 \nL 7.328125 0 \nL 7.328125 8.296875 \nQ 12.9375 14.109375 22.625 23.890625 \nQ 32.328125 33.6875 34.8125 36.53125 \nQ 39.546875 41.84375 41.421875 45.53125 \nQ 43.3125 49.21875 43.3125 52.78125 \nQ 43.3125 58.59375 39.234375 62.25 \nQ 35.15625 65.921875 28.609375 65.921875 \nQ 23.96875 65.921875 18.8125 64.3125 \nQ 13.671875 62.703125 7.8125 59.421875 \nL 7.8125 69.390625 \nQ 13.765625 71.78125 18.9375 73 \nQ 24.125 74.21875 28.421875 74.21875 \nQ 39.75 74.21875 46.484375 68.546875 \nQ 53.21875 62.890625 53.21875 53.421875 \nQ 53.21875 48.921875 51.53125 44.890625 \nQ 49.859375 40.875 45.40625 35.40625 \nQ 44.1875 33.984375 37.640625 27.21875 \nQ 31.109375 20.453125 19.1875 8.296875 \nz\n\" id=\"DejaVuSans-50\"/>\n      </defs>\n      <g transform=\"translate(151.695797 157.698438)scale(0.1 -0.1)\">\n       <use xlink:href=\"#DejaVuSans-50\"/>\n       <use x=\"63.623047\" xlink:href=\"#DejaVuSans-48\"/>\n      </g>\n     </g>\n    </g>\n    <g id=\"xtick_5\">\n     <g id=\"line2d_9\">\n      <path clip-path=\"url(#p91d997689e)\" d=\"M 191.730711 143.1 \nL 191.730711 7.2 \n\" style=\"fill:none;stroke:#b0b0b0;stroke-linecap:square;stroke-width:0.8;\"/>\n     </g>\n     <g id=\"line2d_10\">\n      <g>\n       <use style=\"stroke:#000000;stroke-width:0.8;\" x=\"191.730711\" xlink:href=\"#m4ad9d84c9f\" y=\"143.1\"/>\n      </g>\n     </g>\n     <g id=\"text_5\">\n      <!-- 25 -->\n      <g transform=\"translate(185.368211 157.698438)scale(0.1 -0.1)\">\n       <use xlink:href=\"#DejaVuSans-50\"/>\n       <use x=\"63.623047\" xlink:href=\"#DejaVuSans-53\"/>\n      </g>\n     </g>\n    </g>\n    <g id=\"xtick_6\">\n     <g id=\"line2d_11\">\n      <path clip-path=\"url(#p91d997689e)\" d=\"M 225.403125 143.1 \nL 225.403125 7.2 \n\" style=\"fill:none;stroke:#b0b0b0;stroke-linecap:square;stroke-width:0.8;\"/>\n     </g>\n     <g id=\"line2d_12\">\n      <g>\n       <use style=\"stroke:#000000;stroke-width:0.8;\" x=\"225.403125\" xlink:href=\"#m4ad9d84c9f\" y=\"143.1\"/>\n      </g>\n     </g>\n     <g id=\"text_6\">\n      <!-- 30 -->\n      <defs>\n       <path d=\"M 40.578125 39.3125 \nQ 47.65625 37.796875 51.625 33 \nQ 55.609375 28.21875 55.609375 21.1875 \nQ 55.609375 10.40625 48.1875 4.484375 \nQ 40.765625 -1.421875 27.09375 -1.421875 \nQ 22.515625 -1.421875 17.65625 -0.515625 \nQ 12.796875 0.390625 7.625 2.203125 \nL 7.625 11.71875 \nQ 11.71875 9.328125 16.59375 8.109375 \nQ 21.484375 6.890625 26.8125 6.890625 \nQ 36.078125 6.890625 40.9375 10.546875 \nQ 45.796875 14.203125 45.796875 21.1875 \nQ 45.796875 27.640625 41.28125 31.265625 \nQ 36.765625 34.90625 28.71875 34.90625 \nL 20.21875 34.90625 \nL 20.21875 43.015625 \nL 29.109375 43.015625 \nQ 36.375 43.015625 40.234375 45.921875 \nQ 44.09375 48.828125 44.09375 54.296875 \nQ 44.09375 59.90625 40.109375 62.90625 \nQ 36.140625 65.921875 28.71875 65.921875 \nQ 24.65625 65.921875 20.015625 65.03125 \nQ 15.375 64.15625 9.8125 62.3125 \nL 9.8125 71.09375 \nQ 15.4375 72.65625 20.34375 73.4375 \nQ 25.25 74.21875 29.59375 74.21875 \nQ 40.828125 74.21875 47.359375 69.109375 \nQ 53.90625 64.015625 53.90625 55.328125 \nQ 53.90625 49.265625 50.4375 45.09375 \nQ 46.96875 40.921875 40.578125 39.3125 \nz\n\" id=\"DejaVuSans-51\"/>\n      </defs>\n      <g transform=\"translate(219.040625 157.698438)scale(0.1 -0.1)\">\n       <use xlink:href=\"#DejaVuSans-51\"/>\n       <use x=\"63.623047\" xlink:href=\"#DejaVuSans-48\"/>\n      </g>\n     </g>\n    </g>\n    <g id=\"text_7\">\n     <!-- epoch -->\n     <defs>\n      <path d=\"M 56.203125 29.59375 \nL 56.203125 25.203125 \nL 14.890625 25.203125 \nQ 15.484375 15.921875 20.484375 11.0625 \nQ 25.484375 6.203125 34.421875 6.203125 \nQ 39.59375 6.203125 44.453125 7.46875 \nQ 49.3125 8.734375 54.109375 11.28125 \nL 54.109375 2.78125 \nQ 49.265625 0.734375 44.1875 -0.34375 \nQ 39.109375 -1.421875 33.890625 -1.421875 \nQ 20.796875 -1.421875 13.15625 6.1875 \nQ 5.515625 13.8125 5.515625 26.8125 \nQ 5.515625 40.234375 12.765625 48.109375 \nQ 20.015625 56 32.328125 56 \nQ 43.359375 56 49.78125 48.890625 \nQ 56.203125 41.796875 56.203125 29.59375 \nz\nM 47.21875 32.234375 \nQ 47.125 39.59375 43.09375 43.984375 \nQ 39.0625 48.390625 32.421875 48.390625 \nQ 24.90625 48.390625 20.390625 44.140625 \nQ 15.875 39.890625 15.1875 32.171875 \nz\n\" id=\"DejaVuSans-101\"/>\n      <path d=\"M 18.109375 8.203125 \nL 18.109375 -20.796875 \nL 9.078125 -20.796875 \nL 9.078125 54.6875 \nL 18.109375 54.6875 \nL 18.109375 46.390625 \nQ 20.953125 51.265625 25.265625 53.625 \nQ 29.59375 56 35.59375 56 \nQ 45.5625 56 51.78125 48.09375 \nQ 58.015625 40.1875 58.015625 27.296875 \nQ 58.015625 14.40625 51.78125 6.484375 \nQ 45.5625 -1.421875 35.59375 -1.421875 \nQ 29.59375 -1.421875 25.265625 0.953125 \nQ 20.953125 3.328125 18.109375 8.203125 \nz\nM 48.6875 27.296875 \nQ 48.6875 37.203125 44.609375 42.84375 \nQ 40.53125 48.484375 33.40625 48.484375 \nQ 26.265625 48.484375 22.1875 42.84375 \nQ 18.109375 37.203125 18.109375 27.296875 \nQ 18.109375 17.390625 22.1875 11.75 \nQ 26.265625 6.109375 33.40625 6.109375 \nQ 40.53125 6.109375 44.609375 11.75 \nQ 48.6875 17.390625 48.6875 27.296875 \nz\n\" id=\"DejaVuSans-112\"/>\n      <path d=\"M 30.609375 48.390625 \nQ 23.390625 48.390625 19.1875 42.75 \nQ 14.984375 37.109375 14.984375 27.296875 \nQ 14.984375 17.484375 19.15625 11.84375 \nQ 23.34375 6.203125 30.609375 6.203125 \nQ 37.796875 6.203125 41.984375 11.859375 \nQ 46.1875 17.53125 46.1875 27.296875 \nQ 46.1875 37.015625 41.984375 42.703125 \nQ 37.796875 48.390625 30.609375 48.390625 \nz\nM 30.609375 56 \nQ 42.328125 56 49.015625 48.375 \nQ 55.71875 40.765625 55.71875 27.296875 \nQ 55.71875 13.875 49.015625 6.21875 \nQ 42.328125 -1.421875 30.609375 -1.421875 \nQ 18.84375 -1.421875 12.171875 6.21875 \nQ 5.515625 13.875 5.515625 27.296875 \nQ 5.515625 40.765625 12.171875 48.375 \nQ 18.84375 56 30.609375 56 \nz\n\" id=\"DejaVuSans-111\"/>\n      <path d=\"M 48.78125 52.59375 \nL 48.78125 44.1875 \nQ 44.96875 46.296875 41.140625 47.34375 \nQ 37.3125 48.390625 33.40625 48.390625 \nQ 24.65625 48.390625 19.8125 42.84375 \nQ 14.984375 37.3125 14.984375 27.296875 \nQ 14.984375 17.28125 19.8125 11.734375 \nQ 24.65625 6.203125 33.40625 6.203125 \nQ 37.3125 6.203125 41.140625 7.25 \nQ 44.96875 8.296875 48.78125 10.40625 \nL 48.78125 2.09375 \nQ 45.015625 0.34375 40.984375 -0.53125 \nQ 36.96875 -1.421875 32.421875 -1.421875 \nQ 20.0625 -1.421875 12.78125 6.34375 \nQ 5.515625 14.109375 5.515625 27.296875 \nQ 5.515625 40.671875 12.859375 48.328125 \nQ 20.21875 56 33.015625 56 \nQ 37.15625 56 41.109375 55.140625 \nQ 45.0625 54.296875 48.78125 52.59375 \nz\n\" id=\"DejaVuSans-99\"/>\n      <path d=\"M 54.890625 33.015625 \nL 54.890625 0 \nL 45.90625 0 \nL 45.90625 32.71875 \nQ 45.90625 40.484375 42.875 44.328125 \nQ 39.84375 48.1875 33.796875 48.1875 \nQ 26.515625 48.1875 22.3125 43.546875 \nQ 18.109375 38.921875 18.109375 30.90625 \nL 18.109375 0 \nL 9.078125 0 \nL 9.078125 75.984375 \nL 18.109375 75.984375 \nL 18.109375 46.1875 \nQ 21.34375 51.125 25.703125 53.5625 \nQ 30.078125 56 35.796875 56 \nQ 45.21875 56 50.046875 50.171875 \nQ 54.890625 44.34375 54.890625 33.015625 \nz\n\" id=\"DejaVuSans-104\"/>\n     </defs>\n     <g transform=\"translate(112.525 171.376563)scale(0.1 -0.1)\">\n      <use xlink:href=\"#DejaVuSans-101\"/>\n      <use x=\"61.523438\" xlink:href=\"#DejaVuSans-112\"/>\n      <use x=\"125\" xlink:href=\"#DejaVuSans-111\"/>\n      <use x=\"186.181641\" xlink:href=\"#DejaVuSans-99\"/>\n      <use x=\"241.162109\" xlink:href=\"#DejaVuSans-104\"/>\n     </g>\n    </g>\n   </g>\n   <g id=\"matplotlib.axis_2\">\n    <g id=\"ytick_1\">\n     <g id=\"line2d_13\">\n      <path clip-path=\"url(#p91d997689e)\" d=\"M 30.103125 120.45 \nL 225.403125 120.45 \n\" style=\"fill:none;stroke:#b0b0b0;stroke-linecap:square;stroke-width:0.8;\"/>\n     </g>\n     <g id=\"line2d_14\">\n      <defs>\n       <path d=\"M 0 0 \nL -3.5 0 \n\" id=\"md8e2b7a0e1\" style=\"stroke:#000000;stroke-width:0.8;\"/>\n      </defs>\n      <g>\n       <use style=\"stroke:#000000;stroke-width:0.8;\" x=\"30.103125\" xlink:href=\"#md8e2b7a0e1\" y=\"120.45\"/>\n      </g>\n     </g>\n     <g id=\"text_8\">\n      <!-- 0.4 -->\n      <defs>\n       <path d=\"M 10.6875 12.40625 \nL 21 12.40625 \nL 21 0 \nL 10.6875 0 \nz\n\" id=\"DejaVuSans-46\"/>\n       <path d=\"M 37.796875 64.3125 \nL 12.890625 25.390625 \nL 37.796875 25.390625 \nz\nM 35.203125 72.90625 \nL 47.609375 72.90625 \nL 47.609375 25.390625 \nL 58.015625 25.390625 \nL 58.015625 17.1875 \nL 47.609375 17.1875 \nL 47.609375 0 \nL 37.796875 0 \nL 37.796875 17.1875 \nL 4.890625 17.1875 \nL 4.890625 26.703125 \nz\n\" id=\"DejaVuSans-52\"/>\n      </defs>\n      <g transform=\"translate(7.2 124.249219)scale(0.1 -0.1)\">\n       <use xlink:href=\"#DejaVuSans-48\"/>\n       <use x=\"63.623047\" xlink:href=\"#DejaVuSans-46\"/>\n       <use x=\"95.410156\" xlink:href=\"#DejaVuSans-52\"/>\n      </g>\n     </g>\n    </g>\n    <g id=\"ytick_2\">\n     <g id=\"line2d_15\">\n      <path clip-path=\"url(#p91d997689e)\" d=\"M 30.103125 75.15 \nL 225.403125 75.15 \n\" style=\"fill:none;stroke:#b0b0b0;stroke-linecap:square;stroke-width:0.8;\"/>\n     </g>\n     <g id=\"line2d_16\">\n      <g>\n       <use style=\"stroke:#000000;stroke-width:0.8;\" x=\"30.103125\" xlink:href=\"#md8e2b7a0e1\" y=\"75.15\"/>\n      </g>\n     </g>\n     <g id=\"text_9\">\n      <!-- 0.6 -->\n      <defs>\n       <path d=\"M 33.015625 40.375 \nQ 26.375 40.375 22.484375 35.828125 \nQ 18.609375 31.296875 18.609375 23.390625 \nQ 18.609375 15.53125 22.484375 10.953125 \nQ 26.375 6.390625 33.015625 6.390625 \nQ 39.65625 6.390625 43.53125 10.953125 \nQ 47.40625 15.53125 47.40625 23.390625 \nQ 47.40625 31.296875 43.53125 35.828125 \nQ 39.65625 40.375 33.015625 40.375 \nz\nM 52.59375 71.296875 \nL 52.59375 62.3125 \nQ 48.875 64.0625 45.09375 64.984375 \nQ 41.3125 65.921875 37.59375 65.921875 \nQ 27.828125 65.921875 22.671875 59.328125 \nQ 17.53125 52.734375 16.796875 39.40625 \nQ 19.671875 43.65625 24.015625 45.921875 \nQ 28.375 48.1875 33.59375 48.1875 \nQ 44.578125 48.1875 50.953125 41.515625 \nQ 57.328125 34.859375 57.328125 23.390625 \nQ 57.328125 12.15625 50.6875 5.359375 \nQ 44.046875 -1.421875 33.015625 -1.421875 \nQ 20.359375 -1.421875 13.671875 8.265625 \nQ 6.984375 17.96875 6.984375 36.375 \nQ 6.984375 53.65625 15.1875 63.9375 \nQ 23.390625 74.21875 37.203125 74.21875 \nQ 40.921875 74.21875 44.703125 73.484375 \nQ 48.484375 72.75 52.59375 71.296875 \nz\n\" id=\"DejaVuSans-54\"/>\n      </defs>\n      <g transform=\"translate(7.2 78.949219)scale(0.1 -0.1)\">\n       <use xlink:href=\"#DejaVuSans-48\"/>\n       <use x=\"63.623047\" xlink:href=\"#DejaVuSans-46\"/>\n       <use x=\"95.410156\" xlink:href=\"#DejaVuSans-54\"/>\n      </g>\n     </g>\n    </g>\n    <g id=\"ytick_3\">\n     <g id=\"line2d_17\">\n      <path clip-path=\"url(#p91d997689e)\" d=\"M 30.103125 29.85 \nL 225.403125 29.85 \n\" style=\"fill:none;stroke:#b0b0b0;stroke-linecap:square;stroke-width:0.8;\"/>\n     </g>\n     <g id=\"line2d_18\">\n      <g>\n       <use style=\"stroke:#000000;stroke-width:0.8;\" x=\"30.103125\" xlink:href=\"#md8e2b7a0e1\" y=\"29.85\"/>\n      </g>\n     </g>\n     <g id=\"text_10\">\n      <!-- 0.8 -->\n      <defs>\n       <path d=\"M 31.78125 34.625 \nQ 24.75 34.625 20.71875 30.859375 \nQ 16.703125 27.09375 16.703125 20.515625 \nQ 16.703125 13.921875 20.71875 10.15625 \nQ 24.75 6.390625 31.78125 6.390625 \nQ 38.8125 6.390625 42.859375 10.171875 \nQ 46.921875 13.96875 46.921875 20.515625 \nQ 46.921875 27.09375 42.890625 30.859375 \nQ 38.875 34.625 31.78125 34.625 \nz\nM 21.921875 38.8125 \nQ 15.578125 40.375 12.03125 44.71875 \nQ 8.5 49.078125 8.5 55.328125 \nQ 8.5 64.0625 14.71875 69.140625 \nQ 20.953125 74.21875 31.78125 74.21875 \nQ 42.671875 74.21875 48.875 69.140625 \nQ 55.078125 64.0625 55.078125 55.328125 \nQ 55.078125 49.078125 51.53125 44.71875 \nQ 48 40.375 41.703125 38.8125 \nQ 48.828125 37.15625 52.796875 32.3125 \nQ 56.78125 27.484375 56.78125 20.515625 \nQ 56.78125 9.90625 50.3125 4.234375 \nQ 43.84375 -1.421875 31.78125 -1.421875 \nQ 19.734375 -1.421875 13.25 4.234375 \nQ 6.78125 9.90625 6.78125 20.515625 \nQ 6.78125 27.484375 10.78125 32.3125 \nQ 14.796875 37.15625 21.921875 38.8125 \nz\nM 18.3125 54.390625 \nQ 18.3125 48.734375 21.84375 45.5625 \nQ 25.390625 42.390625 31.78125 42.390625 \nQ 38.140625 42.390625 41.71875 45.5625 \nQ 45.3125 48.734375 45.3125 54.390625 \nQ 45.3125 60.0625 41.71875 63.234375 \nQ 38.140625 66.40625 31.78125 66.40625 \nQ 25.390625 66.40625 21.84375 63.234375 \nQ 18.3125 60.0625 18.3125 54.390625 \nz\n\" id=\"DejaVuSans-56\"/>\n      </defs>\n      <g transform=\"translate(7.2 33.649219)scale(0.1 -0.1)\">\n       <use xlink:href=\"#DejaVuSans-48\"/>\n       <use x=\"63.623047\" xlink:href=\"#DejaVuSans-46\"/>\n       <use x=\"95.410156\" xlink:href=\"#DejaVuSans-56\"/>\n      </g>\n     </g>\n    </g>\n   </g>\n   <g id=\"line2d_19\">\n    <path clip-path=\"url(#p91d997689e)\" d=\"M 30.103125 121.740002 \nL 36.837608 123.751801 \nL 43.572091 125.696337 \nL 50.306573 127.045875 \nL 57.041056 128.525543 \nL 63.775539 129.670083 \nL 70.510022 131.043916 \nL 77.244504 132.64042 \nL 83.978987 133.672553 \nL 90.71347 134.766996 \nL 97.447953 135.794726 \nL 104.182435 136.677682 \nL 110.916918 137.611054 \nL 117.651401 138.646509 \nL 124.385884 139.293037 \nL 131.120366 140.536091 \nL 137.854849 141.510547 \nL 144.589332 142.266663 \nL 151.323815 142.851382 \nL 158.058297 143.629445 \nL 164.79278 144.495716 \nL 171.527263 145.129841 \nL 178.261746 146.197219 \nL 184.996228 146.711433 \nL 191.730711 147.39298 \nL 198.465194 148.276621 \nL 205.199677 148.982897 \nL 211.934159 149.716276 \nL 218.668642 149.863487 \nL 225.403125 151.214456 \n\" style=\"fill:none;stroke:#1f77b4;stroke-linecap:square;stroke-width:1.5;\"/>\n   </g>\n   <g id=\"line2d_20\">\n    <path clip-path=\"url(#p91d997689e)\" d=\"M 30.103125 17.46045 \nL 36.837608 16.8338 \nL 43.572091 16.1845 \nL 50.306573 15.54275 \nL 57.041056 14.8406 \nL 63.775539 14.4329 \nL 70.510022 14.089375 \nL 77.244504 13.41365 \nL 83.978987 12.83985 \nL 90.71347 12.58315 \nL 97.447953 12.4699 \nL 104.182435 11.914975 \nL 110.916918 11.703575 \nL 117.651401 11.277 \nL 124.385884 10.978775 \nL 131.120366 10.548425 \nL 137.854849 10.22755 \nL 144.589332 9.9633 \nL 151.323815 10.057675 \nL 158.058297 9.347975 \nL 164.79278 9.5103 \nL 171.527263 8.842125 \nL 178.261746 8.472175 \nL 184.996228 8.366475 \nL 191.730711 8.306075 \nL 198.465194 7.928575 \nL 205.199677 7.777575 \nL 211.934159 7.49445 \nL 218.668642 7.43405 \nL 225.403125 6.7923 \n\" style=\"fill:none;stroke:#bf00bf;stroke-dasharray:5.55,2.4;stroke-dashoffset:0;stroke-width:1.5;\"/>\n   </g>\n   <g id=\"line2d_21\">\n    <path clip-path=\"url(#p91d997689e)\" d=\"M 30.103125 21.40155 \nL 36.837608 19.884 \nL 43.572091 21.67335 \nL 50.306573 21.4242 \nL 57.041056 18.77415 \nL 63.775539 20.17845 \nL 70.510022 18.50235 \nL 77.244504 17.50575 \nL 83.978987 17.7096 \nL 90.71347 17.3019 \nL 97.447953 16.6224 \nL 104.182435 17.4378 \nL 110.916918 18.77415 \nL 117.651401 16.87155 \nL 124.385884 20.72205 \nL 131.120366 16.14675 \nL 137.854849 21.696 \nL 144.589332 16.46385 \nL 151.323815 18.41175 \nL 158.058297 18.72885 \nL 164.79278 19.7934 \nL 171.527263 20.67675 \nL 178.261746 14.3574 \nL 184.996228 15.8976 \nL 191.730711 17.3925 \nL 198.465194 14.7198 \nL 205.199677 13.6779 \nL 211.934159 16.0788 \nL 218.668642 18.3438 \nL 225.403125 16.50915 \n\" style=\"fill:none;stroke:#008000;stroke-dasharray:9.6,2.4,1.5,2.4;stroke-dashoffset:0;stroke-width:1.5;\"/>\n   </g>\n   <g id=\"patch_3\">\n    <path d=\"M 30.103125 143.1 \nL 30.103125 7.2 \n\" style=\"fill:none;stroke:#000000;stroke-linecap:square;stroke-linejoin:miter;stroke-width:0.8;\"/>\n   </g>\n   <g id=\"patch_4\">\n    <path d=\"M 225.403125 143.1 \nL 225.403125 7.2 \n\" style=\"fill:none;stroke:#000000;stroke-linecap:square;stroke-linejoin:miter;stroke-width:0.8;\"/>\n   </g>\n   <g id=\"patch_5\">\n    <path d=\"M 30.103125 143.1 \nL 225.403125 143.1 \n\" style=\"fill:none;stroke:#000000;stroke-linecap:square;stroke-linejoin:miter;stroke-width:0.8;\"/>\n   </g>\n   <g id=\"patch_6\">\n    <path d=\"M 30.103125 7.2 \nL 225.403125 7.2 \n\" style=\"fill:none;stroke:#000000;stroke-linecap:square;stroke-linejoin:miter;stroke-width:0.8;\"/>\n   </g>\n   <g id=\"legend_1\">\n    <g id=\"patch_7\">\n     <path d=\"M 140.634375 138.1 \nL 218.403125 138.1 \nQ 220.403125 138.1 220.403125 136.1 \nL 220.403125 93.065625 \nQ 220.403125 91.065625 218.403125 91.065625 \nL 140.634375 91.065625 \nQ 138.634375 91.065625 138.634375 93.065625 \nL 138.634375 136.1 \nQ 138.634375 138.1 140.634375 138.1 \nz\n\" style=\"fill:#ffffff;opacity:0.8;stroke:#cccccc;stroke-linejoin:miter;\"/>\n    </g>\n    <g id=\"line2d_22\">\n     <path d=\"M 142.634375 99.164062 \nL 162.634375 99.164062 \n\" style=\"fill:none;stroke:#1f77b4;stroke-linecap:square;stroke-width:1.5;\"/>\n    </g>\n    <g id=\"line2d_23\"/>\n    <g id=\"text_11\">\n     <!-- train loss -->\n     <defs>\n      <path d=\"M 18.3125 70.21875 \nL 18.3125 54.6875 \nL 36.8125 54.6875 \nL 36.8125 47.703125 \nL 18.3125 47.703125 \nL 18.3125 18.015625 \nQ 18.3125 11.328125 20.140625 9.421875 \nQ 21.96875 7.515625 27.59375 7.515625 \nL 36.8125 7.515625 \nL 36.8125 0 \nL 27.59375 0 \nQ 17.1875 0 13.234375 3.875 \nQ 9.28125 7.765625 9.28125 18.015625 \nL 9.28125 47.703125 \nL 2.6875 47.703125 \nL 2.6875 54.6875 \nL 9.28125 54.6875 \nL 9.28125 70.21875 \nz\n\" id=\"DejaVuSans-116\"/>\n      <path d=\"M 41.109375 46.296875 \nQ 39.59375 47.171875 37.8125 47.578125 \nQ 36.03125 48 33.890625 48 \nQ 26.265625 48 22.1875 43.046875 \nQ 18.109375 38.09375 18.109375 28.8125 \nL 18.109375 0 \nL 9.078125 0 \nL 9.078125 54.6875 \nL 18.109375 54.6875 \nL 18.109375 46.1875 \nQ 20.953125 51.171875 25.484375 53.578125 \nQ 30.03125 56 36.53125 56 \nQ 37.453125 56 38.578125 55.875 \nQ 39.703125 55.765625 41.0625 55.515625 \nz\n\" id=\"DejaVuSans-114\"/>\n      <path d=\"M 34.28125 27.484375 \nQ 23.390625 27.484375 19.1875 25 \nQ 14.984375 22.515625 14.984375 16.5 \nQ 14.984375 11.71875 18.140625 8.90625 \nQ 21.296875 6.109375 26.703125 6.109375 \nQ 34.1875 6.109375 38.703125 11.40625 \nQ 43.21875 16.703125 43.21875 25.484375 \nL 43.21875 27.484375 \nz\nM 52.203125 31.203125 \nL 52.203125 0 \nL 43.21875 0 \nL 43.21875 8.296875 \nQ 40.140625 3.328125 35.546875 0.953125 \nQ 30.953125 -1.421875 24.3125 -1.421875 \nQ 15.921875 -1.421875 10.953125 3.296875 \nQ 6 8.015625 6 15.921875 \nQ 6 25.140625 12.171875 29.828125 \nQ 18.359375 34.515625 30.609375 34.515625 \nL 43.21875 34.515625 \nL 43.21875 35.40625 \nQ 43.21875 41.609375 39.140625 45 \nQ 35.0625 48.390625 27.6875 48.390625 \nQ 23 48.390625 18.546875 47.265625 \nQ 14.109375 46.140625 10.015625 43.890625 \nL 10.015625 52.203125 \nQ 14.9375 54.109375 19.578125 55.046875 \nQ 24.21875 56 28.609375 56 \nQ 40.484375 56 46.34375 49.84375 \nQ 52.203125 43.703125 52.203125 31.203125 \nz\n\" id=\"DejaVuSans-97\"/>\n      <path d=\"M 9.421875 54.6875 \nL 18.40625 54.6875 \nL 18.40625 0 \nL 9.421875 0 \nz\nM 9.421875 75.984375 \nL 18.40625 75.984375 \nL 18.40625 64.59375 \nL 9.421875 64.59375 \nz\n\" id=\"DejaVuSans-105\"/>\n      <path d=\"M 54.890625 33.015625 \nL 54.890625 0 \nL 45.90625 0 \nL 45.90625 32.71875 \nQ 45.90625 40.484375 42.875 44.328125 \nQ 39.84375 48.1875 33.796875 48.1875 \nQ 26.515625 48.1875 22.3125 43.546875 \nQ 18.109375 38.921875 18.109375 30.90625 \nL 18.109375 0 \nL 9.078125 0 \nL 9.078125 54.6875 \nL 18.109375 54.6875 \nL 18.109375 46.1875 \nQ 21.34375 51.125 25.703125 53.5625 \nQ 30.078125 56 35.796875 56 \nQ 45.21875 56 50.046875 50.171875 \nQ 54.890625 44.34375 54.890625 33.015625 \nz\n\" id=\"DejaVuSans-110\"/>\n      <path id=\"DejaVuSans-32\"/>\n      <path d=\"M 9.421875 75.984375 \nL 18.40625 75.984375 \nL 18.40625 0 \nL 9.421875 0 \nz\n\" id=\"DejaVuSans-108\"/>\n      <path d=\"M 44.28125 53.078125 \nL 44.28125 44.578125 \nQ 40.484375 46.53125 36.375 47.5 \nQ 32.28125 48.484375 27.875 48.484375 \nQ 21.1875 48.484375 17.84375 46.4375 \nQ 14.5 44.390625 14.5 40.28125 \nQ 14.5 37.15625 16.890625 35.375 \nQ 19.28125 33.59375 26.515625 31.984375 \nL 29.59375 31.296875 \nQ 39.15625 29.25 43.1875 25.515625 \nQ 47.21875 21.78125 47.21875 15.09375 \nQ 47.21875 7.46875 41.1875 3.015625 \nQ 35.15625 -1.421875 24.609375 -1.421875 \nQ 20.21875 -1.421875 15.453125 -0.5625 \nQ 10.6875 0.296875 5.421875 2 \nL 5.421875 11.28125 \nQ 10.40625 8.6875 15.234375 7.390625 \nQ 20.0625 6.109375 24.8125 6.109375 \nQ 31.15625 6.109375 34.5625 8.28125 \nQ 37.984375 10.453125 37.984375 14.40625 \nQ 37.984375 18.0625 35.515625 20.015625 \nQ 33.0625 21.96875 24.703125 23.78125 \nL 21.578125 24.515625 \nQ 13.234375 26.265625 9.515625 29.90625 \nQ 5.8125 33.546875 5.8125 39.890625 \nQ 5.8125 47.609375 11.28125 51.796875 \nQ 16.75 56 26.8125 56 \nQ 31.78125 56 36.171875 55.265625 \nQ 40.578125 54.546875 44.28125 53.078125 \nz\n\" id=\"DejaVuSans-115\"/>\n     </defs>\n     <g transform=\"translate(170.634375 102.664062)scale(0.1 -0.1)\">\n      <use xlink:href=\"#DejaVuSans-116\"/>\n      <use x=\"39.208984\" xlink:href=\"#DejaVuSans-114\"/>\n      <use x=\"80.322266\" xlink:href=\"#DejaVuSans-97\"/>\n      <use x=\"141.601562\" xlink:href=\"#DejaVuSans-105\"/>\n      <use x=\"169.384766\" xlink:href=\"#DejaVuSans-110\"/>\n      <use x=\"232.763672\" xlink:href=\"#DejaVuSans-32\"/>\n      <use x=\"264.550781\" xlink:href=\"#DejaVuSans-108\"/>\n      <use x=\"292.333984\" xlink:href=\"#DejaVuSans-111\"/>\n      <use x=\"353.515625\" xlink:href=\"#DejaVuSans-115\"/>\n      <use x=\"405.615234\" xlink:href=\"#DejaVuSans-115\"/>\n     </g>\n    </g>\n    <g id=\"line2d_24\">\n     <path d=\"M 142.634375 113.842187 \nL 162.634375 113.842187 \n\" style=\"fill:none;stroke:#bf00bf;stroke-dasharray:5.55,2.4;stroke-dashoffset:0;stroke-width:1.5;\"/>\n    </g>\n    <g id=\"line2d_25\"/>\n    <g id=\"text_12\">\n     <!-- train acc -->\n     <g transform=\"translate(170.634375 117.342187)scale(0.1 -0.1)\">\n      <use xlink:href=\"#DejaVuSans-116\"/>\n      <use x=\"39.208984\" xlink:href=\"#DejaVuSans-114\"/>\n      <use x=\"80.322266\" xlink:href=\"#DejaVuSans-97\"/>\n      <use x=\"141.601562\" xlink:href=\"#DejaVuSans-105\"/>\n      <use x=\"169.384766\" xlink:href=\"#DejaVuSans-110\"/>\n      <use x=\"232.763672\" xlink:href=\"#DejaVuSans-32\"/>\n      <use x=\"264.550781\" xlink:href=\"#DejaVuSans-97\"/>\n      <use x=\"325.830078\" xlink:href=\"#DejaVuSans-99\"/>\n      <use x=\"380.810547\" xlink:href=\"#DejaVuSans-99\"/>\n     </g>\n    </g>\n    <g id=\"line2d_26\">\n     <path d=\"M 142.634375 128.520312 \nL 162.634375 128.520312 \n\" style=\"fill:none;stroke:#008000;stroke-dasharray:9.6,2.4,1.5,2.4;stroke-dashoffset:0;stroke-width:1.5;\"/>\n    </g>\n    <g id=\"line2d_27\"/>\n    <g id=\"text_13\">\n     <!-- test acc -->\n     <g transform=\"translate(170.634375 132.020312)scale(0.1 -0.1)\">\n      <use xlink:href=\"#DejaVuSans-116\"/>\n      <use x=\"39.208984\" xlink:href=\"#DejaVuSans-101\"/>\n      <use x=\"100.732422\" xlink:href=\"#DejaVuSans-115\"/>\n      <use x=\"152.832031\" xlink:href=\"#DejaVuSans-116\"/>\n      <use x=\"192.041016\" xlink:href=\"#DejaVuSans-32\"/>\n      <use x=\"223.828125\" xlink:href=\"#DejaVuSans-97\"/>\n      <use x=\"285.107422\" xlink:href=\"#DejaVuSans-99\"/>\n      <use x=\"340.087891\" xlink:href=\"#DejaVuSans-99\"/>\n     </g>\n    </g>\n   </g>\n  </g>\n </g>\n <defs>\n  <clipPath id=\"p91d997689e\">\n   <rect height=\"135.9\" width=\"195.3\" x=\"30.103125\" y=\"7.2\"/>\n  </clipPath>\n </defs>\n</svg>\n"
          },
          "metadata": {
            "needs_background": "light"
          }
        }
      ]
    },
    {
      "cell_type": "code",
      "source": [
        "bn_arch = ((14,12,30,20),(10,8,15,10))\n",
        "net1 = CustomNet(7,40,35,bn_arch)"
      ],
      "metadata": {
        "id": "JJZGW0lWoFIi"
      },
      "execution_count": null,
      "outputs": []
    },
    {
      "cell_type": "code",
      "source": [
        "print(net1)"
      ],
      "metadata": {
        "colab": {
          "base_uri": "https://localhost:8080/"
        },
        "id": "Cl3S2CC2jaiA",
        "outputId": "81c69411-65fb-4aea-e57f-9eba2ac47d70"
      },
      "execution_count": null,
      "outputs": [
        {
          "output_type": "stream",
          "name": "stdout",
          "text": [
            "CustomNet(\n",
            "  (Stem): Stem(\n",
            "    (unfold): Unfold(kernel_size=(7, 7), dilation=1, padding=0, stride=7)\n",
            "    (stem_Linear1): Linear(in_features=49, out_features=40, bias=True)\n",
            "    (stem_Linear2): Linear(in_features=40, out_features=35, bias=True)\n",
            "  )\n",
            "  (Backbone0): Backbone(\n",
            "    (backbone_Linear1): Linear(in_features=16, out_features=14, bias=True)\n",
            "    (relu_1): ReLU()\n",
            "    (backbone_Linear2): Linear(in_features=14, out_features=12, bias=True)\n",
            "    (backbone_Linear3): Linear(in_features=35, out_features=30, bias=True)\n",
            "    (relu_2): ReLU()\n",
            "    (backbone_Linear4): Linear(in_features=30, out_features=20, bias=True)\n",
            "  )\n",
            "  (Backbone1): Backbone(\n",
            "    (backbone_Linear1): Linear(in_features=12, out_features=10, bias=True)\n",
            "    (relu_1): ReLU()\n",
            "    (backbone_Linear2): Linear(in_features=10, out_features=8, bias=True)\n",
            "    (backbone_Linear3): Linear(in_features=20, out_features=15, bias=True)\n",
            "    (relu_2): ReLU()\n",
            "    (backbone_Linear4): Linear(in_features=15, out_features=10, bias=True)\n",
            "  )\n",
            ")\n"
          ]
        }
      ]
    },
    {
      "cell_type": "code",
      "source": [
        "lr = 0.1\n",
        "optimizer = torch.optim.SGD(net1.parameters(), lr=lr)"
      ],
      "metadata": {
        "id": "Yv-jTATuo1p0"
      },
      "execution_count": null,
      "outputs": []
    },
    {
      "cell_type": "code",
      "source": [
        "num_epochs = 50\n",
        "mu.train_ch3(net1, train_iter, test_iter, loss, num_epochs, optimizer)"
      ],
      "metadata": {
        "colab": {
          "base_uri": "https://localhost:8080/",
          "height": 261
        },
        "id": "pCn5H4mco_c6",
        "outputId": "6315bf05-16ef-46e8-8667-f8b7f8eeb6f1"
      },
      "execution_count": null,
      "outputs": [
        {
          "output_type": "display_data",
          "data": {
            "text/plain": [
              "<Figure size 252x180 with 1 Axes>"
            ],
            "image/svg+xml": "<?xml version=\"1.0\" encoding=\"utf-8\" standalone=\"no\"?>\n<!DOCTYPE svg PUBLIC \"-//W3C//DTD SVG 1.1//EN\"\n  \"http://www.w3.org/Graphics/SVG/1.1/DTD/svg11.dtd\">\n<!-- Created with matplotlib (https://matplotlib.org/) -->\n<svg height=\"180.65625pt\" version=\"1.1\" viewBox=\"0 0 238.965625 180.65625\" width=\"238.965625pt\" xmlns=\"http://www.w3.org/2000/svg\" xmlns:xlink=\"http://www.w3.org/1999/xlink\">\n <defs>\n  <style type=\"text/css\">\n*{stroke-linecap:butt;stroke-linejoin:round;}\n  </style>\n </defs>\n <g id=\"figure_1\">\n  <g id=\"patch_1\">\n   <path d=\"M 0 180.65625 \nL 238.965625 180.65625 \nL 238.965625 0 \nL 0 0 \nz\n\" style=\"fill:none;\"/>\n  </g>\n  <g id=\"axes_1\">\n   <g id=\"patch_2\">\n    <path d=\"M 30.103125 143.1 \nL 225.403125 143.1 \nL 225.403125 7.2 \nL 30.103125 7.2 \nz\n\" style=\"fill:#ffffff;\"/>\n   </g>\n   <g id=\"matplotlib.axis_1\">\n    <g id=\"xtick_1\">\n     <g id=\"line2d_1\">\n      <path clip-path=\"url(#pcfe1bccedc)\" d=\"M 65.974554 143.1 \nL 65.974554 7.2 \n\" style=\"fill:none;stroke:#b0b0b0;stroke-linecap:square;stroke-width:0.8;\"/>\n     </g>\n     <g id=\"line2d_2\">\n      <defs>\n       <path d=\"M 0 0 \nL 0 3.5 \n\" id=\"mc9fec5051f\" style=\"stroke:#000000;stroke-width:0.8;\"/>\n      </defs>\n      <g>\n       <use style=\"stroke:#000000;stroke-width:0.8;\" x=\"65.974554\" xlink:href=\"#mc9fec5051f\" y=\"143.1\"/>\n      </g>\n     </g>\n     <g id=\"text_1\">\n      <!-- 10 -->\n      <defs>\n       <path d=\"M 12.40625 8.296875 \nL 28.515625 8.296875 \nL 28.515625 63.921875 \nL 10.984375 60.40625 \nL 10.984375 69.390625 \nL 28.421875 72.90625 \nL 38.28125 72.90625 \nL 38.28125 8.296875 \nL 54.390625 8.296875 \nL 54.390625 0 \nL 12.40625 0 \nz\n\" id=\"DejaVuSans-49\"/>\n       <path d=\"M 31.78125 66.40625 \nQ 24.171875 66.40625 20.328125 58.90625 \nQ 16.5 51.421875 16.5 36.375 \nQ 16.5 21.390625 20.328125 13.890625 \nQ 24.171875 6.390625 31.78125 6.390625 \nQ 39.453125 6.390625 43.28125 13.890625 \nQ 47.125 21.390625 47.125 36.375 \nQ 47.125 51.421875 43.28125 58.90625 \nQ 39.453125 66.40625 31.78125 66.40625 \nz\nM 31.78125 74.21875 \nQ 44.046875 74.21875 50.515625 64.515625 \nQ 56.984375 54.828125 56.984375 36.375 \nQ 56.984375 17.96875 50.515625 8.265625 \nQ 44.046875 -1.421875 31.78125 -1.421875 \nQ 19.53125 -1.421875 13.0625 8.265625 \nQ 6.59375 17.96875 6.59375 36.375 \nQ 6.59375 54.828125 13.0625 64.515625 \nQ 19.53125 74.21875 31.78125 74.21875 \nz\n\" id=\"DejaVuSans-48\"/>\n      </defs>\n      <g transform=\"translate(59.612054 157.698438)scale(0.1 -0.1)\">\n       <use xlink:href=\"#DejaVuSans-49\"/>\n       <use x=\"63.623047\" xlink:href=\"#DejaVuSans-48\"/>\n      </g>\n     </g>\n    </g>\n    <g id=\"xtick_2\">\n     <g id=\"line2d_3\">\n      <path clip-path=\"url(#pcfe1bccedc)\" d=\"M 105.831696 143.1 \nL 105.831696 7.2 \n\" style=\"fill:none;stroke:#b0b0b0;stroke-linecap:square;stroke-width:0.8;\"/>\n     </g>\n     <g id=\"line2d_4\">\n      <g>\n       <use style=\"stroke:#000000;stroke-width:0.8;\" x=\"105.831696\" xlink:href=\"#mc9fec5051f\" y=\"143.1\"/>\n      </g>\n     </g>\n     <g id=\"text_2\">\n      <!-- 20 -->\n      <defs>\n       <path d=\"M 19.1875 8.296875 \nL 53.609375 8.296875 \nL 53.609375 0 \nL 7.328125 0 \nL 7.328125 8.296875 \nQ 12.9375 14.109375 22.625 23.890625 \nQ 32.328125 33.6875 34.8125 36.53125 \nQ 39.546875 41.84375 41.421875 45.53125 \nQ 43.3125 49.21875 43.3125 52.78125 \nQ 43.3125 58.59375 39.234375 62.25 \nQ 35.15625 65.921875 28.609375 65.921875 \nQ 23.96875 65.921875 18.8125 64.3125 \nQ 13.671875 62.703125 7.8125 59.421875 \nL 7.8125 69.390625 \nQ 13.765625 71.78125 18.9375 73 \nQ 24.125 74.21875 28.421875 74.21875 \nQ 39.75 74.21875 46.484375 68.546875 \nQ 53.21875 62.890625 53.21875 53.421875 \nQ 53.21875 48.921875 51.53125 44.890625 \nQ 49.859375 40.875 45.40625 35.40625 \nQ 44.1875 33.984375 37.640625 27.21875 \nQ 31.109375 20.453125 19.1875 8.296875 \nz\n\" id=\"DejaVuSans-50\"/>\n      </defs>\n      <g transform=\"translate(99.469196 157.698438)scale(0.1 -0.1)\">\n       <use xlink:href=\"#DejaVuSans-50\"/>\n       <use x=\"63.623047\" xlink:href=\"#DejaVuSans-48\"/>\n      </g>\n     </g>\n    </g>\n    <g id=\"xtick_3\">\n     <g id=\"line2d_5\">\n      <path clip-path=\"url(#pcfe1bccedc)\" d=\"M 145.688839 143.1 \nL 145.688839 7.2 \n\" style=\"fill:none;stroke:#b0b0b0;stroke-linecap:square;stroke-width:0.8;\"/>\n     </g>\n     <g id=\"line2d_6\">\n      <g>\n       <use style=\"stroke:#000000;stroke-width:0.8;\" x=\"145.688839\" xlink:href=\"#mc9fec5051f\" y=\"143.1\"/>\n      </g>\n     </g>\n     <g id=\"text_3\">\n      <!-- 30 -->\n      <defs>\n       <path d=\"M 40.578125 39.3125 \nQ 47.65625 37.796875 51.625 33 \nQ 55.609375 28.21875 55.609375 21.1875 \nQ 55.609375 10.40625 48.1875 4.484375 \nQ 40.765625 -1.421875 27.09375 -1.421875 \nQ 22.515625 -1.421875 17.65625 -0.515625 \nQ 12.796875 0.390625 7.625 2.203125 \nL 7.625 11.71875 \nQ 11.71875 9.328125 16.59375 8.109375 \nQ 21.484375 6.890625 26.8125 6.890625 \nQ 36.078125 6.890625 40.9375 10.546875 \nQ 45.796875 14.203125 45.796875 21.1875 \nQ 45.796875 27.640625 41.28125 31.265625 \nQ 36.765625 34.90625 28.71875 34.90625 \nL 20.21875 34.90625 \nL 20.21875 43.015625 \nL 29.109375 43.015625 \nQ 36.375 43.015625 40.234375 45.921875 \nQ 44.09375 48.828125 44.09375 54.296875 \nQ 44.09375 59.90625 40.109375 62.90625 \nQ 36.140625 65.921875 28.71875 65.921875 \nQ 24.65625 65.921875 20.015625 65.03125 \nQ 15.375 64.15625 9.8125 62.3125 \nL 9.8125 71.09375 \nQ 15.4375 72.65625 20.34375 73.4375 \nQ 25.25 74.21875 29.59375 74.21875 \nQ 40.828125 74.21875 47.359375 69.109375 \nQ 53.90625 64.015625 53.90625 55.328125 \nQ 53.90625 49.265625 50.4375 45.09375 \nQ 46.96875 40.921875 40.578125 39.3125 \nz\n\" id=\"DejaVuSans-51\"/>\n      </defs>\n      <g transform=\"translate(139.326339 157.698438)scale(0.1 -0.1)\">\n       <use xlink:href=\"#DejaVuSans-51\"/>\n       <use x=\"63.623047\" xlink:href=\"#DejaVuSans-48\"/>\n      </g>\n     </g>\n    </g>\n    <g id=\"xtick_4\">\n     <g id=\"line2d_7\">\n      <path clip-path=\"url(#pcfe1bccedc)\" d=\"M 185.545982 143.1 \nL 185.545982 7.2 \n\" style=\"fill:none;stroke:#b0b0b0;stroke-linecap:square;stroke-width:0.8;\"/>\n     </g>\n     <g id=\"line2d_8\">\n      <g>\n       <use style=\"stroke:#000000;stroke-width:0.8;\" x=\"185.545982\" xlink:href=\"#mc9fec5051f\" y=\"143.1\"/>\n      </g>\n     </g>\n     <g id=\"text_4\">\n      <!-- 40 -->\n      <defs>\n       <path d=\"M 37.796875 64.3125 \nL 12.890625 25.390625 \nL 37.796875 25.390625 \nz\nM 35.203125 72.90625 \nL 47.609375 72.90625 \nL 47.609375 25.390625 \nL 58.015625 25.390625 \nL 58.015625 17.1875 \nL 47.609375 17.1875 \nL 47.609375 0 \nL 37.796875 0 \nL 37.796875 17.1875 \nL 4.890625 17.1875 \nL 4.890625 26.703125 \nz\n\" id=\"DejaVuSans-52\"/>\n      </defs>\n      <g transform=\"translate(179.183482 157.698438)scale(0.1 -0.1)\">\n       <use xlink:href=\"#DejaVuSans-52\"/>\n       <use x=\"63.623047\" xlink:href=\"#DejaVuSans-48\"/>\n      </g>\n     </g>\n    </g>\n    <g id=\"xtick_5\">\n     <g id=\"line2d_9\">\n      <path clip-path=\"url(#pcfe1bccedc)\" d=\"M 225.403125 143.1 \nL 225.403125 7.2 \n\" style=\"fill:none;stroke:#b0b0b0;stroke-linecap:square;stroke-width:0.8;\"/>\n     </g>\n     <g id=\"line2d_10\">\n      <g>\n       <use style=\"stroke:#000000;stroke-width:0.8;\" x=\"225.403125\" xlink:href=\"#mc9fec5051f\" y=\"143.1\"/>\n      </g>\n     </g>\n     <g id=\"text_5\">\n      <!-- 50 -->\n      <defs>\n       <path d=\"M 10.796875 72.90625 \nL 49.515625 72.90625 \nL 49.515625 64.59375 \nL 19.828125 64.59375 \nL 19.828125 46.734375 \nQ 21.96875 47.46875 24.109375 47.828125 \nQ 26.265625 48.1875 28.421875 48.1875 \nQ 40.625 48.1875 47.75 41.5 \nQ 54.890625 34.8125 54.890625 23.390625 \nQ 54.890625 11.625 47.5625 5.09375 \nQ 40.234375 -1.421875 26.90625 -1.421875 \nQ 22.3125 -1.421875 17.546875 -0.640625 \nQ 12.796875 0.140625 7.71875 1.703125 \nL 7.71875 11.625 \nQ 12.109375 9.234375 16.796875 8.0625 \nQ 21.484375 6.890625 26.703125 6.890625 \nQ 35.15625 6.890625 40.078125 11.328125 \nQ 45.015625 15.765625 45.015625 23.390625 \nQ 45.015625 31 40.078125 35.4375 \nQ 35.15625 39.890625 26.703125 39.890625 \nQ 22.75 39.890625 18.8125 39.015625 \nQ 14.890625 38.140625 10.796875 36.28125 \nz\n\" id=\"DejaVuSans-53\"/>\n      </defs>\n      <g transform=\"translate(219.040625 157.698438)scale(0.1 -0.1)\">\n       <use xlink:href=\"#DejaVuSans-53\"/>\n       <use x=\"63.623047\" xlink:href=\"#DejaVuSans-48\"/>\n      </g>\n     </g>\n    </g>\n    <g id=\"text_6\">\n     <!-- epoch -->\n     <defs>\n      <path d=\"M 56.203125 29.59375 \nL 56.203125 25.203125 \nL 14.890625 25.203125 \nQ 15.484375 15.921875 20.484375 11.0625 \nQ 25.484375 6.203125 34.421875 6.203125 \nQ 39.59375 6.203125 44.453125 7.46875 \nQ 49.3125 8.734375 54.109375 11.28125 \nL 54.109375 2.78125 \nQ 49.265625 0.734375 44.1875 -0.34375 \nQ 39.109375 -1.421875 33.890625 -1.421875 \nQ 20.796875 -1.421875 13.15625 6.1875 \nQ 5.515625 13.8125 5.515625 26.8125 \nQ 5.515625 40.234375 12.765625 48.109375 \nQ 20.015625 56 32.328125 56 \nQ 43.359375 56 49.78125 48.890625 \nQ 56.203125 41.796875 56.203125 29.59375 \nz\nM 47.21875 32.234375 \nQ 47.125 39.59375 43.09375 43.984375 \nQ 39.0625 48.390625 32.421875 48.390625 \nQ 24.90625 48.390625 20.390625 44.140625 \nQ 15.875 39.890625 15.1875 32.171875 \nz\n\" id=\"DejaVuSans-101\"/>\n      <path d=\"M 18.109375 8.203125 \nL 18.109375 -20.796875 \nL 9.078125 -20.796875 \nL 9.078125 54.6875 \nL 18.109375 54.6875 \nL 18.109375 46.390625 \nQ 20.953125 51.265625 25.265625 53.625 \nQ 29.59375 56 35.59375 56 \nQ 45.5625 56 51.78125 48.09375 \nQ 58.015625 40.1875 58.015625 27.296875 \nQ 58.015625 14.40625 51.78125 6.484375 \nQ 45.5625 -1.421875 35.59375 -1.421875 \nQ 29.59375 -1.421875 25.265625 0.953125 \nQ 20.953125 3.328125 18.109375 8.203125 \nz\nM 48.6875 27.296875 \nQ 48.6875 37.203125 44.609375 42.84375 \nQ 40.53125 48.484375 33.40625 48.484375 \nQ 26.265625 48.484375 22.1875 42.84375 \nQ 18.109375 37.203125 18.109375 27.296875 \nQ 18.109375 17.390625 22.1875 11.75 \nQ 26.265625 6.109375 33.40625 6.109375 \nQ 40.53125 6.109375 44.609375 11.75 \nQ 48.6875 17.390625 48.6875 27.296875 \nz\n\" id=\"DejaVuSans-112\"/>\n      <path d=\"M 30.609375 48.390625 \nQ 23.390625 48.390625 19.1875 42.75 \nQ 14.984375 37.109375 14.984375 27.296875 \nQ 14.984375 17.484375 19.15625 11.84375 \nQ 23.34375 6.203125 30.609375 6.203125 \nQ 37.796875 6.203125 41.984375 11.859375 \nQ 46.1875 17.53125 46.1875 27.296875 \nQ 46.1875 37.015625 41.984375 42.703125 \nQ 37.796875 48.390625 30.609375 48.390625 \nz\nM 30.609375 56 \nQ 42.328125 56 49.015625 48.375 \nQ 55.71875 40.765625 55.71875 27.296875 \nQ 55.71875 13.875 49.015625 6.21875 \nQ 42.328125 -1.421875 30.609375 -1.421875 \nQ 18.84375 -1.421875 12.171875 6.21875 \nQ 5.515625 13.875 5.515625 27.296875 \nQ 5.515625 40.765625 12.171875 48.375 \nQ 18.84375 56 30.609375 56 \nz\n\" id=\"DejaVuSans-111\"/>\n      <path d=\"M 48.78125 52.59375 \nL 48.78125 44.1875 \nQ 44.96875 46.296875 41.140625 47.34375 \nQ 37.3125 48.390625 33.40625 48.390625 \nQ 24.65625 48.390625 19.8125 42.84375 \nQ 14.984375 37.3125 14.984375 27.296875 \nQ 14.984375 17.28125 19.8125 11.734375 \nQ 24.65625 6.203125 33.40625 6.203125 \nQ 37.3125 6.203125 41.140625 7.25 \nQ 44.96875 8.296875 48.78125 10.40625 \nL 48.78125 2.09375 \nQ 45.015625 0.34375 40.984375 -0.53125 \nQ 36.96875 -1.421875 32.421875 -1.421875 \nQ 20.0625 -1.421875 12.78125 6.34375 \nQ 5.515625 14.109375 5.515625 27.296875 \nQ 5.515625 40.671875 12.859375 48.328125 \nQ 20.21875 56 33.015625 56 \nQ 37.15625 56 41.109375 55.140625 \nQ 45.0625 54.296875 48.78125 52.59375 \nz\n\" id=\"DejaVuSans-99\"/>\n      <path d=\"M 54.890625 33.015625 \nL 54.890625 0 \nL 45.90625 0 \nL 45.90625 32.71875 \nQ 45.90625 40.484375 42.875 44.328125 \nQ 39.84375 48.1875 33.796875 48.1875 \nQ 26.515625 48.1875 22.3125 43.546875 \nQ 18.109375 38.921875 18.109375 30.90625 \nL 18.109375 0 \nL 9.078125 0 \nL 9.078125 75.984375 \nL 18.109375 75.984375 \nL 18.109375 46.1875 \nQ 21.34375 51.125 25.703125 53.5625 \nQ 30.078125 56 35.796875 56 \nQ 45.21875 56 50.046875 50.171875 \nQ 54.890625 44.34375 54.890625 33.015625 \nz\n\" id=\"DejaVuSans-104\"/>\n     </defs>\n     <g transform=\"translate(112.525 171.376563)scale(0.1 -0.1)\">\n      <use xlink:href=\"#DejaVuSans-101\"/>\n      <use x=\"61.523438\" xlink:href=\"#DejaVuSans-112\"/>\n      <use x=\"125\" xlink:href=\"#DejaVuSans-111\"/>\n      <use x=\"186.181641\" xlink:href=\"#DejaVuSans-99\"/>\n      <use x=\"241.162109\" xlink:href=\"#DejaVuSans-104\"/>\n     </g>\n    </g>\n   </g>\n   <g id=\"matplotlib.axis_2\">\n    <g id=\"ytick_1\">\n     <g id=\"line2d_11\">\n      <path clip-path=\"url(#pcfe1bccedc)\" d=\"M 30.103125 120.45 \nL 225.403125 120.45 \n\" style=\"fill:none;stroke:#b0b0b0;stroke-linecap:square;stroke-width:0.8;\"/>\n     </g>\n     <g id=\"line2d_12\">\n      <defs>\n       <path d=\"M 0 0 \nL -3.5 0 \n\" id=\"m9a5c0a2a9a\" style=\"stroke:#000000;stroke-width:0.8;\"/>\n      </defs>\n      <g>\n       <use style=\"stroke:#000000;stroke-width:0.8;\" x=\"30.103125\" xlink:href=\"#m9a5c0a2a9a\" y=\"120.45\"/>\n      </g>\n     </g>\n     <g id=\"text_7\">\n      <!-- 0.4 -->\n      <defs>\n       <path d=\"M 10.6875 12.40625 \nL 21 12.40625 \nL 21 0 \nL 10.6875 0 \nz\n\" id=\"DejaVuSans-46\"/>\n      </defs>\n      <g transform=\"translate(7.2 124.249219)scale(0.1 -0.1)\">\n       <use xlink:href=\"#DejaVuSans-48\"/>\n       <use x=\"63.623047\" xlink:href=\"#DejaVuSans-46\"/>\n       <use x=\"95.410156\" xlink:href=\"#DejaVuSans-52\"/>\n      </g>\n     </g>\n    </g>\n    <g id=\"ytick_2\">\n     <g id=\"line2d_13\">\n      <path clip-path=\"url(#pcfe1bccedc)\" d=\"M 30.103125 75.15 \nL 225.403125 75.15 \n\" style=\"fill:none;stroke:#b0b0b0;stroke-linecap:square;stroke-width:0.8;\"/>\n     </g>\n     <g id=\"line2d_14\">\n      <g>\n       <use style=\"stroke:#000000;stroke-width:0.8;\" x=\"30.103125\" xlink:href=\"#m9a5c0a2a9a\" y=\"75.15\"/>\n      </g>\n     </g>\n     <g id=\"text_8\">\n      <!-- 0.6 -->\n      <defs>\n       <path d=\"M 33.015625 40.375 \nQ 26.375 40.375 22.484375 35.828125 \nQ 18.609375 31.296875 18.609375 23.390625 \nQ 18.609375 15.53125 22.484375 10.953125 \nQ 26.375 6.390625 33.015625 6.390625 \nQ 39.65625 6.390625 43.53125 10.953125 \nQ 47.40625 15.53125 47.40625 23.390625 \nQ 47.40625 31.296875 43.53125 35.828125 \nQ 39.65625 40.375 33.015625 40.375 \nz\nM 52.59375 71.296875 \nL 52.59375 62.3125 \nQ 48.875 64.0625 45.09375 64.984375 \nQ 41.3125 65.921875 37.59375 65.921875 \nQ 27.828125 65.921875 22.671875 59.328125 \nQ 17.53125 52.734375 16.796875 39.40625 \nQ 19.671875 43.65625 24.015625 45.921875 \nQ 28.375 48.1875 33.59375 48.1875 \nQ 44.578125 48.1875 50.953125 41.515625 \nQ 57.328125 34.859375 57.328125 23.390625 \nQ 57.328125 12.15625 50.6875 5.359375 \nQ 44.046875 -1.421875 33.015625 -1.421875 \nQ 20.359375 -1.421875 13.671875 8.265625 \nQ 6.984375 17.96875 6.984375 36.375 \nQ 6.984375 53.65625 15.1875 63.9375 \nQ 23.390625 74.21875 37.203125 74.21875 \nQ 40.921875 74.21875 44.703125 73.484375 \nQ 48.484375 72.75 52.59375 71.296875 \nz\n\" id=\"DejaVuSans-54\"/>\n      </defs>\n      <g transform=\"translate(7.2 78.949219)scale(0.1 -0.1)\">\n       <use xlink:href=\"#DejaVuSans-48\"/>\n       <use x=\"63.623047\" xlink:href=\"#DejaVuSans-46\"/>\n       <use x=\"95.410156\" xlink:href=\"#DejaVuSans-54\"/>\n      </g>\n     </g>\n    </g>\n    <g id=\"ytick_3\">\n     <g id=\"line2d_15\">\n      <path clip-path=\"url(#pcfe1bccedc)\" d=\"M 30.103125 29.85 \nL 225.403125 29.85 \n\" style=\"fill:none;stroke:#b0b0b0;stroke-linecap:square;stroke-width:0.8;\"/>\n     </g>\n     <g id=\"line2d_16\">\n      <g>\n       <use style=\"stroke:#000000;stroke-width:0.8;\" x=\"30.103125\" xlink:href=\"#m9a5c0a2a9a\" y=\"29.85\"/>\n      </g>\n     </g>\n     <g id=\"text_9\">\n      <!-- 0.8 -->\n      <defs>\n       <path d=\"M 31.78125 34.625 \nQ 24.75 34.625 20.71875 30.859375 \nQ 16.703125 27.09375 16.703125 20.515625 \nQ 16.703125 13.921875 20.71875 10.15625 \nQ 24.75 6.390625 31.78125 6.390625 \nQ 38.8125 6.390625 42.859375 10.171875 \nQ 46.921875 13.96875 46.921875 20.515625 \nQ 46.921875 27.09375 42.890625 30.859375 \nQ 38.875 34.625 31.78125 34.625 \nz\nM 21.921875 38.8125 \nQ 15.578125 40.375 12.03125 44.71875 \nQ 8.5 49.078125 8.5 55.328125 \nQ 8.5 64.0625 14.71875 69.140625 \nQ 20.953125 74.21875 31.78125 74.21875 \nQ 42.671875 74.21875 48.875 69.140625 \nQ 55.078125 64.0625 55.078125 55.328125 \nQ 55.078125 49.078125 51.53125 44.71875 \nQ 48 40.375 41.703125 38.8125 \nQ 48.828125 37.15625 52.796875 32.3125 \nQ 56.78125 27.484375 56.78125 20.515625 \nQ 56.78125 9.90625 50.3125 4.234375 \nQ 43.84375 -1.421875 31.78125 -1.421875 \nQ 19.734375 -1.421875 13.25 4.234375 \nQ 6.78125 9.90625 6.78125 20.515625 \nQ 6.78125 27.484375 10.78125 32.3125 \nQ 14.796875 37.15625 21.921875 38.8125 \nz\nM 18.3125 54.390625 \nQ 18.3125 48.734375 21.84375 45.5625 \nQ 25.390625 42.390625 31.78125 42.390625 \nQ 38.140625 42.390625 41.71875 45.5625 \nQ 45.3125 48.734375 45.3125 54.390625 \nQ 45.3125 60.0625 41.71875 63.234375 \nQ 38.140625 66.40625 31.78125 66.40625 \nQ 25.390625 66.40625 21.84375 63.234375 \nQ 18.3125 60.0625 18.3125 54.390625 \nz\n\" id=\"DejaVuSans-56\"/>\n      </defs>\n      <g transform=\"translate(7.2 33.649219)scale(0.1 -0.1)\">\n       <use xlink:href=\"#DejaVuSans-48\"/>\n       <use x=\"63.623047\" xlink:href=\"#DejaVuSans-46\"/>\n       <use x=\"95.410156\" xlink:href=\"#DejaVuSans-56\"/>\n      </g>\n     </g>\n    </g>\n   </g>\n   <g id=\"line2d_17\">\n    <path clip-path=\"url(#pcfe1bccedc)\" d=\"M 112.883048 -1 \nL 113.803125 20.194743 \nL 117.788839 50.33363 \nL 121.774554 65.953493 \nL 125.760268 77.679854 \nL 129.745982 86.011111 \nL 133.731696 92.12563 \nL 137.717411 97.243814 \nL 141.703125 101.850791 \nL 145.688839 105.660947 \nL 149.674554 107.722058 \nL 153.660268 110.974967 \nL 157.645982 113.277115 \nL 161.631696 115.802932 \nL 165.617411 117.46775 \nL 169.603125 118.710475 \nL 173.588839 120.24816 \nL 177.574554 121.278534 \nL 181.560268 121.664932 \nL 185.545982 123.436733 \nL 189.531696 124.09616 \nL 193.517411 124.689208 \nL 197.503125 125.680215 \nL 201.488839 126.342525 \nL 205.474554 127.514148 \nL 209.460268 128.29177 \nL 213.445982 128.778273 \nL 217.431696 129.52345 \nL 221.417411 129.677045 \nL 225.403125 130.678352 \n\" style=\"fill:none;stroke:#1f77b4;stroke-linecap:square;stroke-width:1.5;\"/>\n   </g>\n   <g id=\"line2d_18\">\n    <path clip-path=\"url(#pcfe1bccedc)\" d=\"M 98.593543 181.65625 \nL 101.845982 176.50875 \nL 105.831696 159.502375 \nL 109.817411 103.919275 \nL 113.803125 58.702325 \nL 117.788839 46.12025 \nL 121.774554 39.38565 \nL 125.760268 34.481925 \nL 129.745982 30.910775 \nL 133.731696 28.793 \nL 137.717411 26.68655 \nL 141.703125 25.0482 \nL 145.688839 23.5684 \nL 149.674554 22.904 \nL 153.660268 21.495925 \nL 157.645982 20.695625 \nL 161.631696 19.857575 \nL 165.617411 19.2951 \nL 169.603125 18.68355 \nL 173.588839 18.09465 \nL 177.574554 17.55105 \nL 181.560268 17.411375 \nL 185.545982 16.784725 \nL 189.531696 16.64505 \nL 193.517411 16.422325 \nL 197.503125 16.28265 \nL 201.488839 15.76925 \nL 205.474554 15.297375 \nL 209.460268 15.002925 \nL 213.445982 14.83305 \nL 217.431696 14.5386 \nL 221.417411 14.716025 \nL 225.403125 14.21395 \n\" style=\"fill:none;stroke:#bf00bf;stroke-dasharray:5.55,2.4;stroke-dashoffset:0;stroke-width:1.5;\"/>\n   </g>\n   <g id=\"line2d_19\">\n    <path clip-path=\"url(#pcfe1bccedc)\" d=\"M 68.082361 181.65625 \nL 69.960268 175.64805 \nL 71.838174 181.65625 \nM 99.137658 181.65625 \nL 101.845982 167.35815 \nL 105.831696 155.35365 \nL 109.817411 77.3244 \nL 113.803125 49.26105 \nL 117.788839 48.4683 \nL 121.774554 37.43775 \nL 125.760268 34.1082 \nL 129.745982 33.54195 \nL 133.731696 38.457 \nL 137.717411 31.54875 \nL 141.703125 25.93155 \nL 145.688839 26.79225 \nL 149.674554 23.7798 \nL 153.660268 23.3268 \nL 157.645982 23.57595 \nL 161.631696 22.85115 \nL 165.617411 29.87265 \nL 169.603125 25.6371 \nL 173.588839 28.5816 \nL 177.574554 22.62465 \nL 181.560268 23.21355 \nL 185.545982 21.3789 \nL 189.531696 22.35285 \nL 193.517411 22.21695 \nL 197.503125 26.3619 \nL 201.488839 18.41175 \nL 205.474554 19.22715 \nL 209.460268 19.22715 \nL 213.445982 23.30415 \nL 217.431696 22.1037 \nL 221.417411 20.1105 \nL 225.403125 26.226 \n\" style=\"fill:none;stroke:#008000;stroke-dasharray:9.6,2.4,1.5,2.4;stroke-dashoffset:0;stroke-width:1.5;\"/>\n   </g>\n   <g id=\"patch_3\">\n    <path d=\"M 30.103125 143.1 \nL 30.103125 7.2 \n\" style=\"fill:none;stroke:#000000;stroke-linecap:square;stroke-linejoin:miter;stroke-width:0.8;\"/>\n   </g>\n   <g id=\"patch_4\">\n    <path d=\"M 225.403125 143.1 \nL 225.403125 7.2 \n\" style=\"fill:none;stroke:#000000;stroke-linecap:square;stroke-linejoin:miter;stroke-width:0.8;\"/>\n   </g>\n   <g id=\"patch_5\">\n    <path d=\"M 30.103125 143.1 \nL 225.403125 143.1 \n\" style=\"fill:none;stroke:#000000;stroke-linecap:square;stroke-linejoin:miter;stroke-width:0.8;\"/>\n   </g>\n   <g id=\"patch_6\">\n    <path d=\"M 30.103125 7.2 \nL 225.403125 7.2 \n\" style=\"fill:none;stroke:#000000;stroke-linecap:square;stroke-linejoin:miter;stroke-width:0.8;\"/>\n   </g>\n   <g id=\"legend_1\">\n    <g id=\"patch_7\">\n     <path d=\"M 140.634375 98.667187 \nL 218.403125 98.667187 \nQ 220.403125 98.667187 220.403125 96.667187 \nL 220.403125 53.632812 \nQ 220.403125 51.632812 218.403125 51.632812 \nL 140.634375 51.632812 \nQ 138.634375 51.632812 138.634375 53.632812 \nL 138.634375 96.667187 \nQ 138.634375 98.667187 140.634375 98.667187 \nz\n\" style=\"fill:#ffffff;opacity:0.8;stroke:#cccccc;stroke-linejoin:miter;\"/>\n    </g>\n    <g id=\"line2d_20\">\n     <path d=\"M 142.634375 59.73125 \nL 162.634375 59.73125 \n\" style=\"fill:none;stroke:#1f77b4;stroke-linecap:square;stroke-width:1.5;\"/>\n    </g>\n    <g id=\"line2d_21\"/>\n    <g id=\"text_10\">\n     <!-- train loss -->\n     <defs>\n      <path d=\"M 18.3125 70.21875 \nL 18.3125 54.6875 \nL 36.8125 54.6875 \nL 36.8125 47.703125 \nL 18.3125 47.703125 \nL 18.3125 18.015625 \nQ 18.3125 11.328125 20.140625 9.421875 \nQ 21.96875 7.515625 27.59375 7.515625 \nL 36.8125 7.515625 \nL 36.8125 0 \nL 27.59375 0 \nQ 17.1875 0 13.234375 3.875 \nQ 9.28125 7.765625 9.28125 18.015625 \nL 9.28125 47.703125 \nL 2.6875 47.703125 \nL 2.6875 54.6875 \nL 9.28125 54.6875 \nL 9.28125 70.21875 \nz\n\" id=\"DejaVuSans-116\"/>\n      <path d=\"M 41.109375 46.296875 \nQ 39.59375 47.171875 37.8125 47.578125 \nQ 36.03125 48 33.890625 48 \nQ 26.265625 48 22.1875 43.046875 \nQ 18.109375 38.09375 18.109375 28.8125 \nL 18.109375 0 \nL 9.078125 0 \nL 9.078125 54.6875 \nL 18.109375 54.6875 \nL 18.109375 46.1875 \nQ 20.953125 51.171875 25.484375 53.578125 \nQ 30.03125 56 36.53125 56 \nQ 37.453125 56 38.578125 55.875 \nQ 39.703125 55.765625 41.0625 55.515625 \nz\n\" id=\"DejaVuSans-114\"/>\n      <path d=\"M 34.28125 27.484375 \nQ 23.390625 27.484375 19.1875 25 \nQ 14.984375 22.515625 14.984375 16.5 \nQ 14.984375 11.71875 18.140625 8.90625 \nQ 21.296875 6.109375 26.703125 6.109375 \nQ 34.1875 6.109375 38.703125 11.40625 \nQ 43.21875 16.703125 43.21875 25.484375 \nL 43.21875 27.484375 \nz\nM 52.203125 31.203125 \nL 52.203125 0 \nL 43.21875 0 \nL 43.21875 8.296875 \nQ 40.140625 3.328125 35.546875 0.953125 \nQ 30.953125 -1.421875 24.3125 -1.421875 \nQ 15.921875 -1.421875 10.953125 3.296875 \nQ 6 8.015625 6 15.921875 \nQ 6 25.140625 12.171875 29.828125 \nQ 18.359375 34.515625 30.609375 34.515625 \nL 43.21875 34.515625 \nL 43.21875 35.40625 \nQ 43.21875 41.609375 39.140625 45 \nQ 35.0625 48.390625 27.6875 48.390625 \nQ 23 48.390625 18.546875 47.265625 \nQ 14.109375 46.140625 10.015625 43.890625 \nL 10.015625 52.203125 \nQ 14.9375 54.109375 19.578125 55.046875 \nQ 24.21875 56 28.609375 56 \nQ 40.484375 56 46.34375 49.84375 \nQ 52.203125 43.703125 52.203125 31.203125 \nz\n\" id=\"DejaVuSans-97\"/>\n      <path d=\"M 9.421875 54.6875 \nL 18.40625 54.6875 \nL 18.40625 0 \nL 9.421875 0 \nz\nM 9.421875 75.984375 \nL 18.40625 75.984375 \nL 18.40625 64.59375 \nL 9.421875 64.59375 \nz\n\" id=\"DejaVuSans-105\"/>\n      <path d=\"M 54.890625 33.015625 \nL 54.890625 0 \nL 45.90625 0 \nL 45.90625 32.71875 \nQ 45.90625 40.484375 42.875 44.328125 \nQ 39.84375 48.1875 33.796875 48.1875 \nQ 26.515625 48.1875 22.3125 43.546875 \nQ 18.109375 38.921875 18.109375 30.90625 \nL 18.109375 0 \nL 9.078125 0 \nL 9.078125 54.6875 \nL 18.109375 54.6875 \nL 18.109375 46.1875 \nQ 21.34375 51.125 25.703125 53.5625 \nQ 30.078125 56 35.796875 56 \nQ 45.21875 56 50.046875 50.171875 \nQ 54.890625 44.34375 54.890625 33.015625 \nz\n\" id=\"DejaVuSans-110\"/>\n      <path id=\"DejaVuSans-32\"/>\n      <path d=\"M 9.421875 75.984375 \nL 18.40625 75.984375 \nL 18.40625 0 \nL 9.421875 0 \nz\n\" id=\"DejaVuSans-108\"/>\n      <path d=\"M 44.28125 53.078125 \nL 44.28125 44.578125 \nQ 40.484375 46.53125 36.375 47.5 \nQ 32.28125 48.484375 27.875 48.484375 \nQ 21.1875 48.484375 17.84375 46.4375 \nQ 14.5 44.390625 14.5 40.28125 \nQ 14.5 37.15625 16.890625 35.375 \nQ 19.28125 33.59375 26.515625 31.984375 \nL 29.59375 31.296875 \nQ 39.15625 29.25 43.1875 25.515625 \nQ 47.21875 21.78125 47.21875 15.09375 \nQ 47.21875 7.46875 41.1875 3.015625 \nQ 35.15625 -1.421875 24.609375 -1.421875 \nQ 20.21875 -1.421875 15.453125 -0.5625 \nQ 10.6875 0.296875 5.421875 2 \nL 5.421875 11.28125 \nQ 10.40625 8.6875 15.234375 7.390625 \nQ 20.0625 6.109375 24.8125 6.109375 \nQ 31.15625 6.109375 34.5625 8.28125 \nQ 37.984375 10.453125 37.984375 14.40625 \nQ 37.984375 18.0625 35.515625 20.015625 \nQ 33.0625 21.96875 24.703125 23.78125 \nL 21.578125 24.515625 \nQ 13.234375 26.265625 9.515625 29.90625 \nQ 5.8125 33.546875 5.8125 39.890625 \nQ 5.8125 47.609375 11.28125 51.796875 \nQ 16.75 56 26.8125 56 \nQ 31.78125 56 36.171875 55.265625 \nQ 40.578125 54.546875 44.28125 53.078125 \nz\n\" id=\"DejaVuSans-115\"/>\n     </defs>\n     <g transform=\"translate(170.634375 63.23125)scale(0.1 -0.1)\">\n      <use xlink:href=\"#DejaVuSans-116\"/>\n      <use x=\"39.208984\" xlink:href=\"#DejaVuSans-114\"/>\n      <use x=\"80.322266\" xlink:href=\"#DejaVuSans-97\"/>\n      <use x=\"141.601562\" xlink:href=\"#DejaVuSans-105\"/>\n      <use x=\"169.384766\" xlink:href=\"#DejaVuSans-110\"/>\n      <use x=\"232.763672\" xlink:href=\"#DejaVuSans-32\"/>\n      <use x=\"264.550781\" xlink:href=\"#DejaVuSans-108\"/>\n      <use x=\"292.333984\" xlink:href=\"#DejaVuSans-111\"/>\n      <use x=\"353.515625\" xlink:href=\"#DejaVuSans-115\"/>\n      <use x=\"405.615234\" xlink:href=\"#DejaVuSans-115\"/>\n     </g>\n    </g>\n    <g id=\"line2d_22\">\n     <path d=\"M 142.634375 74.409375 \nL 162.634375 74.409375 \n\" style=\"fill:none;stroke:#bf00bf;stroke-dasharray:5.55,2.4;stroke-dashoffset:0;stroke-width:1.5;\"/>\n    </g>\n    <g id=\"line2d_23\"/>\n    <g id=\"text_11\">\n     <!-- train acc -->\n     <g transform=\"translate(170.634375 77.909375)scale(0.1 -0.1)\">\n      <use xlink:href=\"#DejaVuSans-116\"/>\n      <use x=\"39.208984\" xlink:href=\"#DejaVuSans-114\"/>\n      <use x=\"80.322266\" xlink:href=\"#DejaVuSans-97\"/>\n      <use x=\"141.601562\" xlink:href=\"#DejaVuSans-105\"/>\n      <use x=\"169.384766\" xlink:href=\"#DejaVuSans-110\"/>\n      <use x=\"232.763672\" xlink:href=\"#DejaVuSans-32\"/>\n      <use x=\"264.550781\" xlink:href=\"#DejaVuSans-97\"/>\n      <use x=\"325.830078\" xlink:href=\"#DejaVuSans-99\"/>\n      <use x=\"380.810547\" xlink:href=\"#DejaVuSans-99\"/>\n     </g>\n    </g>\n    <g id=\"line2d_24\">\n     <path d=\"M 142.634375 89.0875 \nL 162.634375 89.0875 \n\" style=\"fill:none;stroke:#008000;stroke-dasharray:9.6,2.4,1.5,2.4;stroke-dashoffset:0;stroke-width:1.5;\"/>\n    </g>\n    <g id=\"line2d_25\"/>\n    <g id=\"text_12\">\n     <!-- test acc -->\n     <g transform=\"translate(170.634375 92.5875)scale(0.1 -0.1)\">\n      <use xlink:href=\"#DejaVuSans-116\"/>\n      <use x=\"39.208984\" xlink:href=\"#DejaVuSans-101\"/>\n      <use x=\"100.732422\" xlink:href=\"#DejaVuSans-115\"/>\n      <use x=\"152.832031\" xlink:href=\"#DejaVuSans-116\"/>\n      <use x=\"192.041016\" xlink:href=\"#DejaVuSans-32\"/>\n      <use x=\"223.828125\" xlink:href=\"#DejaVuSans-97\"/>\n      <use x=\"285.107422\" xlink:href=\"#DejaVuSans-99\"/>\n      <use x=\"340.087891\" xlink:href=\"#DejaVuSans-99\"/>\n     </g>\n    </g>\n   </g>\n  </g>\n </g>\n <defs>\n  <clipPath id=\"pcfe1bccedc\">\n   <rect height=\"135.9\" width=\"195.3\" x=\"30.103125\" y=\"7.2\"/>\n  </clipPath>\n </defs>\n</svg>\n"
          },
          "metadata": {
            "needs_background": "light"
          }
        }
      ]
    }
  ]
}
