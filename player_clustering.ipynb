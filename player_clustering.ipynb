{
  "nbformat": 4,
  "nbformat_minor": 0,
  "metadata": {
    "colab": {
      "provenance": [],
      "authorship_tag": "ABX9TyMgyU5X7HaXFG12bGNKT9ig"
    },
    "kernelspec": {
      "name": "python3",
      "display_name": "Python 3"
    },
    "language_info": {
      "name": "python"
    }
  },
  "cells": [
    {
      "cell_type": "code",
      "execution_count": null,
      "metadata": {
        "colab": {
          "base_uri": "https://localhost:8080/"
        },
        "id": "RsoIyRs6AefO",
        "outputId": "7e6954b5-e655-4b91-ba25-f05abd2f769c"
      },
      "outputs": [
        {
          "output_type": "stream",
          "name": "stdout",
          "text": [
            "Mounted at /content/drive\n"
          ]
        }
      ],
      "source": [
        "from google.colab import drive\n",
        "drive.mount('/content/drive')"
      ]
    },
    {
      "cell_type": "code",
      "source": [
        "import pandas as pd\n",
        "import numpy as np\n",
        "from sklearn.cluster import KMeans\n",
        "import matplotlib.pyplot as plt\n",
        "import seaborn as sns\n",
        "import sklearn.preprocessing as sp"
      ],
      "metadata": {
        "id": "zP7ZjifdfgYD"
      },
      "execution_count": null,
      "outputs": []
    },
    {
      "cell_type": "code",
      "source": [
        "player_centrality = pd.read_csv('/content/drive/MyDrive/Msc_project/data/player_centrality.csv').values"
      ],
      "metadata": {
        "id": "dIzGzD5qQEO7"
      },
      "execution_count": null,
      "outputs": []
    },
    {
      "cell_type": "code",
      "source": [
        "player_centrality"
      ],
      "metadata": {
        "colab": {
          "base_uri": "https://localhost:8080/"
        },
        "id": "3Ol4MmXtfkBo",
        "outputId": "0c2beb1f-8bed-4f51-b587-28ce61088034"
      },
      "execution_count": null,
      "outputs": [
        {
          "output_type": "execute_result",
          "data": {
            "text/plain": [
              "array([[1.74620674e+08, 5.43509909e-04, 1.37053899e-03, 2.60034602e-01,\n",
              "        1.31388105e-06],\n",
              "       [1.98737940e+07, 1.16466409e-04, 0.00000000e+00, 1.83516484e-01,\n",
              "        7.02844464e-10],\n",
              "       [2.13106702e+08, 5.82332046e-04, 1.59237672e-02, 2.53414264e-01,\n",
              "        8.35985981e-07],\n",
              "       ...,\n",
              "       [2.58072572e+08, 1.49465225e-03, 1.33067199e-03, 2.14133067e-01,\n",
              "        1.98813832e-10],\n",
              "       [2.12990000e+05, 2.05757323e-03, 0.00000000e+00, 2.44788274e-01,\n",
              "        1.12806110e-06],\n",
              "       [2.33684991e+08, 4.27043500e-04, 3.96720983e-03, 2.30238971e-01,\n",
              "        2.81954144e-08]])"
            ]
          },
          "metadata": {},
          "execution_count": 4
        }
      ]
    },
    {
      "cell_type": "code",
      "source": [
        "X = player_centrality[:,1:5]"
      ],
      "metadata": {
        "id": "3dlNPaxurDpu"
      },
      "execution_count": null,
      "outputs": []
    },
    {
      "cell_type": "code",
      "source": [
        "from sklearn.preprocessing import normalize\n",
        "\n",
        "# Regularzation\n",
        "X_no = normalize(X, axis = 0, norm='max')\n",
        "\n",
        "print(X_no, X_no.shape[0])"
      ],
      "metadata": {
        "colab": {
          "base_uri": "https://localhost:8080/"
        },
        "id": "PCeQJd5-UUG0",
        "outputId": "485f77c2-6f6a-401d-ac74-4de7da6350df"
      },
      "execution_count": null,
      "outputs": [
        {
          "output_type": "stream",
          "name": "stdout",
          "text": [
            "[[9.49152542e-02 3.77203912e-03 6.96193772e-01 2.17750759e-06]\n",
            " [2.03389831e-02 0.00000000e+00 4.91330891e-01 1.16483083e-09]\n",
            " [1.01694915e-01 4.38258766e-02 6.78469061e-01 1.38548754e-06]\n",
            " ...\n",
            " [2.61016949e-01 3.66231594e-03 5.73301040e-01 3.29496060e-10]\n",
            " [3.59322034e-01 0.00000000e+00 6.55374593e-01 1.86954641e-06]\n",
            " [7.45762712e-02 1.09186756e-02 6.16421569e-01 4.67285291e-08]] 1504\n"
          ]
        }
      ]
    },
    {
      "cell_type": "code",
      "source": [
        "minmax = sp.MinMaxScaler()\n",
        "minmax_scaled = minmax.fit_transform(X)\n",
        "minmax_scaled"
      ],
      "metadata": {
        "colab": {
          "base_uri": "https://localhost:8080/"
        },
        "id": "XCafSj0spJjl",
        "outputId": "bdf3b831-baf8-4a5a-db33-8d030cbf8822"
      },
      "execution_count": null,
      "outputs": [
        {
          "output_type": "execute_result",
          "data": {
            "text/plain": [
              "array([[9.18367347e-02, 3.77203912e-03, 4.43868434e-01, 2.17750757e-06],\n",
              "       [1.70068027e-02, 0.00000000e+00, 6.88573117e-02, 1.16480383e-09],\n",
              "       [9.86394558e-02, 4.38258766e-02, 4.11422518e-01, 1.38548751e-06],\n",
              "       ...,\n",
              "       [2.58503401e-01, 3.66231594e-03, 2.18907518e-01, 3.29469054e-10],\n",
              "       [3.57142857e-01, 0.00000000e+00, 3.69147010e-01, 1.86954638e-06],\n",
              "       [7.14285714e-02, 1.09186756e-02, 2.97841670e-01, 4.67285021e-08]])"
            ]
          },
          "metadata": {},
          "execution_count": 7
        }
      ]
    },
    {
      "cell_type": "code",
      "source": [
        "# mannully set initial centroid\n",
        "init = np.array([[1,1,1,1],\n",
        "          [0,0,0,0]])"
      ],
      "metadata": {
        "id": "ykkswHebshJ4"
      },
      "execution_count": null,
      "outputs": []
    },
    {
      "cell_type": "code",
      "source": [
        "model = KMeans(n_clusters=2,\n",
        "                init = init\n",
        "               )\n",
        "result = model.fit_predict(X_no)"
      ],
      "metadata": {
        "colab": {
          "base_uri": "https://localhost:8080/"
        },
        "id": "gDt5GSM8flPg",
        "outputId": "40ff4aec-51bc-4aeb-e4de-abf9551e9447"
      },
      "execution_count": null,
      "outputs": [
        {
          "output_type": "stream",
          "name": "stderr",
          "text": [
            "/usr/local/lib/python3.7/dist-packages/sklearn/cluster/_kmeans.py:1146: RuntimeWarning: Explicit initial center position passed: performing only one init in KMeans instead of n_init=10.\n",
            "  self._check_params(X)\n"
          ]
        }
      ]
    },
    {
      "cell_type": "code",
      "source": [
        "from sklearn.manifold import TSNE\n",
        "\n",
        "tsne = TSNE( n_components =2\n",
        "    # random_state = 105\n",
        "    )\n",
        "\n",
        "tsne_result = tsne.fit_transform(X_no)\n",
        "\n",
        "# visualizing\n",
        "\n",
        "tsne_result_df = pd.DataFrame({'tsne_1': tsne_result[:,0], 'tsne_2': tsne_result[:,1], 'label': result})\n",
        "fig, ax = plt.subplots(1)\n",
        "sns.scatterplot(x='tsne_1', y='tsne_2', hue='label', data=tsne_result_df, ax=ax,s=120)\n",
        "lim = (tsne_result.min()-5, tsne_result.max()+5)\n",
        "ax.set_xlim(lim)\n",
        "ax.set_ylim(lim)\n",
        "ax.set_aspect('equal')\n",
        "ax.legend(bbox_to_anchor=(1.05, 1), loc=2, borderaxespad=0.0)"
      ],
      "metadata": {
        "colab": {
          "base_uri": "https://localhost:8080/",
          "height": 370
        },
        "id": "kuMnl37yPwSG",
        "outputId": "40d88717-b0e0-4990-88f9-269d6ec135f5"
      },
      "execution_count": null,
      "outputs": [
        {
          "output_type": "stream",
          "name": "stderr",
          "text": [
            "/usr/local/lib/python3.7/dist-packages/sklearn/manifold/_t_sne.py:783: FutureWarning: The default initialization in TSNE will change from 'random' to 'pca' in 1.2.\n",
            "  FutureWarning,\n",
            "/usr/local/lib/python3.7/dist-packages/sklearn/manifold/_t_sne.py:793: FutureWarning: The default learning rate in TSNE will change from 200.0 to 'auto' in 1.2.\n",
            "  FutureWarning,\n"
          ]
        },
        {
          "output_type": "execute_result",
          "data": {
            "text/plain": [
              "<matplotlib.legend.Legend at 0x7f7667e0ba50>"
            ]
          },
          "metadata": {},
          "execution_count": 10
        },
        {
          "output_type": "display_data",
          "data": {
            "text/plain": [
              "<Figure size 432x288 with 1 Axes>"
            ],
            "image/png": "[encoded data removed]"
          },
          "metadata": {
            "needs_background": "light"
          }
        }
      ]
    },
    {
      "cell_type": "code",
      "source": [
        "from sklearn.decomposition import PCA\n",
        "pca = PCA()\n",
        "Xt = pca.fit_transform(X_no)\n",
        "plot = plt.scatter(Xt[:,0], Xt[:,1], c= result)\n",
        "plt.legend(handles=plot.legend_elements()[0], \n",
        "           )\n",
        "plt.show()"
      ],
      "metadata": {
        "colab": {
          "base_uri": "https://localhost:8080/",
          "height": 265
        },
        "id": "dWc6q2me5e4L",
        "outputId": "43f9bddf-102c-4518-d1a7-fc883ccff8c1"
      },
      "execution_count": null,
      "outputs": [
        {
          "output_type": "display_data",
          "data": {
            "text/plain": [
              "<Figure size 432x288 with 1 Axes>"
            ],
            "image/png": "[encoded data removed]"
          },
          "metadata": {
            "needs_background": "light"
          }
        }
      ]
    },
    {
      "cell_type": "code",
      "source": [
        "from sklearn.discriminant_analysis import LinearDiscriminantAnalysis\n",
        "\n",
        "# initializing the model\n",
        "lda = LinearDiscriminantAnalysis()\n",
        "\n",
        "# fitting the dataset\n",
        "X_r2 = lda.fit_transform(X_no, result)"
      ],
      "metadata": {
        "id": "gLAmq9b48Aac"
      },
      "execution_count": null,
      "outputs": []
    },
    {
      "cell_type": "code",
      "source": [
        "X_r2"
      ],
      "metadata": {
        "colab": {
          "base_uri": "https://localhost:8080/"
        },
        "id": "OJ6ZuT4m-BHD",
        "outputId": "29ca1665-6f3c-4d2a-d1bd-c3b0177f5c4b"
      },
      "execution_count": null,
      "outputs": [
        {
          "output_type": "execute_result",
          "data": {
            "text/plain": [
              "array([[ 2.20898317],\n",
              "       [ 2.7925621 ],\n",
              "       [ 2.10048922],\n",
              "       ...,\n",
              "       [ 0.52672391],\n",
              "       [-0.36208075],\n",
              "       [ 2.34569514]])"
            ]
          },
          "metadata": {},
          "execution_count": 28
        }
      ]
    },
    {
      "cell_type": "code",
      "source": [
        "sns.boxplot(x='species', y='petal length (cm)', data=iris)"
      ],
      "metadata": {
        "id": "cskiynH8BbK0"
      },
      "execution_count": null,
      "outputs": []
    },
    {
      "cell_type": "code",
      "source": [],
      "metadata": {
        "id": "LvlVHoKm_bco"
      },
      "execution_count": null,
      "outputs": []
    },
    {
      "cell_type": "code",
      "source": [
        "print(result)\n",
        "print(np.sum(result == 1))"
      ],
      "metadata": {
        "colab": {
          "base_uri": "https://localhost:8080/"
        },
        "id": "gNsnRF2MNd2i",
        "outputId": "7585bc01-0e00-46ae-9bbb-011d2fee8012"
      },
      "execution_count": null,
      "outputs": [
        {
          "output_type": "stream",
          "name": "stdout",
          "text": [
            "[1 1 1 ... 1 1 1]\n",
            "1007\n"
          ]
        }
      ]
    },
    {
      "cell_type": "code",
      "source": [
        "player_type = np.c_[X_no, result.T]\n",
        "\n",
        "deg_cen = player_type[:,0]\n",
        "bet_cen = player_type[:,1]\n",
        "clo_cen = player_type[:,2]\n",
        "eig_cen = player_type[:,3]\n",
        "\n",
        "key_player = player_type[:,-1]\n"
      ],
      "metadata": {
        "id": "0pPEFsw_YLwB"
      },
      "execution_count": null,
      "outputs": []
    },
    {
      "cell_type": "code",
      "source": [
        "player_type = pd.read_csv('/content/drive/MyDrive/Msc_project/data/player_centrality.csv',index_col=0)\n",
        "\n",
        "# key_player = player_type[:,-1]\n",
        "\n",
        "player_type['key_player']= key_player.tolist()\n",
        "player_type['deg_cen']= deg_cen.tolist()\n",
        "player_type['bet_cen']= bet_cen.tolist()\n",
        "player_type['clo_cen']= clo_cen.tolist()\n",
        "player_type['eig_cen']= eig_cen.tolist()\n",
        "\n",
        "\n",
        "\n",
        "\n",
        "# result.tolist()\n",
        "\n",
        "player_type"
      ],
      "metadata": {
        "colab": {
          "base_uri": "https://localhost:8080/",
          "height": 419
        },
        "id": "GkTROsCbftpU",
        "outputId": "7ca79365-0693-4888-b0fc-b1cee742c8f6"
      },
      "execution_count": null,
      "outputs": [
        {
          "output_type": "execute_result",
          "data": {
            "text/plain": [
              "             deg_cen   bet_cen   clo_cen       eig_cen  key_player\n",
              "174620674   0.094915  0.003772  0.696194  2.177508e-06         1.0\n",
              "19873794    0.020339  0.000000  0.491331  1.164831e-09         1.0\n",
              "213106702   0.101695  0.043826  0.678469  1.385488e-06         1.0\n",
              "8429583     0.230508  0.000000  0.588390  2.275971e-09         1.0\n",
              "172384280   0.044068  0.000000  0.495689  3.738913e-10         1.0\n",
              "...              ...       ...       ...           ...         ...\n",
              "247832548   0.677966  0.000000  0.670890  1.227002e-07         0.0\n",
              "1284300791  0.044068  0.000000  0.453766  1.891633e-13         1.0\n",
              "258072572   0.261017  0.003662  0.573301  3.294961e-10         1.0\n",
              "212990      0.359322  0.000000  0.655375  1.869546e-06         1.0\n",
              "233684991   0.074576  0.010919  0.616422  4.672853e-08         1.0\n",
              "\n",
              "[1504 rows x 5 columns]"
            ],
            "text/html": [
              "\n",
              "  <div id=\"df-69996e51-6aa0-47ec-84f5-648300a7be58\">\n",
              "    <div class=\"colab-df-container\">\n",
              "      <div>\n",
              "<style scoped>\n",
              "    .dataframe tbody tr th:only-of-type {\n",
              "        vertical-align: middle;\n",
              "    }\n",
              "\n",
              "    .dataframe tbody tr th {\n",
              "        vertical-align: top;\n",
              "    }\n",
              "\n",
              "    .dataframe thead th {\n",
              "        text-align: right;\n",
              "    }\n",
              "</style>\n",
              "<table border=\"1\" class=\"dataframe\">\n",
              "  <thead>\n",
              "    <tr style=\"text-align: right;\">\n",
              "      <th></th>\n",
              "      <th>deg_cen</th>\n",
              "      <th>bet_cen</th>\n",
              "      <th>clo_cen</th>\n",
              "      <th>eig_cen</th>\n",
              "      <th>key_player</th>\n",
              "    </tr>\n",
              "  </thead>\n",
              "  <tbody>\n",
              "    <tr>\n",
              "      <th>174620674</th>\n",
              "      <td>0.094915</td>\n",
              "      <td>0.003772</td>\n",
              "      <td>0.696194</td>\n",
              "      <td>2.177508e-06</td>\n",
              "      <td>1.0</td>\n",
              "    </tr>\n",
              "    <tr>\n",
              "      <th>19873794</th>\n",
              "      <td>0.020339</td>\n",
              "      <td>0.000000</td>\n",
              "      <td>0.491331</td>\n",
              "      <td>1.164831e-09</td>\n",
              "      <td>1.0</td>\n",
              "    </tr>\n",
              "    <tr>\n",
              "      <th>213106702</th>\n",
              "      <td>0.101695</td>\n",
              "      <td>0.043826</td>\n",
              "      <td>0.678469</td>\n",
              "      <td>1.385488e-06</td>\n",
              "      <td>1.0</td>\n",
              "    </tr>\n",
              "    <tr>\n",
              "      <th>8429583</th>\n",
              "      <td>0.230508</td>\n",
              "      <td>0.000000</td>\n",
              "      <td>0.588390</td>\n",
              "      <td>2.275971e-09</td>\n",
              "      <td>1.0</td>\n",
              "    </tr>\n",
              "    <tr>\n",
              "      <th>172384280</th>\n",
              "      <td>0.044068</td>\n",
              "      <td>0.000000</td>\n",
              "      <td>0.495689</td>\n",
              "      <td>3.738913e-10</td>\n",
              "      <td>1.0</td>\n",
              "    </tr>\n",
              "    <tr>\n",
              "      <th>...</th>\n",
              "      <td>...</td>\n",
              "      <td>...</td>\n",
              "      <td>...</td>\n",
              "      <td>...</td>\n",
              "      <td>...</td>\n",
              "    </tr>\n",
              "    <tr>\n",
              "      <th>247832548</th>\n",
              "      <td>0.677966</td>\n",
              "      <td>0.000000</td>\n",
              "      <td>0.670890</td>\n",
              "      <td>1.227002e-07</td>\n",
              "      <td>0.0</td>\n",
              "    </tr>\n",
              "    <tr>\n",
              "      <th>1284300791</th>\n",
              "      <td>0.044068</td>\n",
              "      <td>0.000000</td>\n",
              "      <td>0.453766</td>\n",
              "      <td>1.891633e-13</td>\n",
              "      <td>1.0</td>\n",
              "    </tr>\n",
              "    <tr>\n",
              "      <th>258072572</th>\n",
              "      <td>0.261017</td>\n",
              "      <td>0.003662</td>\n",
              "      <td>0.573301</td>\n",
              "      <td>3.294961e-10</td>\n",
              "      <td>1.0</td>\n",
              "    </tr>\n",
              "    <tr>\n",
              "      <th>212990</th>\n",
              "      <td>0.359322</td>\n",
              "      <td>0.000000</td>\n",
              "      <td>0.655375</td>\n",
              "      <td>1.869546e-06</td>\n",
              "      <td>1.0</td>\n",
              "    </tr>\n",
              "    <tr>\n",
              "      <th>233684991</th>\n",
              "      <td>0.074576</td>\n",
              "      <td>0.010919</td>\n",
              "      <td>0.616422</td>\n",
              "      <td>4.672853e-08</td>\n",
              "      <td>1.0</td>\n",
              "    </tr>\n",
              "  </tbody>\n",
              "</table>\n",
              "<p>1504 rows × 5 columns</p>\n",
              "</div>\n",
              "      <button class=\"colab-df-convert\" onclick=\"convertToInteractive('df-69996e51-6aa0-47ec-84f5-648300a7be58')\"\n",
              "              title=\"Convert this dataframe to an interactive table.\"\n",
              "              style=\"display:none;\">\n",
              "        \n",
              "  <svg xmlns=\"http://www.w3.org/2000/svg\" height=\"24px\"viewBox=\"0 0 24 24\"\n",
              "       width=\"24px\">\n",
              "    <path d=\"M0 0h24v24H0V0z\" fill=\"none\"/>\n",
              "    <path d=\"M18.56 5.44l.94 2.06.94-2.06 2.06-.94-2.06-.94-.94-2.06-.94 2.06-2.06.94zm-11 1L8.5 8.5l.94-2.06 2.06-.94-2.06-.94L8.5 2.5l-.94 2.06-2.06.94zm10 10l.94 2.06.94-2.06 2.06-.94-2.06-.94-.94-2.06-.94 2.06-2.06.94z\"/><path d=\"M17.41 7.96l-1.37-1.37c-.4-.4-.92-.59-1.43-.59-.52 0-1.04.2-1.43.59L10.3 9.45l-7.72 7.72c-.78.78-.78 2.05 0 2.83L4 21.41c.39.39.9.59 1.41.59.51 0 1.02-.2 1.41-.59l7.78-7.78 2.81-2.81c.8-.78.8-2.07 0-2.86zM5.41 20L4 18.59l7.72-7.72 1.47 1.35L5.41 20z\"/>\n",
              "  </svg>\n",
              "      </button>\n",
              "      \n",
              "  <style>\n",
              "    .colab-df-container {\n",
              "      display:flex;\n",
              "      flex-wrap:wrap;\n",
              "      gap: 12px;\n",
              "    }\n",
              "\n",
              "    .colab-df-convert {\n",
              "      background-color: #E8F0FE;\n",
              "      border: none;\n",
              "      border-radius: 50%;\n",
              "      cursor: pointer;\n",
              "      display: none;\n",
              "      fill: #1967D2;\n",
              "      height: 32px;\n",
              "      padding: 0 0 0 0;\n",
              "      width: 32px;\n",
              "    }\n",
              "\n",
              "    .colab-df-convert:hover {\n",
              "      background-color: #E2EBFA;\n",
              "      box-shadow: 0px 1px 2px rgba(60, 64, 67, 0.3), 0px 1px 3px 1px rgba(60, 64, 67, 0.15);\n",
              "      fill: #174EA6;\n",
              "    }\n",
              "\n",
              "    [theme=dark] .colab-df-convert {\n",
              "      background-color: #3B4455;\n",
              "      fill: #D2E3FC;\n",
              "    }\n",
              "\n",
              "    [theme=dark] .colab-df-convert:hover {\n",
              "      background-color: #434B5C;\n",
              "      box-shadow: 0px 1px 3px 1px rgba(0, 0, 0, 0.15);\n",
              "      filter: drop-shadow(0px 1px 2px rgba(0, 0, 0, 0.3));\n",
              "      fill: #FFFFFF;\n",
              "    }\n",
              "  </style>\n",
              "\n",
              "      <script>\n",
              "        const buttonEl =\n",
              "          document.querySelector('#df-69996e51-6aa0-47ec-84f5-648300a7be58 button.colab-df-convert');\n",
              "        buttonEl.style.display =\n",
              "          google.colab.kernel.accessAllowed ? 'block' : 'none';\n",
              "\n",
              "        async function convertToInteractive(key) {\n",
              "          const element = document.querySelector('#df-69996e51-6aa0-47ec-84f5-648300a7be58');\n",
              "          const dataTable =\n",
              "            await google.colab.kernel.invokeFunction('convertToInteractive',\n",
              "                                                     [key], {});\n",
              "          if (!dataTable) return;\n",
              "\n",
              "          const docLinkHtml = 'Like what you see? Visit the ' +\n",
              "            '<a target=\"_blank\" href=https://colab.research.google.com/notebooks/data_table.ipynb>data table notebook</a>'\n",
              "            + ' to learn more about interactive tables.';\n",
              "          element.innerHTML = '';\n",
              "          dataTable['output_type'] = 'display_data';\n",
              "          await google.colab.output.renderOutput(dataTable, element);\n",
              "          const docLink = document.createElement('div');\n",
              "          docLink.innerHTML = docLinkHtml;\n",
              "          element.appendChild(docLink);\n",
              "        }\n",
              "      </script>\n",
              "    </div>\n",
              "  </div>\n",
              "  "
            ]
          },
          "metadata": {},
          "execution_count": 12
        }
      ]
    },
    {
      "cell_type": "code",
      "source": [
        "player_type.to_csv('player_type.csv')\n",
        "!cp player_type.csv 'drive/MyDrive/Msc_project/data/player_type.csv'"
      ],
      "metadata": {
        "id": "5ghPN20dg2ma"
      },
      "execution_count": null,
      "outputs": []
    }
  ]
}